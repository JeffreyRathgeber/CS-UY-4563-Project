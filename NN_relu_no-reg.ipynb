{
  "nbformat": 4,
  "nbformat_minor": 0,
  "metadata": {
    "colab": {
      "provenance": []
    },
    "kernelspec": {
      "name": "python3",
      "display_name": "Python 3"
    },
    "language_info": {
      "name": "python"
    }
  },
  "cells": [
    {
      "cell_type": "code",
      "source": [
        "from sklearn.datasets import load_digits\n",
        "from sklearn.preprocessing import StandardScaler \n",
        "from sklearn.model_selection import train_test_split\n",
        "from sklearn.metrics import accuracy_score \n",
        "import numpy as np\n",
        "import numpy.random as r\n",
        "import matplotlib.pyplot as plt \n",
        "import pandas as pd"
      ],
      "metadata": {
        "id": "iBMkwlFM4jWu"
      },
      "execution_count": 1,
      "outputs": []
    },
    {
      "cell_type": "markdown",
      "source": [
        "**Preprocessing the data:**"
      ],
      "metadata": {
        "id": "hbNDe5jYQo5j"
      }
    },
    {
      "cell_type": "code",
      "source": [
        "df = pd.read_csv('diamonds.csv', na_values = ['unknown'])\n",
        "col = df.columns.values.tolist()[1:]\n",
        "\n",
        "# Columns with NaN content > null_threshold will not be used as features\n",
        "null_threshold = 0.0001\n",
        "\n",
        "corrupt_col = []\n",
        "for i in col:\n",
        "  if (df[i].isna().sum()/len(df) > null_threshold):\n",
        "    corrupt_col.append(i)\n",
        "\n",
        "for i in corrupt_col:\n",
        "  df = df.drop(i, axis=1)\n",
        "\n",
        "col = df.columns.values.tolist()[1:]\n",
        "\n",
        "# feature data frames with one-hot encoding to concatinate once encoded\n",
        "cut = pd.get_dummies(df.cut, prefix='cut')\n",
        "carat_weight = pd.DataFrame(df['carat_weight'])\n",
        "lab = pd.get_dummies(df.lab, prefix='lab')\n",
        "depth_percent = pd.DataFrame(df['depth_percent'])\n",
        "table_percent = pd.DataFrame(df['table_percent'])\n",
        "meas_length = pd.DataFrame(df['meas_length'])\n",
        "meas_width = pd.DataFrame(df['meas_width'])\n",
        "meas_depth = pd.DataFrame(df['meas_depth'])\n",
        "total_sales_price = pd.DataFrame(df['total_sales_price'])\n",
        "\n",
        "# convert clarity to int 0-10\n",
        "clarity = pd.DataFrame(df['clarity'])\n",
        "for i in range(len(clarity)):\n",
        "  grade = ['I3', 'I2', 'I1', 'IF', 'SI3', 'SI2', 'SI1', 'VS2', 'VS1', 'VVS2', 'VVS1']\n",
        "  clarity['clarity'][i] = grade.index(clarity['clarity'][i])\n",
        "\n",
        "# convert symmetry to int 0-4\n",
        "symmetry = pd.DataFrame(df['symmetry'])\n",
        "for i in range(len(symmetry)):\n",
        "  sym = ['Poor', 'Fair', 'Good', 'Very Good', 'Excellent']\n",
        "  symmetry['symmetry'][i] = sym.index(symmetry['symmetry'][i])\n",
        "\n",
        "# convert polish to int 0-4\n",
        "polish = pd.DataFrame(df['polish'])\n",
        "for i in range(len(polish)):\n",
        "  pol = ['Poor', 'Fair', 'Good', 'Very Good', 'Excellent']\n",
        "  polish['polish'][i] = pol.index(polish['polish'][i])\n",
        "\n",
        "# combining features into cleaned dataframe for regression\n",
        "frames = [clarity, carat_weight, lab, symmetry, polish, depth_percent, table_percent, meas_length, meas_width, meas_depth, total_sales_price]\n",
        "clean_regression = pd.concat(frames, axis=1)\n",
        "\n",
        "# update list of column names\n",
        "col = clean_regression.columns.values.tolist()[1:]\n",
        "\n",
        "# updating total_sales_price for classiffication(i.e. 1 if price > x, otherwise 0 for some threshold x)\n",
        "price_threshold = 250\n",
        "\n",
        "clean_classification = clean_regression.copy()\n",
        "\n",
        "for i in range(len(clean_classification)):\n",
        "  if clean_classification['total_sales_price'][i] > price_threshold:\n",
        "    clean_classification['total_sales_price'][i] = 1\n",
        "  else:\n",
        "    clean_classification['total_sales_price'][i] = 0"
      ],
      "metadata": {
        "colab": {
          "base_uri": "https://localhost:8080/"
        },
        "id": "jYiy4wXx_dWe",
        "outputId": "f069aee4-ac1b-469c-d822-53640eec6aba"
      },
      "execution_count": 2,
      "outputs": [
        {
          "output_type": "stream",
          "name": "stderr",
          "text": [
            "<ipython-input-2-54df3467acd3>:62: SettingWithCopyWarning: \n",
            "A value is trying to be set on a copy of a slice from a DataFrame\n",
            "\n",
            "See the caveats in the documentation: https://pandas.pydata.org/pandas-docs/stable/user_guide/indexing.html#returning-a-view-versus-a-copy\n",
            "  clean_classification['total_sales_price'][i] = 0\n",
            "<ipython-input-2-54df3467acd3>:60: SettingWithCopyWarning: \n",
            "A value is trying to be set on a copy of a slice from a DataFrame\n",
            "\n",
            "See the caveats in the documentation: https://pandas.pydata.org/pandas-docs/stable/user_guide/indexing.html#returning-a-view-versus-a-copy\n",
            "  clean_classification['total_sales_price'][i] = 1\n"
          ]
        }
      ]
    },
    {
      "cell_type": "code",
      "source": [
        "# converts 2d numpy array of value to array of vectors\n",
        "# to use one-verses-all encoding for every 10th percetnile\n",
        "# of diamond prices present in the dataset - **modified from HW5**\n",
        "def convert_y_to_vect(y):\n",
        "    blocks = 10\n",
        "    block_size = len(y) // blocks\n",
        "    index = []\n",
        "    for i in range(blocks):\n",
        "      index.append(y[i*block_size][0])\n",
        "    y = y[0:(len(y)-len(y)%blocks)]\n",
        "    for i in range(len(y)):\n",
        "      for j in range(len(index)):\n",
        "            if j == len(index)-1:\n",
        "              y[i] = j\n",
        "            else:\n",
        "              if y[i] > index[j] and y[i] <= index[j+1]:\n",
        "                y[i] = j\n",
        "                break\n",
        "              else:\n",
        "                continue\n",
        "    return y\n",
        "    # blocks = 10\n",
        "    # block_size = len(y) // blocks\n",
        "    # index = []\n",
        "    # for i in range(blocks):\n",
        "    #   index.append(y[i*block_size][0])\n",
        "    # y = y[0:(len(y)-len(y)%blocks)]\n",
        "    # y_vect = np.zeros((len(y), blocks))\n",
        "    # for i in range(len(y)):\n",
        "    #   for j in range(len(index)):\n",
        "    #     if j == len(index)-1:\n",
        "    #       y_vect[i][j] = 1\n",
        "    #     else:\n",
        "    #       if y[i] >= index[j] and y[i] <= index[j+1]:\n",
        "    #         y_vect[i][j] = 1\n",
        "    #         break\n",
        "    #       else:\n",
        "    #         continue\n",
        "    # return y_vect"
      ],
      "metadata": {
        "id": "v3DgmVuK7Sn1"
      },
      "execution_count": 3,
      "outputs": []
    },
    {
      "cell_type": "code",
      "source": [
        "X = np.zeros((len(clean_regression), 1))\n",
        "columns =  clean_regression.columns.to_list()\n",
        "\n",
        "for i in columns:\n",
        "  temp = clean_regression[i].to_numpy().reshape(len(clean_regression), 1)\n",
        "  X = np.concatenate((X, temp), 1)\n",
        "\n",
        "X = np.delete(X, 13, axis=1)\n",
        "X = np.delete(X, 0, axis=1)\n",
        "\n",
        "y = clean_regression['total_sales_price'].to_numpy().reshape(len(clean_regression), 1)\n",
        "\n",
        "for i in range(len(y)%10):\n",
        "  X = X[:-1,:]\n",
        "\n",
        "y = convert_y_to_vect(y)\n",
        "\n",
        "X_scale = StandardScaler()\n",
        "X = X_scale.fit_transform(X)\n",
        "\n",
        "# shuffle\n",
        "r_indexes = np.arange(len(X))\n",
        "np.random.shuffle(r_indexes)\n",
        "\n",
        "X = X[r_indexes]\n",
        "y = y[r_indexes]\n",
        "\n",
        "# take certain amount of examples\n",
        "X = X[:5000]\n",
        "y = y[:5000]\n",
        "\n",
        "X_train, X_test, y_train, y_test = train_test_split(X, y, test_size=0.4)"
      ],
      "metadata": {
        "id": "XORAnZVB2LWs"
      },
      "execution_count": 4,
      "outputs": []
    },
    {
      "cell_type": "code",
      "execution_count": 5,
      "metadata": {
        "id": "iCz9VZ6btFP1"
      },
      "outputs": [],
      "source": [
        "# relu and derivative of relu\n",
        "def f(z):\n",
        "    return np.maximum(0, z)\n",
        "    \n",
        "\n",
        "def f_deriv(z):\n",
        "    c = z\n",
        "    c[c <= 0] = 0\n",
        "    c[c > 0] = 1\n",
        "    return c"
      ]
    },
    {
      "cell_type": "code",
      "source": [
        "# initializing weights, W, and biases, b - **from HW5**\n",
        "def setup_and_init_weights(nn_structure):\n",
        "    W = {}\n",
        "    b = {}\n",
        "    for l in range(1, len(nn_structure)):\n",
        "        W[l] = r.random_sample((nn_structure[l], nn_structure[l-1]))\n",
        "        b[l] = r.random_sample((nn_structure[l],))\n",
        "    return W, b"
      ],
      "metadata": {
        "id": "QCjECPQ0407j"
      },
      "execution_count": 6,
      "outputs": []
    },
    {
      "cell_type": "code",
      "source": [
        "# initalize gradient vector of W and b with same size, set to zero - **from HW5**\n",
        "def init_tri_values(nn_structure):\n",
        "    tri_W = {}\n",
        "    tri_b = {}\n",
        "    for l in range(1, len(nn_structure)):\n",
        "        tri_W[l] = np.zeros((nn_structure[l], nn_structure[l-1]))\n",
        "        tri_b[l] = np.zeros((nn_structure[l],))\n",
        "    return tri_W, tri_b"
      ],
      "metadata": {
        "id": "1s5dYGca6LJe"
      },
      "execution_count": 7,
      "outputs": []
    },
    {
      "cell_type": "code",
      "source": [
        "# dict to hold a and z values for all layers - **from HW5**\n",
        "def feed_forward(x, W, b):\n",
        "    a = {1: x}\n",
        "    z = { }\n",
        "    for l in range(1, len(W) + 1): # for each layer\n",
        "        node_in = a[l]\n",
        "        z[l+1] = W[l].dot(node_in) + b[l]  # z^(l+1) = W^(l)*a^(l) + b^(l)\n",
        "        a[l+1] = f(z[l+1]) # a^(l+1) = f(z^(l+1))\n",
        "    return a, z"
      ],
      "metadata": {
        "id": "JHfh_oBF6JSd"
      },
      "execution_count": 8,
      "outputs": []
    },
    {
      "cell_type": "code",
      "source": [
        "# delta calculator functions - **from HW5**\n",
        "def calculate_out_layer_delta(y, a_out, z_out):\n",
        "    # delta^(nl) = -(y_i - a_i^(nl)) * f'(z_i^(nl))\n",
        "    return -(y-a_out) * f_deriv(z_out) \n",
        "\n",
        "\n",
        "def calculate_hidden_delta(delta_plus_1, w_l, z_l):\n",
        "    # delta^(l) = (transpose(W^(l)) * delta^(l+1)) * f'(z^(l))\n",
        "    return np.dot(np.transpose(w_l), delta_plus_1) * f_deriv(z_l)"
      ],
      "metadata": {
        "id": "bEMJ9VZP6hIk"
      },
      "execution_count": 9,
      "outputs": []
    },
    {
      "cell_type": "code",
      "source": [
        "# Back propogation - **from HW5**\n",
        "def train_nn(nn_structure, X, y, iter_num=3000, alpha=0.25):\n",
        "    W, b = setup_and_init_weights(nn_structure)\n",
        "    cnt = 0\n",
        "    N = len(y)\n",
        "    avg_cost_func = []\n",
        "    print('Starting gradient descent for {} iterations'.format(iter_num))\n",
        "    while cnt < iter_num:\n",
        "        if cnt%1000 == 0:\n",
        "            print('Iteration {} of {}'.format(cnt, iter_num))\n",
        "        tri_W, tri_b = init_tri_values(nn_structure)\n",
        "        avg_cost = 0\n",
        "        for i in range(N):\n",
        "            delta = {}\n",
        "            # perform the feed forward pass and return the stored a and z values, to be used in the\n",
        "            # gradient descent step\n",
        "            a, z = feed_forward(X[i, :], W, b)\n",
        "            # loop from nl-1 to 1 backpropagating the errors\n",
        "            for l in range(len(nn_structure), 0, -1):\n",
        "                if l == len(nn_structure):\n",
        "                    delta[l] = calculate_out_layer_delta(y[i,:], a[l], z[l])\n",
        "                    avg_cost += np.linalg.norm((y[i,:]-a[l]))\n",
        "                else:\n",
        "                    if l > 1:\n",
        "                        delta[l] = calculate_hidden_delta(delta[l+1], W[l], z[l])\n",
        "                    # triW^(l) = triW^(l) + delta^(l+1) * transpose(a^(l))\n",
        "                    tri_W[l] += np.dot(delta[l+1][:,np.newaxis], np.transpose(a[l][:,np.newaxis]))# np.newaxis increase the number of dimensions\n",
        "                    # trib^(l) = trib^(l) + delta^(l+1)\n",
        "                    tri_b[l] += delta[l+1]\n",
        "        # perform the gradient descent step for the weights in each layer\n",
        "        for l in range(len(nn_structure) - 1, 0, -1):\n",
        "            W[l] += -alpha * (1.0/N * tri_W[l])\n",
        "            b[l] += -alpha * (1.0/N * tri_b[l])\n",
        "        # complete the average cost calculation\n",
        "        avg_cost = 1.0/N * avg_cost\n",
        "        avg_cost_func.append(avg_cost)\n",
        "        cnt += 1\n",
        "    return W, b, avg_cost_func\n",
        "\n",
        "\n",
        "def predict_y(W, b, X, n_layers):\n",
        "    N = X.shape[0]\n",
        "    y = np.zeros((N,))\n",
        "    for i in range(N):\n",
        "        a, z = feed_forward(X[i, :], W, b)\n",
        "        y[i] = np.argmax(a[n_layers])\n",
        "    return y"
      ],
      "metadata": {
        "id": "CdeuWnwS6hK6"
      },
      "execution_count": 10,
      "outputs": []
    },
    {
      "cell_type": "code",
      "source": [
        "# NN parameter\n",
        "nn_structure = [12, 10, 10]\n",
        "iterations = 2000"
      ],
      "metadata": {
        "id": "aEiHtDSSIAes"
      },
      "execution_count": 11,
      "outputs": []
    },
    {
      "cell_type": "code",
      "source": [
        "# train the NN\n",
        "W, b, avg_cost_func = train_nn(nn_structure, X_train, y_train, iterations)"
      ],
      "metadata": {
        "colab": {
          "base_uri": "https://localhost:8080/"
        },
        "id": "739md-0r6hNO",
        "outputId": "b9148315-6898-455d-e62b-e6ecf1e72e99"
      },
      "execution_count": 12,
      "outputs": [
        {
          "output_type": "stream",
          "name": "stdout",
          "text": [
            "Starting gradient descent for 2000 iterations\n",
            "Iteration 0 of 2000\n",
            "Iteration 1000 of 2000\n"
          ]
        }
      ]
    },
    {
      "cell_type": "code",
      "source": [
        "# test accuracy of model\n",
        "y_pred = predict_y(W, b, X_test, 3)\n",
        "accuracy = accuracy_score(y_test, y_pred) * 100\n",
        "print('Prediction accuracy is {}%'.format(accuracy))"
      ],
      "metadata": {
        "colab": {
          "base_uri": "https://localhost:8080/"
        },
        "id": "mJD4S28ofXP3",
        "outputId": "bb0b64b0-480a-46e3-e26a-11417ca847f7"
      },
      "execution_count": 13,
      "outputs": [
        {
          "output_type": "stream",
          "name": "stdout",
          "text": [
            "Prediction accuracy is 12.9%\n"
          ]
        }
      ]
    },
    {
      "cell_type": "code",
      "source": [
        "# plot the avg_cost_func - **from HW5**\n",
        "plt.plot(avg_cost_func)\n",
        "plt.title('{} Iterations of structure {} with Sigmoid & No Regularization'.format(iterations, nn_structure))\n",
        "plt.ylabel('Average J')\n",
        "plt.xlabel('Iteration number')\n",
        "plt.show()"
      ],
      "metadata": {
        "colab": {
          "base_uri": "https://localhost:8080/",
          "height": 471
        },
        "id": "MZ5ywTDL-fwS",
        "outputId": "9e72079f-be04-4f99-9c88-db8da1e19c6e"
      },
      "execution_count": 15,
      "outputs": [
        {
          "output_type": "display_data",
          "data": {
            "text/plain": [
              "<Figure size 640x480 with 1 Axes>"
            ],
            "image/png": "[encoded data removed]"
          },
          "metadata": {}
        }
      ]
    }
  ]
}