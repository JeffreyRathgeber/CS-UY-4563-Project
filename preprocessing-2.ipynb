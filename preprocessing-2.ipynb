{
 "cells": [
  {
   "cell_type": "code",
   "execution_count": 67,
   "metadata": {
    "id": "jxIjRQlYySLC"
   },
   "outputs": [],
   "source": [
    "import numpy as np\n",
    "import matplotlib.pyplot as plt\n",
    "import pandas as pd\n",
    "from sklearn import preprocessing\n",
    "from sklearn.preprocessing import StandardScaler\n",
    "from sklearn.svm import SVR\n",
    "from sklearn.model_selection import train_test_split\n",
    "\n",
    "df = pd.read_csv('diamonds.csv', na_values = ['unknown'])\n",
    "col = df.columns.values.tolist()[1:]"
   ]
  },
  {
   "cell_type": "code",
   "execution_count": 4,
   "metadata": {
    "id": "19d62ucGFz6f"
   },
   "outputs": [],
   "source": [
    "# Columns with NaN content > null_threshold will not be used as features\n",
    "null_threshold = 0.0001\n",
    "\n",
    "corrupt_col = []\n",
    "for i in col:\n",
    "  if (df[i].isna().sum()/len(df) > null_threshold):\n",
    "    corrupt_col.append(i)\n",
    "\n",
    "for i in corrupt_col:\n",
    "  df = df.drop(i, axis=1)\n",
    "\n",
    "col = df.columns.values.tolist()[1:]"
   ]
  },
  {
   "cell_type": "code",
   "execution_count": 5,
   "metadata": {
    "id": "8QnbP8pdjQwy"
   },
   "outputs": [],
   "source": [
    "# feature data frames with one-hot encoding to concatinate once encoded\n",
    "cut = pd.get_dummies(df.cut, prefix='cut')\n",
    "carat_weight = pd.DataFrame(df['carat_weight'])\n",
    "lab = pd.get_dummies(df.lab, prefix='lab')\n",
    "depth_percent = pd.DataFrame(df['depth_percent'])\n",
    "table_percent = pd.DataFrame(df['table_percent'])\n",
    "meas_length = pd.DataFrame(df['meas_length'])\n",
    "meas_width = pd.DataFrame(df['meas_width'])\n",
    "meas_depth = pd.DataFrame(df['meas_depth'])\n",
    "total_sales_price = pd.DataFrame(df['total_sales_price'])\n",
    "\n",
    "# convert clarity to int 0-10\n",
    "clarity = pd.DataFrame(df['clarity'])\n",
    "for i in range(len(clarity)):\n",
    "  grade = ['I3', 'I2', 'I1', 'IF', 'SI3', 'SI2', 'SI1', 'VS2', 'VS1', 'VVS2', 'VVS1']\n",
    "  clarity['clarity'][i] = grade.index(clarity['clarity'][i])\n",
    "\n",
    "# convert symmetry to int 0-4\n",
    "symmetry = pd.DataFrame(df['symmetry'])\n",
    "for i in range(len(symmetry)):\n",
    "  sym = ['Poor', 'Fair', 'Good', 'Very Good', 'Excellent']\n",
    "  symmetry['symmetry'][i] = sym.index(symmetry['symmetry'][i])\n",
    "\n",
    "# convert polish to int 0-4\n",
    "polish = pd.DataFrame(df['polish'])\n",
    "for i in range(len(polish)):\n",
    "  pol = ['Poor', 'Fair', 'Good', 'Very Good', 'Excellent']\n",
    "  polish['polish'][i] = pol.index(polish['polish'][i])"
   ]
  },
  {
   "cell_type": "code",
   "execution_count": 6,
   "metadata": {
    "id": "Ox3RLTsKP-pm"
   },
   "outputs": [],
   "source": [
    "# combining features into cleaned dataframe for regression\n",
    "frames = [clarity, carat_weight, lab, symmetry, polish, depth_percent, table_percent, meas_length, meas_width, meas_depth, total_sales_price]\n",
    "clean_regression = pd.concat(frames, axis=1)\n",
    "\n",
    "# update list of column names\n",
    "col = clean_regression.columns.values.tolist()[1:]"
   ]
  },
  {
   "cell_type": "code",
   "execution_count": 7,
   "metadata": {
    "id": "XJk8zFFOVIi4"
   },
   "outputs": [],
   "source": [
    "# updating total_sales_price for classiffication(i.e. 1 if price > x, otherwise 0 for some threshold x)\n",
    "price_threshold = 2000\n",
    "#print(clean_regression.loc[[150000]])\n",
    "clean_classification = clean_regression.copy()"
   ]
  },
  {
   "cell_type": "code",
   "execution_count": 8,
   "metadata": {
    "colab": {
     "base_uri": "https://localhost:8080/"
    },
    "id": "h6E5jtpTafEf",
    "outputId": "aef0ba3d-1b80-4149-b324-2dd4d46f63f3"
   },
   "outputs": [
    {
     "name": "stderr",
     "output_type": "stream",
     "text": [
      "/var/folders/qh/_8d282g95dz3yjwwq937nb4h0000gn/T/ipykernel_34273/3606538199.py:5: SettingWithCopyWarning: \n",
      "A value is trying to be set on a copy of a slice from a DataFrame\n",
      "\n",
      "See the caveats in the documentation: https://pandas.pydata.org/pandas-docs/stable/user_guide/indexing.html#returning-a-view-versus-a-copy\n",
      "  clean_classification['total_sales_price'][i] = 0\n",
      "/var/folders/qh/_8d282g95dz3yjwwq937nb4h0000gn/T/ipykernel_34273/3606538199.py:3: SettingWithCopyWarning: \n",
      "A value is trying to be set on a copy of a slice from a DataFrame\n",
      "\n",
      "See the caveats in the documentation: https://pandas.pydata.org/pandas-docs/stable/user_guide/indexing.html#returning-a-view-versus-a-copy\n",
      "  clean_classification['total_sales_price'][i] = 1\n"
     ]
    }
   ],
   "source": [
    "\n",
    "for i in range(len(clean_classification)):\n",
    "  if clean_classification['total_sales_price'][i] > price_threshold:\n",
    "    clean_classification['total_sales_price'][i] = 1\n",
    "  else:\n",
    "    clean_classification['total_sales_price'][i] = 0"
   ]
  },
  {
   "cell_type": "code",
   "execution_count": 16,
   "metadata": {
    "colab": {
     "base_uri": "https://localhost:8080/",
     "height": 352
    },
    "id": "0F24Ly3MCPLv",
    "outputId": "6b914557-8112-4b62-fd06-4219b16e507f"
   },
   "outputs": [
    {
     "data": {
      "text/html": [
       "<div>\n",
       "<style scoped>\n",
       "    .dataframe tbody tr th:only-of-type {\n",
       "        vertical-align: middle;\n",
       "    }\n",
       "\n",
       "    .dataframe tbody tr th {\n",
       "        vertical-align: top;\n",
       "    }\n",
       "\n",
       "    .dataframe thead th {\n",
       "        text-align: right;\n",
       "    }\n",
       "</style>\n",
       "<table border=\"1\" class=\"dataframe\">\n",
       "  <thead>\n",
       "    <tr style=\"text-align: right;\">\n",
       "      <th></th>\n",
       "      <th>clarity</th>\n",
       "      <th>carat_weight</th>\n",
       "      <th>lab_GIA</th>\n",
       "      <th>lab_HRD</th>\n",
       "      <th>lab_IGI</th>\n",
       "      <th>symmetry</th>\n",
       "      <th>polish</th>\n",
       "      <th>depth_percent</th>\n",
       "      <th>table_percent</th>\n",
       "      <th>meas_length</th>\n",
       "      <th>meas_width</th>\n",
       "      <th>meas_depth</th>\n",
       "      <th>total_sales_price</th>\n",
       "    </tr>\n",
       "  </thead>\n",
       "  <tbody>\n",
       "    <tr>\n",
       "      <th>0</th>\n",
       "      <td>9</td>\n",
       "      <td>0.09</td>\n",
       "      <td>0</td>\n",
       "      <td>0</td>\n",
       "      <td>1</td>\n",
       "      <td>3</td>\n",
       "      <td>3</td>\n",
       "      <td>62.7</td>\n",
       "      <td>59.0</td>\n",
       "      <td>2.85</td>\n",
       "      <td>2.87</td>\n",
       "      <td>1.79</td>\n",
       "      <td>200</td>\n",
       "    </tr>\n",
       "    <tr>\n",
       "      <th>1</th>\n",
       "      <td>9</td>\n",
       "      <td>0.09</td>\n",
       "      <td>0</td>\n",
       "      <td>0</td>\n",
       "      <td>1</td>\n",
       "      <td>3</td>\n",
       "      <td>3</td>\n",
       "      <td>61.9</td>\n",
       "      <td>59.0</td>\n",
       "      <td>2.84</td>\n",
       "      <td>2.89</td>\n",
       "      <td>1.78</td>\n",
       "      <td>200</td>\n",
       "    </tr>\n",
       "    <tr>\n",
       "      <th>2</th>\n",
       "      <td>9</td>\n",
       "      <td>0.09</td>\n",
       "      <td>0</td>\n",
       "      <td>0</td>\n",
       "      <td>1</td>\n",
       "      <td>3</td>\n",
       "      <td>3</td>\n",
       "      <td>61.1</td>\n",
       "      <td>59.0</td>\n",
       "      <td>2.88</td>\n",
       "      <td>2.90</td>\n",
       "      <td>1.77</td>\n",
       "      <td>200</td>\n",
       "    </tr>\n",
       "    <tr>\n",
       "      <th>3</th>\n",
       "      <td>9</td>\n",
       "      <td>0.09</td>\n",
       "      <td>0</td>\n",
       "      <td>0</td>\n",
       "      <td>1</td>\n",
       "      <td>3</td>\n",
       "      <td>3</td>\n",
       "      <td>62.0</td>\n",
       "      <td>59.0</td>\n",
       "      <td>2.86</td>\n",
       "      <td>2.88</td>\n",
       "      <td>1.78</td>\n",
       "      <td>200</td>\n",
       "    </tr>\n",
       "    <tr>\n",
       "      <th>4</th>\n",
       "      <td>9</td>\n",
       "      <td>0.09</td>\n",
       "      <td>0</td>\n",
       "      <td>0</td>\n",
       "      <td>1</td>\n",
       "      <td>3</td>\n",
       "      <td>4</td>\n",
       "      <td>64.9</td>\n",
       "      <td>58.5</td>\n",
       "      <td>2.79</td>\n",
       "      <td>2.83</td>\n",
       "      <td>1.82</td>\n",
       "      <td>200</td>\n",
       "    </tr>\n",
       "    <tr>\n",
       "      <th>5</th>\n",
       "      <td>9</td>\n",
       "      <td>0.09</td>\n",
       "      <td>0</td>\n",
       "      <td>0</td>\n",
       "      <td>1</td>\n",
       "      <td>3</td>\n",
       "      <td>3</td>\n",
       "      <td>60.8</td>\n",
       "      <td>57.0</td>\n",
       "      <td>2.95</td>\n",
       "      <td>2.99</td>\n",
       "      <td>1.81</td>\n",
       "      <td>200</td>\n",
       "    </tr>\n",
       "    <tr>\n",
       "      <th>6</th>\n",
       "      <td>9</td>\n",
       "      <td>0.09</td>\n",
       "      <td>0</td>\n",
       "      <td>0</td>\n",
       "      <td>1</td>\n",
       "      <td>3</td>\n",
       "      <td>3</td>\n",
       "      <td>64.0</td>\n",
       "      <td>57.0</td>\n",
       "      <td>2.85</td>\n",
       "      <td>2.88</td>\n",
       "      <td>1.84</td>\n",
       "      <td>200</td>\n",
       "    </tr>\n",
       "    <tr>\n",
       "      <th>7</th>\n",
       "      <td>9</td>\n",
       "      <td>0.09</td>\n",
       "      <td>0</td>\n",
       "      <td>0</td>\n",
       "      <td>1</td>\n",
       "      <td>3</td>\n",
       "      <td>3</td>\n",
       "      <td>62.1</td>\n",
       "      <td>59.5</td>\n",
       "      <td>2.86</td>\n",
       "      <td>2.89</td>\n",
       "      <td>1.78</td>\n",
       "      <td>200</td>\n",
       "    </tr>\n",
       "    <tr>\n",
       "      <th>8</th>\n",
       "      <td>9</td>\n",
       "      <td>0.09</td>\n",
       "      <td>0</td>\n",
       "      <td>0</td>\n",
       "      <td>1</td>\n",
       "      <td>3</td>\n",
       "      <td>3</td>\n",
       "      <td>63.5</td>\n",
       "      <td>59.5</td>\n",
       "      <td>2.89</td>\n",
       "      <td>2.92</td>\n",
       "      <td>1.85</td>\n",
       "      <td>200</td>\n",
       "    </tr>\n",
       "    <tr>\n",
       "      <th>9</th>\n",
       "      <td>9</td>\n",
       "      <td>0.09</td>\n",
       "      <td>0</td>\n",
       "      <td>0</td>\n",
       "      <td>1</td>\n",
       "      <td>3</td>\n",
       "      <td>3</td>\n",
       "      <td>63.2</td>\n",
       "      <td>57.0</td>\n",
       "      <td>2.83</td>\n",
       "      <td>2.87</td>\n",
       "      <td>1.80</td>\n",
       "      <td>200</td>\n",
       "    </tr>\n",
       "  </tbody>\n",
       "</table>\n",
       "</div>"
      ],
      "text/plain": [
       "  clarity  carat_weight  lab_GIA  lab_HRD  lab_IGI symmetry polish  \\\n",
       "0       9          0.09        0        0        1        3      3   \n",
       "1       9          0.09        0        0        1        3      3   \n",
       "2       9          0.09        0        0        1        3      3   \n",
       "3       9          0.09        0        0        1        3      3   \n",
       "4       9          0.09        0        0        1        3      4   \n",
       "5       9          0.09        0        0        1        3      3   \n",
       "6       9          0.09        0        0        1        3      3   \n",
       "7       9          0.09        0        0        1        3      3   \n",
       "8       9          0.09        0        0        1        3      3   \n",
       "9       9          0.09        0        0        1        3      3   \n",
       "\n",
       "   depth_percent  table_percent  meas_length  meas_width  meas_depth  \\\n",
       "0           62.7           59.0         2.85        2.87        1.79   \n",
       "1           61.9           59.0         2.84        2.89        1.78   \n",
       "2           61.1           59.0         2.88        2.90        1.77   \n",
       "3           62.0           59.0         2.86        2.88        1.78   \n",
       "4           64.9           58.5         2.79        2.83        1.82   \n",
       "5           60.8           57.0         2.95        2.99        1.81   \n",
       "6           64.0           57.0         2.85        2.88        1.84   \n",
       "7           62.1           59.5         2.86        2.89        1.78   \n",
       "8           63.5           59.5         2.89        2.92        1.85   \n",
       "9           63.2           57.0         2.83        2.87        1.80   \n",
       "\n",
       "   total_sales_price  \n",
       "0                200  \n",
       "1                200  \n",
       "2                200  \n",
       "3                200  \n",
       "4                200  \n",
       "5                200  \n",
       "6                200  \n",
       "7                200  \n",
       "8                200  \n",
       "9                200  "
      ]
     },
     "execution_count": 16,
     "metadata": {},
     "output_type": "execute_result"
    }
   ],
   "source": [
    "clean_regression.head(10)"
   ]
  },
  {
   "cell_type": "code",
   "execution_count": 24,
   "metadata": {
    "colab": {
     "base_uri": "https://localhost:8080/",
     "height": 352
    },
    "id": "yG44swHFWnKy",
    "outputId": "9e87d4bd-37cb-4b15-dbfb-323ed47f1cbe"
   },
   "outputs": [
    {
     "data": {
      "text/html": [
       "\n",
       "  <div id=\"df-004103e9-1883-43e7-821e-aace98b679d8\">\n",
       "    <div class=\"colab-df-container\">\n",
       "      <div>\n",
       "<style scoped>\n",
       "    .dataframe tbody tr th:only-of-type {\n",
       "        vertical-align: middle;\n",
       "    }\n",
       "\n",
       "    .dataframe tbody tr th {\n",
       "        vertical-align: top;\n",
       "    }\n",
       "\n",
       "    .dataframe thead th {\n",
       "        text-align: right;\n",
       "    }\n",
       "</style>\n",
       "<table border=\"1\" class=\"dataframe\">\n",
       "  <thead>\n",
       "    <tr style=\"text-align: right;\">\n",
       "      <th></th>\n",
       "      <th>clarity</th>\n",
       "      <th>carat_weight</th>\n",
       "      <th>lab_GIA</th>\n",
       "      <th>lab_HRD</th>\n",
       "      <th>lab_IGI</th>\n",
       "      <th>symmetry</th>\n",
       "      <th>polish</th>\n",
       "      <th>depth_percent</th>\n",
       "      <th>table_percent</th>\n",
       "      <th>meas_length</th>\n",
       "      <th>meas_width</th>\n",
       "      <th>meas_depth</th>\n",
       "      <th>total_sales_price</th>\n",
       "    </tr>\n",
       "  </thead>\n",
       "  <tbody>\n",
       "    <tr>\n",
       "      <th>219693</th>\n",
       "      <td>3</td>\n",
       "      <td>12.52</td>\n",
       "      <td>1</td>\n",
       "      <td>0</td>\n",
       "      <td>0</td>\n",
       "      <td>4</td>\n",
       "      <td>4</td>\n",
       "      <td>62.1</td>\n",
       "      <td>58.0</td>\n",
       "      <td>14.84</td>\n",
       "      <td>14.91</td>\n",
       "      <td>9.24</td>\n",
       "      <td>1121792</td>\n",
       "    </tr>\n",
       "    <tr>\n",
       "      <th>219694</th>\n",
       "      <td>3</td>\n",
       "      <td>12.52</td>\n",
       "      <td>0</td>\n",
       "      <td>1</td>\n",
       "      <td>0</td>\n",
       "      <td>4</td>\n",
       "      <td>4</td>\n",
       "      <td>62.1</td>\n",
       "      <td>58.0</td>\n",
       "      <td>14.84</td>\n",
       "      <td>14.91</td>\n",
       "      <td>9.24</td>\n",
       "      <td>1121792</td>\n",
       "    </tr>\n",
       "    <tr>\n",
       "      <th>219695</th>\n",
       "      <td>10</td>\n",
       "      <td>10.00</td>\n",
       "      <td>1</td>\n",
       "      <td>0</td>\n",
       "      <td>0</td>\n",
       "      <td>3</td>\n",
       "      <td>4</td>\n",
       "      <td>78.1</td>\n",
       "      <td>60.0</td>\n",
       "      <td>11.78</td>\n",
       "      <td>10.84</td>\n",
       "      <td>8.47</td>\n",
       "      <td>1124122</td>\n",
       "    </tr>\n",
       "    <tr>\n",
       "      <th>219696</th>\n",
       "      <td>7</td>\n",
       "      <td>18.88</td>\n",
       "      <td>1</td>\n",
       "      <td>0</td>\n",
       "      <td>0</td>\n",
       "      <td>4</td>\n",
       "      <td>4</td>\n",
       "      <td>57.1</td>\n",
       "      <td>55.0</td>\n",
       "      <td>21.34</td>\n",
       "      <td>15.23</td>\n",
       "      <td>8.69</td>\n",
       "      <td>1132347</td>\n",
       "    </tr>\n",
       "    <tr>\n",
       "      <th>219697</th>\n",
       "      <td>8</td>\n",
       "      <td>10.04</td>\n",
       "      <td>1</td>\n",
       "      <td>0</td>\n",
       "      <td>0</td>\n",
       "      <td>4</td>\n",
       "      <td>4</td>\n",
       "      <td>72.8</td>\n",
       "      <td>55.0</td>\n",
       "      <td>14.13</td>\n",
       "      <td>10.86</td>\n",
       "      <td>7.90</td>\n",
       "      <td>1161102</td>\n",
       "    </tr>\n",
       "    <tr>\n",
       "      <th>219698</th>\n",
       "      <td>8</td>\n",
       "      <td>10.65</td>\n",
       "      <td>1</td>\n",
       "      <td>0</td>\n",
       "      <td>0</td>\n",
       "      <td>4</td>\n",
       "      <td>4</td>\n",
       "      <td>61.3</td>\n",
       "      <td>58.0</td>\n",
       "      <td>14.06</td>\n",
       "      <td>14.18</td>\n",
       "      <td>8.66</td>\n",
       "      <td>1210692</td>\n",
       "    </tr>\n",
       "    <tr>\n",
       "      <th>219699</th>\n",
       "      <td>7</td>\n",
       "      <td>5.17</td>\n",
       "      <td>1</td>\n",
       "      <td>0</td>\n",
       "      <td>0</td>\n",
       "      <td>3</td>\n",
       "      <td>3</td>\n",
       "      <td>64.8</td>\n",
       "      <td>65.0</td>\n",
       "      <td>11.55</td>\n",
       "      <td>8.81</td>\n",
       "      <td>5.71</td>\n",
       "      <td>1292500</td>\n",
       "    </tr>\n",
       "    <tr>\n",
       "      <th>219700</th>\n",
       "      <td>8</td>\n",
       "      <td>18.07</td>\n",
       "      <td>1</td>\n",
       "      <td>0</td>\n",
       "      <td>0</td>\n",
       "      <td>4</td>\n",
       "      <td>4</td>\n",
       "      <td>60.2</td>\n",
       "      <td>59.0</td>\n",
       "      <td>17.06</td>\n",
       "      <td>17.10</td>\n",
       "      <td>10.20</td>\n",
       "      <td>1315496</td>\n",
       "    </tr>\n",
       "    <tr>\n",
       "      <th>219701</th>\n",
       "      <td>5</td>\n",
       "      <td>0.90</td>\n",
       "      <td>1</td>\n",
       "      <td>0</td>\n",
       "      <td>0</td>\n",
       "      <td>2</td>\n",
       "      <td>2</td>\n",
       "      <td>70.8</td>\n",
       "      <td>72.0</td>\n",
       "      <td>5.22</td>\n",
       "      <td>4.90</td>\n",
       "      <td>3.47</td>\n",
       "      <td>1350000</td>\n",
       "    </tr>\n",
       "    <tr>\n",
       "      <th>219702</th>\n",
       "      <td>9</td>\n",
       "      <td>10.03</td>\n",
       "      <td>1</td>\n",
       "      <td>0</td>\n",
       "      <td>0</td>\n",
       "      <td>3</td>\n",
       "      <td>4</td>\n",
       "      <td>66.7</td>\n",
       "      <td>65.0</td>\n",
       "      <td>15.61</td>\n",
       "      <td>11.09</td>\n",
       "      <td>7.39</td>\n",
       "      <td>1449881</td>\n",
       "    </tr>\n",
       "  </tbody>\n",
       "</table>\n",
       "</div>\n",
       "      <button class=\"colab-df-convert\" onclick=\"convertToInteractive('df-004103e9-1883-43e7-821e-aace98b679d8')\"\n",
       "              title=\"Convert this dataframe to an interactive table.\"\n",
       "              style=\"display:none;\">\n",
       "        \n",
       "  <svg xmlns=\"http://www.w3.org/2000/svg\" height=\"24px\"viewBox=\"0 0 24 24\"\n",
       "       width=\"24px\">\n",
       "    <path d=\"M0 0h24v24H0V0z\" fill=\"none\"/>\n",
       "    <path d=\"M18.56 5.44l.94 2.06.94-2.06 2.06-.94-2.06-.94-.94-2.06-.94 2.06-2.06.94zm-11 1L8.5 8.5l.94-2.06 2.06-.94-2.06-.94L8.5 2.5l-.94 2.06-2.06.94zm10 10l.94 2.06.94-2.06 2.06-.94-2.06-.94-.94-2.06-.94 2.06-2.06.94z\"/><path d=\"M17.41 7.96l-1.37-1.37c-.4-.4-.92-.59-1.43-.59-.52 0-1.04.2-1.43.59L10.3 9.45l-7.72 7.72c-.78.78-.78 2.05 0 2.83L4 21.41c.39.39.9.59 1.41.59.51 0 1.02-.2 1.41-.59l7.78-7.78 2.81-2.81c.8-.78.8-2.07 0-2.86zM5.41 20L4 18.59l7.72-7.72 1.47 1.35L5.41 20z\"/>\n",
       "  </svg>\n",
       "      </button>\n",
       "      \n",
       "  <style>\n",
       "    .colab-df-container {\n",
       "      display:flex;\n",
       "      flex-wrap:wrap;\n",
       "      gap: 12px;\n",
       "    }\n",
       "\n",
       "    .colab-df-convert {\n",
       "      background-color: #E8F0FE;\n",
       "      border: none;\n",
       "      border-radius: 50%;\n",
       "      cursor: pointer;\n",
       "      display: none;\n",
       "      fill: #1967D2;\n",
       "      height: 32px;\n",
       "      padding: 0 0 0 0;\n",
       "      width: 32px;\n",
       "    }\n",
       "\n",
       "    .colab-df-convert:hover {\n",
       "      background-color: #E2EBFA;\n",
       "      box-shadow: 0px 1px 2px rgba(60, 64, 67, 0.3), 0px 1px 3px 1px rgba(60, 64, 67, 0.15);\n",
       "      fill: #174EA6;\n",
       "    }\n",
       "\n",
       "    [theme=dark] .colab-df-convert {\n",
       "      background-color: #3B4455;\n",
       "      fill: #D2E3FC;\n",
       "    }\n",
       "\n",
       "    [theme=dark] .colab-df-convert:hover {\n",
       "      background-color: #434B5C;\n",
       "      box-shadow: 0px 1px 3px 1px rgba(0, 0, 0, 0.15);\n",
       "      filter: drop-shadow(0px 1px 2px rgba(0, 0, 0, 0.3));\n",
       "      fill: #FFFFFF;\n",
       "    }\n",
       "  </style>\n",
       "\n",
       "      <script>\n",
       "        const buttonEl =\n",
       "          document.querySelector('#df-004103e9-1883-43e7-821e-aace98b679d8 button.colab-df-convert');\n",
       "        buttonEl.style.display =\n",
       "          google.colab.kernel.accessAllowed ? 'block' : 'none';\n",
       "\n",
       "        async function convertToInteractive(key) {\n",
       "          const element = document.querySelector('#df-004103e9-1883-43e7-821e-aace98b679d8');\n",
       "          const dataTable =\n",
       "            await google.colab.kernel.invokeFunction('convertToInteractive',\n",
       "                                                     [key], {});\n",
       "          if (!dataTable) return;\n",
       "\n",
       "          const docLinkHtml = 'Like what you see? Visit the ' +\n",
       "            '<a target=\"_blank\" href=https://colab.research.google.com/notebooks/data_table.ipynb>data table notebook</a>'\n",
       "            + ' to learn more about interactive tables.';\n",
       "          element.innerHTML = '';\n",
       "          dataTable['output_type'] = 'display_data';\n",
       "          await google.colab.output.renderOutput(dataTable, element);\n",
       "          const docLink = document.createElement('div');\n",
       "          docLink.innerHTML = docLinkHtml;\n",
       "          element.appendChild(docLink);\n",
       "        }\n",
       "      </script>\n",
       "    </div>\n",
       "  </div>\n",
       "  "
      ],
      "text/plain": [
       "       clarity  carat_weight  lab_GIA  lab_HRD  lab_IGI symmetry polish  \\\n",
       "219693       3         12.52        1        0        0        4      4   \n",
       "219694       3         12.52        0        1        0        4      4   \n",
       "219695      10         10.00        1        0        0        3      4   \n",
       "219696       7         18.88        1        0        0        4      4   \n",
       "219697       8         10.04        1        0        0        4      4   \n",
       "219698       8         10.65        1        0        0        4      4   \n",
       "219699       7          5.17        1        0        0        3      3   \n",
       "219700       8         18.07        1        0        0        4      4   \n",
       "219701       5          0.90        1        0        0        2      2   \n",
       "219702       9         10.03        1        0        0        3      4   \n",
       "\n",
       "        depth_percent  table_percent  meas_length  meas_width  meas_depth  \\\n",
       "219693           62.1           58.0        14.84       14.91        9.24   \n",
       "219694           62.1           58.0        14.84       14.91        9.24   \n",
       "219695           78.1           60.0        11.78       10.84        8.47   \n",
       "219696           57.1           55.0        21.34       15.23        8.69   \n",
       "219697           72.8           55.0        14.13       10.86        7.90   \n",
       "219698           61.3           58.0        14.06       14.18        8.66   \n",
       "219699           64.8           65.0        11.55        8.81        5.71   \n",
       "219700           60.2           59.0        17.06       17.10       10.20   \n",
       "219701           70.8           72.0         5.22        4.90        3.47   \n",
       "219702           66.7           65.0        15.61       11.09        7.39   \n",
       "\n",
       "        total_sales_price  \n",
       "219693            1121792  \n",
       "219694            1121792  \n",
       "219695            1124122  \n",
       "219696            1132347  \n",
       "219697            1161102  \n",
       "219698            1210692  \n",
       "219699            1292500  \n",
       "219700            1315496  \n",
       "219701            1350000  \n",
       "219702            1449881  "
      ]
     },
     "execution_count": 24,
     "metadata": {},
     "output_type": "execute_result"
    }
   ],
   "source": [
    "clean_regression.tail(10)"
   ]
  },
  {
   "cell_type": "code",
   "execution_count": 17,
   "metadata": {
    "colab": {
     "base_uri": "https://localhost:8080/",
     "height": 352
    },
    "id": "9EuzBquoCTzs",
    "outputId": "f08081bc-ef5b-4e34-a458-970a14d6afe0"
   },
   "outputs": [
    {
     "data": {
      "text/html": [
       "<div>\n",
       "<style scoped>\n",
       "    .dataframe tbody tr th:only-of-type {\n",
       "        vertical-align: middle;\n",
       "    }\n",
       "\n",
       "    .dataframe tbody tr th {\n",
       "        vertical-align: top;\n",
       "    }\n",
       "\n",
       "    .dataframe thead th {\n",
       "        text-align: right;\n",
       "    }\n",
       "</style>\n",
       "<table border=\"1\" class=\"dataframe\">\n",
       "  <thead>\n",
       "    <tr style=\"text-align: right;\">\n",
       "      <th></th>\n",
       "      <th>clarity</th>\n",
       "      <th>carat_weight</th>\n",
       "      <th>lab_GIA</th>\n",
       "      <th>lab_HRD</th>\n",
       "      <th>lab_IGI</th>\n",
       "      <th>symmetry</th>\n",
       "      <th>polish</th>\n",
       "      <th>depth_percent</th>\n",
       "      <th>table_percent</th>\n",
       "      <th>meas_length</th>\n",
       "      <th>meas_width</th>\n",
       "      <th>meas_depth</th>\n",
       "      <th>total_sales_price</th>\n",
       "    </tr>\n",
       "  </thead>\n",
       "  <tbody>\n",
       "    <tr>\n",
       "      <th>0</th>\n",
       "      <td>9</td>\n",
       "      <td>0.09</td>\n",
       "      <td>0</td>\n",
       "      <td>0</td>\n",
       "      <td>1</td>\n",
       "      <td>3</td>\n",
       "      <td>3</td>\n",
       "      <td>62.7</td>\n",
       "      <td>59.0</td>\n",
       "      <td>2.85</td>\n",
       "      <td>2.87</td>\n",
       "      <td>1.79</td>\n",
       "      <td>0</td>\n",
       "    </tr>\n",
       "    <tr>\n",
       "      <th>1</th>\n",
       "      <td>9</td>\n",
       "      <td>0.09</td>\n",
       "      <td>0</td>\n",
       "      <td>0</td>\n",
       "      <td>1</td>\n",
       "      <td>3</td>\n",
       "      <td>3</td>\n",
       "      <td>61.9</td>\n",
       "      <td>59.0</td>\n",
       "      <td>2.84</td>\n",
       "      <td>2.89</td>\n",
       "      <td>1.78</td>\n",
       "      <td>0</td>\n",
       "    </tr>\n",
       "    <tr>\n",
       "      <th>2</th>\n",
       "      <td>9</td>\n",
       "      <td>0.09</td>\n",
       "      <td>0</td>\n",
       "      <td>0</td>\n",
       "      <td>1</td>\n",
       "      <td>3</td>\n",
       "      <td>3</td>\n",
       "      <td>61.1</td>\n",
       "      <td>59.0</td>\n",
       "      <td>2.88</td>\n",
       "      <td>2.90</td>\n",
       "      <td>1.77</td>\n",
       "      <td>0</td>\n",
       "    </tr>\n",
       "    <tr>\n",
       "      <th>3</th>\n",
       "      <td>9</td>\n",
       "      <td>0.09</td>\n",
       "      <td>0</td>\n",
       "      <td>0</td>\n",
       "      <td>1</td>\n",
       "      <td>3</td>\n",
       "      <td>3</td>\n",
       "      <td>62.0</td>\n",
       "      <td>59.0</td>\n",
       "      <td>2.86</td>\n",
       "      <td>2.88</td>\n",
       "      <td>1.78</td>\n",
       "      <td>0</td>\n",
       "    </tr>\n",
       "    <tr>\n",
       "      <th>4</th>\n",
       "      <td>9</td>\n",
       "      <td>0.09</td>\n",
       "      <td>0</td>\n",
       "      <td>0</td>\n",
       "      <td>1</td>\n",
       "      <td>3</td>\n",
       "      <td>4</td>\n",
       "      <td>64.9</td>\n",
       "      <td>58.5</td>\n",
       "      <td>2.79</td>\n",
       "      <td>2.83</td>\n",
       "      <td>1.82</td>\n",
       "      <td>0</td>\n",
       "    </tr>\n",
       "    <tr>\n",
       "      <th>5</th>\n",
       "      <td>9</td>\n",
       "      <td>0.09</td>\n",
       "      <td>0</td>\n",
       "      <td>0</td>\n",
       "      <td>1</td>\n",
       "      <td>3</td>\n",
       "      <td>3</td>\n",
       "      <td>60.8</td>\n",
       "      <td>57.0</td>\n",
       "      <td>2.95</td>\n",
       "      <td>2.99</td>\n",
       "      <td>1.81</td>\n",
       "      <td>0</td>\n",
       "    </tr>\n",
       "    <tr>\n",
       "      <th>6</th>\n",
       "      <td>9</td>\n",
       "      <td>0.09</td>\n",
       "      <td>0</td>\n",
       "      <td>0</td>\n",
       "      <td>1</td>\n",
       "      <td>3</td>\n",
       "      <td>3</td>\n",
       "      <td>64.0</td>\n",
       "      <td>57.0</td>\n",
       "      <td>2.85</td>\n",
       "      <td>2.88</td>\n",
       "      <td>1.84</td>\n",
       "      <td>0</td>\n",
       "    </tr>\n",
       "    <tr>\n",
       "      <th>7</th>\n",
       "      <td>9</td>\n",
       "      <td>0.09</td>\n",
       "      <td>0</td>\n",
       "      <td>0</td>\n",
       "      <td>1</td>\n",
       "      <td>3</td>\n",
       "      <td>3</td>\n",
       "      <td>62.1</td>\n",
       "      <td>59.5</td>\n",
       "      <td>2.86</td>\n",
       "      <td>2.89</td>\n",
       "      <td>1.78</td>\n",
       "      <td>0</td>\n",
       "    </tr>\n",
       "    <tr>\n",
       "      <th>8</th>\n",
       "      <td>9</td>\n",
       "      <td>0.09</td>\n",
       "      <td>0</td>\n",
       "      <td>0</td>\n",
       "      <td>1</td>\n",
       "      <td>3</td>\n",
       "      <td>3</td>\n",
       "      <td>63.5</td>\n",
       "      <td>59.5</td>\n",
       "      <td>2.89</td>\n",
       "      <td>2.92</td>\n",
       "      <td>1.85</td>\n",
       "      <td>0</td>\n",
       "    </tr>\n",
       "    <tr>\n",
       "      <th>9</th>\n",
       "      <td>9</td>\n",
       "      <td>0.09</td>\n",
       "      <td>0</td>\n",
       "      <td>0</td>\n",
       "      <td>1</td>\n",
       "      <td>3</td>\n",
       "      <td>3</td>\n",
       "      <td>63.2</td>\n",
       "      <td>57.0</td>\n",
       "      <td>2.83</td>\n",
       "      <td>2.87</td>\n",
       "      <td>1.80</td>\n",
       "      <td>0</td>\n",
       "    </tr>\n",
       "  </tbody>\n",
       "</table>\n",
       "</div>"
      ],
      "text/plain": [
       "  clarity  carat_weight  lab_GIA  lab_HRD  lab_IGI symmetry polish  \\\n",
       "0       9          0.09        0        0        1        3      3   \n",
       "1       9          0.09        0        0        1        3      3   \n",
       "2       9          0.09        0        0        1        3      3   \n",
       "3       9          0.09        0        0        1        3      3   \n",
       "4       9          0.09        0        0        1        3      4   \n",
       "5       9          0.09        0        0        1        3      3   \n",
       "6       9          0.09        0        0        1        3      3   \n",
       "7       9          0.09        0        0        1        3      3   \n",
       "8       9          0.09        0        0        1        3      3   \n",
       "9       9          0.09        0        0        1        3      3   \n",
       "\n",
       "   depth_percent  table_percent  meas_length  meas_width  meas_depth  \\\n",
       "0           62.7           59.0         2.85        2.87        1.79   \n",
       "1           61.9           59.0         2.84        2.89        1.78   \n",
       "2           61.1           59.0         2.88        2.90        1.77   \n",
       "3           62.0           59.0         2.86        2.88        1.78   \n",
       "4           64.9           58.5         2.79        2.83        1.82   \n",
       "5           60.8           57.0         2.95        2.99        1.81   \n",
       "6           64.0           57.0         2.85        2.88        1.84   \n",
       "7           62.1           59.5         2.86        2.89        1.78   \n",
       "8           63.5           59.5         2.89        2.92        1.85   \n",
       "9           63.2           57.0         2.83        2.87        1.80   \n",
       "\n",
       "   total_sales_price  \n",
       "0                  0  \n",
       "1                  0  \n",
       "2                  0  \n",
       "3                  0  \n",
       "4                  0  \n",
       "5                  0  \n",
       "6                  0  \n",
       "7                  0  \n",
       "8                  0  \n",
       "9                  0  "
      ]
     },
     "execution_count": 17,
     "metadata": {},
     "output_type": "execute_result"
    }
   ],
   "source": [
    "clean_classification.head(10)"
   ]
  },
  {
   "cell_type": "code",
   "execution_count": 18,
   "metadata": {
    "colab": {
     "base_uri": "https://localhost:8080/",
     "height": 352
    },
    "id": "Gs4v47TDWqJn",
    "outputId": "8422e872-8e7a-4fa5-b393-4e6f6f1ab9b1"
   },
   "outputs": [
    {
     "data": {
      "text/html": [
       "<div>\n",
       "<style scoped>\n",
       "    .dataframe tbody tr th:only-of-type {\n",
       "        vertical-align: middle;\n",
       "    }\n",
       "\n",
       "    .dataframe tbody tr th {\n",
       "        vertical-align: top;\n",
       "    }\n",
       "\n",
       "    .dataframe thead th {\n",
       "        text-align: right;\n",
       "    }\n",
       "</style>\n",
       "<table border=\"1\" class=\"dataframe\">\n",
       "  <thead>\n",
       "    <tr style=\"text-align: right;\">\n",
       "      <th></th>\n",
       "      <th>clarity</th>\n",
       "      <th>carat_weight</th>\n",
       "      <th>lab_GIA</th>\n",
       "      <th>lab_HRD</th>\n",
       "      <th>lab_IGI</th>\n",
       "      <th>symmetry</th>\n",
       "      <th>polish</th>\n",
       "      <th>depth_percent</th>\n",
       "      <th>table_percent</th>\n",
       "      <th>meas_length</th>\n",
       "      <th>meas_width</th>\n",
       "      <th>meas_depth</th>\n",
       "      <th>total_sales_price</th>\n",
       "    </tr>\n",
       "  </thead>\n",
       "  <tbody>\n",
       "    <tr>\n",
       "      <th>219693</th>\n",
       "      <td>3</td>\n",
       "      <td>12.52</td>\n",
       "      <td>1</td>\n",
       "      <td>0</td>\n",
       "      <td>0</td>\n",
       "      <td>4</td>\n",
       "      <td>4</td>\n",
       "      <td>62.1</td>\n",
       "      <td>58.0</td>\n",
       "      <td>14.84</td>\n",
       "      <td>14.91</td>\n",
       "      <td>9.24</td>\n",
       "      <td>1</td>\n",
       "    </tr>\n",
       "    <tr>\n",
       "      <th>219694</th>\n",
       "      <td>3</td>\n",
       "      <td>12.52</td>\n",
       "      <td>0</td>\n",
       "      <td>1</td>\n",
       "      <td>0</td>\n",
       "      <td>4</td>\n",
       "      <td>4</td>\n",
       "      <td>62.1</td>\n",
       "      <td>58.0</td>\n",
       "      <td>14.84</td>\n",
       "      <td>14.91</td>\n",
       "      <td>9.24</td>\n",
       "      <td>1</td>\n",
       "    </tr>\n",
       "    <tr>\n",
       "      <th>219695</th>\n",
       "      <td>10</td>\n",
       "      <td>10.00</td>\n",
       "      <td>1</td>\n",
       "      <td>0</td>\n",
       "      <td>0</td>\n",
       "      <td>3</td>\n",
       "      <td>4</td>\n",
       "      <td>78.1</td>\n",
       "      <td>60.0</td>\n",
       "      <td>11.78</td>\n",
       "      <td>10.84</td>\n",
       "      <td>8.47</td>\n",
       "      <td>1</td>\n",
       "    </tr>\n",
       "    <tr>\n",
       "      <th>219696</th>\n",
       "      <td>7</td>\n",
       "      <td>18.88</td>\n",
       "      <td>1</td>\n",
       "      <td>0</td>\n",
       "      <td>0</td>\n",
       "      <td>4</td>\n",
       "      <td>4</td>\n",
       "      <td>57.1</td>\n",
       "      <td>55.0</td>\n",
       "      <td>21.34</td>\n",
       "      <td>15.23</td>\n",
       "      <td>8.69</td>\n",
       "      <td>1</td>\n",
       "    </tr>\n",
       "    <tr>\n",
       "      <th>219697</th>\n",
       "      <td>8</td>\n",
       "      <td>10.04</td>\n",
       "      <td>1</td>\n",
       "      <td>0</td>\n",
       "      <td>0</td>\n",
       "      <td>4</td>\n",
       "      <td>4</td>\n",
       "      <td>72.8</td>\n",
       "      <td>55.0</td>\n",
       "      <td>14.13</td>\n",
       "      <td>10.86</td>\n",
       "      <td>7.90</td>\n",
       "      <td>1</td>\n",
       "    </tr>\n",
       "    <tr>\n",
       "      <th>219698</th>\n",
       "      <td>8</td>\n",
       "      <td>10.65</td>\n",
       "      <td>1</td>\n",
       "      <td>0</td>\n",
       "      <td>0</td>\n",
       "      <td>4</td>\n",
       "      <td>4</td>\n",
       "      <td>61.3</td>\n",
       "      <td>58.0</td>\n",
       "      <td>14.06</td>\n",
       "      <td>14.18</td>\n",
       "      <td>8.66</td>\n",
       "      <td>1</td>\n",
       "    </tr>\n",
       "    <tr>\n",
       "      <th>219699</th>\n",
       "      <td>7</td>\n",
       "      <td>5.17</td>\n",
       "      <td>1</td>\n",
       "      <td>0</td>\n",
       "      <td>0</td>\n",
       "      <td>3</td>\n",
       "      <td>3</td>\n",
       "      <td>64.8</td>\n",
       "      <td>65.0</td>\n",
       "      <td>11.55</td>\n",
       "      <td>8.81</td>\n",
       "      <td>5.71</td>\n",
       "      <td>1</td>\n",
       "    </tr>\n",
       "    <tr>\n",
       "      <th>219700</th>\n",
       "      <td>8</td>\n",
       "      <td>18.07</td>\n",
       "      <td>1</td>\n",
       "      <td>0</td>\n",
       "      <td>0</td>\n",
       "      <td>4</td>\n",
       "      <td>4</td>\n",
       "      <td>60.2</td>\n",
       "      <td>59.0</td>\n",
       "      <td>17.06</td>\n",
       "      <td>17.10</td>\n",
       "      <td>10.20</td>\n",
       "      <td>1</td>\n",
       "    </tr>\n",
       "    <tr>\n",
       "      <th>219701</th>\n",
       "      <td>5</td>\n",
       "      <td>0.90</td>\n",
       "      <td>1</td>\n",
       "      <td>0</td>\n",
       "      <td>0</td>\n",
       "      <td>2</td>\n",
       "      <td>2</td>\n",
       "      <td>70.8</td>\n",
       "      <td>72.0</td>\n",
       "      <td>5.22</td>\n",
       "      <td>4.90</td>\n",
       "      <td>3.47</td>\n",
       "      <td>1</td>\n",
       "    </tr>\n",
       "    <tr>\n",
       "      <th>219702</th>\n",
       "      <td>9</td>\n",
       "      <td>10.03</td>\n",
       "      <td>1</td>\n",
       "      <td>0</td>\n",
       "      <td>0</td>\n",
       "      <td>3</td>\n",
       "      <td>4</td>\n",
       "      <td>66.7</td>\n",
       "      <td>65.0</td>\n",
       "      <td>15.61</td>\n",
       "      <td>11.09</td>\n",
       "      <td>7.39</td>\n",
       "      <td>1</td>\n",
       "    </tr>\n",
       "  </tbody>\n",
       "</table>\n",
       "</div>"
      ],
      "text/plain": [
       "       clarity  carat_weight  lab_GIA  lab_HRD  lab_IGI symmetry polish  \\\n",
       "219693       3         12.52        1        0        0        4      4   \n",
       "219694       3         12.52        0        1        0        4      4   \n",
       "219695      10         10.00        1        0        0        3      4   \n",
       "219696       7         18.88        1        0        0        4      4   \n",
       "219697       8         10.04        1        0        0        4      4   \n",
       "219698       8         10.65        1        0        0        4      4   \n",
       "219699       7          5.17        1        0        0        3      3   \n",
       "219700       8         18.07        1        0        0        4      4   \n",
       "219701       5          0.90        1        0        0        2      2   \n",
       "219702       9         10.03        1        0        0        3      4   \n",
       "\n",
       "        depth_percent  table_percent  meas_length  meas_width  meas_depth  \\\n",
       "219693           62.1           58.0        14.84       14.91        9.24   \n",
       "219694           62.1           58.0        14.84       14.91        9.24   \n",
       "219695           78.1           60.0        11.78       10.84        8.47   \n",
       "219696           57.1           55.0        21.34       15.23        8.69   \n",
       "219697           72.8           55.0        14.13       10.86        7.90   \n",
       "219698           61.3           58.0        14.06       14.18        8.66   \n",
       "219699           64.8           65.0        11.55        8.81        5.71   \n",
       "219700           60.2           59.0        17.06       17.10       10.20   \n",
       "219701           70.8           72.0         5.22        4.90        3.47   \n",
       "219702           66.7           65.0        15.61       11.09        7.39   \n",
       "\n",
       "        total_sales_price  \n",
       "219693                  1  \n",
       "219694                  1  \n",
       "219695                  1  \n",
       "219696                  1  \n",
       "219697                  1  \n",
       "219698                  1  \n",
       "219699                  1  \n",
       "219700                  1  \n",
       "219701                  1  \n",
       "219702                  1  "
      ]
     },
     "execution_count": 18,
     "metadata": {},
     "output_type": "execute_result"
    }
   ],
   "source": [
    "clean_classification.tail(10)"
   ]
  },
  {
   "cell_type": "code",
   "execution_count": 9,
   "metadata": {},
   "outputs": [],
   "source": [
    "#SVM\n",
    "X = clean_classification[[\"clarity\",\"carat_weight\", \"lab_GIA\",\"lab_HRD\",\"symmetry\",\"polish\",\"depth_percent\",\n",
    "                          \"table_percent\",\"meas_length\",\"meas_width\",\"meas_depth\"]].to_numpy()\n",
    "y = clean_classification[\"total_sales_price\"]\n",
    "#splitting up the data \n",
    "X_train, X_test, y_train, y_test = train_test_split(\n",
    "    X, y,   \n",
    "    test_size = 0.1, random_state=10, shuffle=True\n",
    ")"
   ]
  },
  {
   "cell_type": "code",
   "execution_count": 68,
   "metadata": {},
   "outputs": [
    {
     "name": "stdout",
     "output_type": "stream",
     "text": [
      "X_train:(197732, 11)\n",
      "y_train:(197732,)\n",
      "X_test: (21971, 11)\n",
      "y_test: (21971,)\n"
     ]
    }
   ],
   "source": [
    "print('X_train:' + str(X_train.shape))\n",
    "print('y_train:' + str(y_train.shape))\n",
    "print('X_test: '  + str(X_test.shape))\n",
    "print('y_test: '  + str(y_test.shape))\n",
    "X_train2 = X_train[0:20000, :]\n",
    "y_train2 = y_train[0:20000]"
   ]
  },
  {
   "cell_type": "code",
   "execution_count": 45,
   "metadata": {},
   "outputs": [
    {
     "name": "stdout",
     "output_type": "stream",
     "text": [
      "(70000, 1)\n",
      "(21971, 1)\n"
     ]
    }
   ],
   "source": [
    "y_2d_train = y_train2.values.reshape((y_train2.shape[0], 1))\n",
    "y_2d_test = y_test.values.reshape((y_test.shape[0], 1))\n",
    "print(y_2d_train.shape)\n",
    "print(y_2d_test.shape)"
   ]
  },
  {
   "cell_type": "code",
   "execution_count": 12,
   "metadata": {},
   "outputs": [],
   "source": [
    "# Compute the score for each example in X\n",
    "def score(X, w):\n",
    "    return 1.0/(1+(np.e**(-X.dot(w))))\n",
    "#     return X.dot(w)"
   ]
  },
  {
   "cell_type": "code",
   "execution_count": 13,
   "metadata": {},
   "outputs": [],
   "source": [
    "#SVM objective function\n",
    "def svm_objective(w, X, y, lambda1=.1):\n",
    "    regularizer = (lambda1/2)*np.sum(w**2)\n",
    "    hinge_loss = 0\n",
    "    for i in range(X.shape[0]):\n",
    "#         hinge_loss += max(0, 1-y[i,]*(score(X[i,], w)))\n",
    "        hinge_loss += max(0, 1-y[i,]*(X[i,].dot(w)))\n",
    "    result = regularizer + hinge_loss\n",
    "    return result"
   ]
  },
  {
   "cell_type": "code",
   "execution_count": 14,
   "metadata": {},
   "outputs": [],
   "source": [
    "# stochastic sub-gradient descent\n",
    "def pegasos(X_train, y_train, lambda1=0.08, num_iters = 3):\n",
    "\n",
    "    # Hyperparameters: threshold, lambda1\n",
    "    \n",
    "    # parameters\n",
    "    N = X_train.shape[0]\n",
    "    d = X_train.shape[1]\n",
    "\n",
    "    t = 0\n",
    "    # Initial weight vector\n",
    "    w = np.ones((d,))\n",
    "    \n",
    "    for iter in range(num_iters):\n",
    "     \n",
    "        print('Iteration %d. J: %.6f' % (iter, svm_objective(w, X_train, y_train)))\n",
    "        a = [0]*N\n",
    "        for i in range (N):\n",
    "            t = t + 1\n",
    "            # finding w.\n",
    "            learning_rate = 1/(lambda1*t)\n",
    "#             if (y_train[i,]*score(X_train[i,], w) >= 1):\n",
    "            if (y_train[i,]*X_train[i,].dot(w) >= 1):\n",
    "                w = w - learning_rate*lambda1*w\n",
    "            else:\n",
    "                w = w - learning_rate*(lambda1*w-y_train[i,]*(X_train[i,])) \n",
    "                \n",
    "    \n",
    "    return w\n"
   ]
  },
  {
   "cell_type": "code",
   "execution_count": 69,
   "metadata": {},
   "outputs": [],
   "source": [
    "from sklearn import svm\n",
    "# linear kernel svm C = 1.0\n",
    "svc = svm.SVC(probability=False,  kernel=\"linear\")"
   ]
  },
  {
   "cell_type": "code",
   "execution_count": 70,
   "metadata": {},
   "outputs": [
    {
     "data": {
      "text/plain": [
       "SVC(kernel='linear')"
      ]
     },
     "execution_count": 70,
     "metadata": {},
     "output_type": "execute_result"
    }
   ],
   "source": [
    "svc.fit(X_train2,y_train2)"
   ]
  },
  {
   "cell_type": "code",
   "execution_count": 71,
   "metadata": {},
   "outputs": [
    {
     "name": "stdout",
     "output_type": "stream",
     "text": [
      "C = 1.0\n",
      "Train Accuaracy = 0.940100\n",
      "Test Accuaracy = 0.940057\n"
     ]
    }
   ],
   "source": [
    "#Train accuracy\n",
    "print(\"C = 1.0\")\n",
    "yhat_train = svc.predict(X_train2)\n",
    "acc = np.mean(yhat_train == y_train2)\n",
    "print('Train Accuaracy = {0:f}'.format(acc))\n",
    "#Test accuracy\n",
    "yhat_ts = svc.predict(X_test)\n",
    "acc = np.mean(yhat_ts == y_test)\n",
    "print('Test Accuaracy = {0:f}'.format(acc))"
   ]
  },
  {
   "cell_type": "code",
   "execution_count": 72,
   "metadata": {},
   "outputs": [
    {
     "data": {
      "text/plain": [
       "SVC(C=0.1, kernel='linear')"
      ]
     },
     "execution_count": 72,
     "metadata": {},
     "output_type": "execute_result"
    }
   ],
   "source": [
    "# linear kernel svm C = 0.1\n",
    "svc = svm.SVC(C = 0.1, probability=False,  kernel=\"linear\")\n",
    "svc.fit(X_train2,y_train2)"
   ]
  },
  {
   "cell_type": "code",
   "execution_count": 73,
   "metadata": {},
   "outputs": [
    {
     "name": "stdout",
     "output_type": "stream",
     "text": [
      "C = 0.1\n",
      "Train Accuaracy = 0.936700\n",
      "Test Accuaracy = 0.936780\n"
     ]
    }
   ],
   "source": [
    "#Train accuracy\n",
    "print(\"C = 0.1\")\n",
    "yhat_train = svc.predict(X_train2)\n",
    "acc = np.mean(yhat_train == y_train2)\n",
    "print('Train Accuaracy = {0:f}'.format(acc))\n",
    "#Test accuracy\n",
    "yhat_ts = svc.predict(X_test)\n",
    "acc = np.mean(yhat_ts == y_test)\n",
    "print('Test Accuaracy = {0:f}'.format(acc))"
   ]
  },
  {
   "cell_type": "code",
   "execution_count": 74,
   "metadata": {},
   "outputs": [
    {
     "data": {
      "text/plain": [
       "SVC(C=0.01, kernel='linear')"
      ]
     },
     "execution_count": 74,
     "metadata": {},
     "output_type": "execute_result"
    }
   ],
   "source": [
    "# linear kernel svm C = 0.01\n",
    "svc = svm.SVC(C = 0.01, probability=False,  kernel=\"linear\")\n",
    "svc.fit(X_train2,y_train2)"
   ]
  },
  {
   "cell_type": "code",
   "execution_count": 75,
   "metadata": {},
   "outputs": [
    {
     "name": "stdout",
     "output_type": "stream",
     "text": [
      "C = 0.01\n",
      "Train Accuaracy = 0.926400\n",
      "Test Accuaracy = 0.926995\n"
     ]
    }
   ],
   "source": [
    "#Train accuracy\n",
    "print(\"C = 0.01\")\n",
    "yhat_train = svc.predict(X_train2)\n",
    "acc = np.mean(yhat_train == y_train2)\n",
    "print('Train Accuaracy = {0:f}'.format(acc))\n",
    "#Test accuracy\n",
    "yhat_ts = svc.predict(X_test)\n",
    "acc = np.mean(yhat_ts == y_test)\n",
    "print('Test Accuaracy = {0:f}'.format(acc))"
   ]
  },
  {
   "cell_type": "code",
   "execution_count": 76,
   "metadata": {},
   "outputs": [
    {
     "data": {
      "text/plain": [
       "SVC(C=0.001, kernel='linear')"
      ]
     },
     "execution_count": 76,
     "metadata": {},
     "output_type": "execute_result"
    }
   ],
   "source": [
    "# linear kernel svm C = 0.001\n",
    "svc = svm.SVC(C = 0.001, probability=False,  kernel=\"linear\")\n",
    "svc.fit(X_train2,y_train2)"
   ]
  },
  {
   "cell_type": "code",
   "execution_count": 77,
   "metadata": {},
   "outputs": [
    {
     "name": "stdout",
     "output_type": "stream",
     "text": [
      "C = 0.001\n",
      "Train Accuaracy = 0.917500\n",
      "Test Accuaracy = 0.918256\n"
     ]
    }
   ],
   "source": [
    "#test Accuracy\n",
    "print(\"C = 0.001\")\n",
    "yhat_train = svc.predict(X_train2)\n",
    "acc = np.mean(yhat_train == y_train2)\n",
    "print('Train Accuaracy = {0:f}'.format(acc))\n",
    "\n",
    "yhat_ts = svc.predict(X_test)\n",
    "acc = np.mean(yhat_ts == y_test)\n",
    "print('Test Accuaracy = {0:f}'.format(acc))"
   ]
  },
  {
   "cell_type": "code",
   "execution_count": 78,
   "metadata": {},
   "outputs": [
    {
     "data": {
      "text/plain": [
       "SVC(C=0.0001, kernel='linear')"
      ]
     },
     "execution_count": 78,
     "metadata": {},
     "output_type": "execute_result"
    }
   ],
   "source": [
    "# linear kernel svm C = 0.0001\n",
    "svc = svm.SVC(C = 0.0001, probability=False,  kernel=\"linear\")\n",
    "svc.fit(X_train2,y_train2)"
   ]
  },
  {
   "cell_type": "code",
   "execution_count": 79,
   "metadata": {},
   "outputs": [
    {
     "name": "stdout",
     "output_type": "stream",
     "text": [
      "C = 0.0001\n",
      "Train Accuaracy = 0.858300\n",
      "Test Accuaracy = 0.862045\n"
     ]
    }
   ],
   "source": [
    "#test Accuracy\n",
    "print(\"C = 0.0001\")\n",
    "yhat_train = svc.predict(X_train2)\n",
    "acc = np.mean(yhat_train == y_train2)\n",
    "print('Train Accuaracy = {0:f}'.format(acc))\n",
    "\n",
    "yhat_ts = svc.predict(X_test)\n",
    "acc = np.mean(yhat_ts == y_test)\n",
    "print('Test Accuaracy = {0:f}'.format(acc))"
   ]
  },
  {
   "cell_type": "code",
   "execution_count": 80,
   "metadata": {},
   "outputs": [
    {
     "data": {
      "text/plain": [
       "SVC(C=1e-05, kernel='linear')"
      ]
     },
     "execution_count": 80,
     "metadata": {},
     "output_type": "execute_result"
    }
   ],
   "source": [
    "# linear kernel svm C = 0.00001\n",
    "svc = svm.SVC(C = 0.00001, probability=False,  kernel=\"linear\")\n",
    "svc.fit(X_train2,y_train2)"
   ]
  },
  {
   "cell_type": "code",
   "execution_count": 81,
   "metadata": {
    "scrolled": true
   },
   "outputs": [
    {
     "name": "stdout",
     "output_type": "stream",
     "text": [
      "C = 0.00001\n",
      "Train Accuaracy = 0.726450\n",
      "Test Accuaracy = 0.726503\n"
     ]
    }
   ],
   "source": [
    "#test Accuracy\n",
    "print(\"C = 0.00001\")\n",
    "yhat_train = svc.predict(X_train2)\n",
    "acc = np.mean(yhat_train == y_train2)\n",
    "print('Train Accuaracy = {0:f}'.format(acc))\n",
    "\n",
    "yhat_ts = svc.predict(X_test)\n",
    "acc = np.mean(yhat_ts == y_test)\n",
    "print('Test Accuaracy = {0:f}'.format(acc))"
   ]
  },
  {
   "cell_type": "code",
   "execution_count": 82,
   "metadata": {},
   "outputs": [
    {
     "data": {
      "text/plain": [
       "SVC(C=10.0, kernel='linear')"
      ]
     },
     "execution_count": 82,
     "metadata": {},
     "output_type": "execute_result"
    }
   ],
   "source": [
    "# linear kernel svm C = 10.0\n",
    "svc = svm.SVC(C = 10.0, probability=False,  kernel=\"linear\")\n",
    "svc.fit(X_train2,y_train2)"
   ]
  },
  {
   "cell_type": "code",
   "execution_count": 83,
   "metadata": {},
   "outputs": [
    {
     "name": "stdout",
     "output_type": "stream",
     "text": [
      "C = 10.0\n",
      "Train Accuaracy = 0.940350\n",
      "Test Accuaracy = 0.940421\n"
     ]
    }
   ],
   "source": [
    "#test Accuracy\n",
    "print(\"C = 10.0\")\n",
    "yhat_train = svc.predict(X_train2)\n",
    "acc = np.mean(yhat_train == y_train2)\n",
    "print('Train Accuaracy = {0:f}'.format(acc))\n",
    "\n",
    "yhat_ts = svc.predict(X_test)\n",
    "acc = np.mean(yhat_ts == y_test)\n",
    "print('Test Accuaracy = {0:f}'.format(acc))"
   ]
  },
  {
   "cell_type": "code",
   "execution_count": 86,
   "metadata": {},
   "outputs": [
    {
     "data": {
      "text/plain": [
       "SVC(C=100.0, kernel='linear')"
      ]
     },
     "execution_count": 86,
     "metadata": {},
     "output_type": "execute_result"
    }
   ],
   "source": [
    "# linear kernel svm C = 100.0\n",
    "svc = svm.SVC(C = 100.0, probability=False,  kernel=\"linear\")\n",
    "svc.fit(X_train2,y_train2)"
   ]
  },
  {
   "cell_type": "code",
   "execution_count": 87,
   "metadata": {},
   "outputs": [
    {
     "name": "stdout",
     "output_type": "stream",
     "text": [
      "C = 100.0\n",
      "Train Accuaracy = 0.940650\n",
      "Test Accuaracy = 0.940968\n"
     ]
    }
   ],
   "source": [
    "#test Accuracy\n",
    "print(\"C = 100.0\")\n",
    "yhat_train = svc.predict(X_train2)\n",
    "acc = np.mean(yhat_train == y_train2)\n",
    "print('Train Accuaracy = {0:f}'.format(acc))\n",
    "\n",
    "yhat_ts = svc.predict(X_test)\n",
    "acc = np.mean(yhat_ts == y_test)\n",
    "print('Test Accuaracy = {0:f}'.format(acc))"
   ]
  },
  {
   "cell_type": "code",
   "execution_count": 84,
   "metadata": {},
   "outputs": [
    {
     "data": {
      "text/plain": [
       "SVC(C=1000.0, kernel='linear')"
      ]
     },
     "execution_count": 84,
     "metadata": {},
     "output_type": "execute_result"
    }
   ],
   "source": [
    "# linear kernel svm C = 1000.0\n",
    "svc = svm.SVC(C = 1000.0, probability=False,  kernel=\"linear\")\n",
    "svc.fit(X_train2,y_train2)"
   ]
  },
  {
   "cell_type": "code",
   "execution_count": 85,
   "metadata": {},
   "outputs": [
    {
     "name": "stdout",
     "output_type": "stream",
     "text": [
      "C = 1000.0\n",
      "Train Accuaracy = 0.940600\n",
      "Test Accuaracy = 0.941741\n"
     ]
    }
   ],
   "source": [
    "#test Accuracy\n",
    "print(\"C = 1000.0\")\n",
    "yhat_train = svc.predict(X_train2)\n",
    "acc = np.mean(yhat_train == y_train2)\n",
    "print('Train Accuaracy = {0:f}'.format(acc))\n",
    "\n",
    "yhat_ts = svc.predict(X_test)\n",
    "acc = np.mean(yhat_ts == y_test)\n",
    "print('Test Accuaracy = {0:f}'.format(acc))"
   ]
  },
  {
   "cell_type": "code",
   "execution_count": 88,
   "metadata": {},
   "outputs": [
    {
     "data": {
      "text/plain": [
       "SVC(C=10000.0, kernel='linear')"
      ]
     },
     "execution_count": 88,
     "metadata": {},
     "output_type": "execute_result"
    }
   ],
   "source": [
    "# linear kernel svm C = 1000.0\n",
    "svc = svm.SVC(C = 10000.0, probability=False,  kernel=\"linear\")\n",
    "svc.fit(X_train2,y_train2)"
   ]
  },
  {
   "cell_type": "code",
   "execution_count": 89,
   "metadata": {},
   "outputs": [
    {
     "name": "stdout",
     "output_type": "stream",
     "text": [
      "C = 10000.0\n",
      "Train Accuaracy = 0.939250\n",
      "Test Accuaracy = 0.940376\n"
     ]
    }
   ],
   "source": [
    "#test Accuracy\n",
    "print(\"C = 10000.0\")\n",
    "yhat_train = svc.predict(X_train2)\n",
    "acc = np.mean(yhat_train == y_train2)\n",
    "print('Train Accuaracy = {0:f}'.format(acc))\n",
    "\n",
    "yhat_ts = svc.predict(X_test)\n",
    "acc = np.mean(yhat_ts == y_test)\n",
    "print('Test Accuaracy = {0:f}'.format(acc))"
   ]
  },
  {
   "cell_type": "code",
   "execution_count": 97,
   "metadata": {},
   "outputs": [
    {
     "data": {
      "text/plain": [
       "SVC(degree=1, kernel='poly')"
      ]
     },
     "execution_count": 97,
     "metadata": {},
     "output_type": "execute_result"
    }
   ],
   "source": [
    "#degree 1 poly kernel (c = 1.0 for all)\n",
    "svc2 = svm.SVC(degree = 1, probability=False,  kernel=\"poly\")\n",
    "svc2.fit(X_train2,y_train2)"
   ]
  },
  {
   "cell_type": "code",
   "execution_count": 99,
   "metadata": {},
   "outputs": [
    {
     "name": "stdout",
     "output_type": "stream",
     "text": [
      "degree = 1\n",
      "Train Accuaracy = 0.875400\n",
      "Test Accuaracy = 0.879022\n"
     ]
    }
   ],
   "source": [
    "#test Accuracy\n",
    "print(\"degree = 1\")\n",
    "yhat_train = svc2.predict(X_train2)\n",
    "acc = np.mean(yhat_train == y_train2)\n",
    "print('Train Accuaracy = {0:f}'.format(acc))\n",
    "\n",
    "yhat_ts = svc2.predict(X_test)\n",
    "acc = np.mean(yhat_ts == y_test)\n",
    "print('Test Accuaracy = {0:f}'.format(acc))"
   ]
  },
  {
   "cell_type": "code",
   "execution_count": 100,
   "metadata": {},
   "outputs": [
    {
     "data": {
      "text/plain": [
       "SVC(degree=2, kernel='poly')"
      ]
     },
     "execution_count": 100,
     "metadata": {},
     "output_type": "execute_result"
    }
   ],
   "source": [
    "#degree 2 poly kernel (c = 1.0 for all)\n",
    "svc2 = svm.SVC(degree = 2, probability=False,  kernel=\"poly\")\n",
    "svc2.fit(X_train2,y_train2)"
   ]
  },
  {
   "cell_type": "code",
   "execution_count": 101,
   "metadata": {},
   "outputs": [
    {
     "name": "stdout",
     "output_type": "stream",
     "text": [
      "degree = 2\n",
      "Train Accuaracy = 0.896250\n",
      "Test Accuaracy = 0.898002\n"
     ]
    }
   ],
   "source": [
    "#test Accuracy\n",
    "print(\"degree = 2\")\n",
    "yhat_train = svc2.predict(X_train2)\n",
    "acc = np.mean(yhat_train == y_train2)\n",
    "print('Train Accuaracy = {0:f}'.format(acc))\n",
    "\n",
    "yhat_ts = svc2.predict(X_test)\n",
    "acc = np.mean(yhat_ts == y_test)\n",
    "print('Test Accuaracy = {0:f}'.format(acc))"
   ]
  },
  {
   "cell_type": "code",
   "execution_count": 107,
   "metadata": {},
   "outputs": [
    {
     "data": {
      "text/plain": [
       "SVC(kernel='poly')"
      ]
     },
     "execution_count": 107,
     "metadata": {},
     "output_type": "execute_result"
    }
   ],
   "source": [
    "#degree 3 poly kernel (c = 1.0 for all)\n",
    "svc2 = svm.SVC(degree = 3, probability=False,  kernel=\"poly\") \n",
    "svc2.fit(X_train2,y_train2)"
   ]
  },
  {
   "cell_type": "code",
   "execution_count": 108,
   "metadata": {},
   "outputs": [
    {
     "name": "stdout",
     "output_type": "stream",
     "text": [
      "degree = 3\n",
      "Train Accuaracy = 0.909200\n",
      "Test Accuaracy = 0.910928\n"
     ]
    }
   ],
   "source": [
    "#test Accuracy\n",
    "print(\"degree = 3\")\n",
    "yhat_train = svc2.predict(X_train2)\n",
    "acc = np.mean(yhat_train == y_train2)\n",
    "print('Train Accuaracy = {0:f}'.format(acc))\n",
    "\n",
    "yhat_ts = svc2.predict(X_test)\n",
    "acc = np.mean(yhat_ts == y_test)\n",
    "print('Test Accuaracy = {0:f}'.format(acc))"
   ]
  },
  {
   "cell_type": "code",
   "execution_count": 109,
   "metadata": {},
   "outputs": [
    {
     "data": {
      "text/plain": [
       "SVC(degree=4, kernel='poly')"
      ]
     },
     "execution_count": 109,
     "metadata": {},
     "output_type": "execute_result"
    }
   ],
   "source": [
    "#degree 4 poly kernel (c = 1.0 for all)\n",
    "svc2 = svm.SVC(degree = 4, probability=False,  kernel=\"poly\") \n",
    "svc2.fit(X_train2,y_train2)"
   ]
  },
  {
   "cell_type": "code",
   "execution_count": 110,
   "metadata": {},
   "outputs": [
    {
     "name": "stdout",
     "output_type": "stream",
     "text": [
      "degree = 4\n",
      "Train Accuaracy = 0.914550\n",
      "Test Accuaracy = 0.916481\n"
     ]
    }
   ],
   "source": [
    "#test Accuracy\n",
    "print(\"degree = 4\")\n",
    "yhat_train = svc2.predict(X_train2)\n",
    "acc = np.mean(yhat_train == y_train2)\n",
    "print('Train Accuaracy = {0:f}'.format(acc))\n",
    "\n",
    "yhat_ts = svc2.predict(X_test)\n",
    "acc = np.mean(yhat_ts == y_test)\n",
    "print('Test Accuaracy = {0:f}'.format(acc))"
   ]
  },
  {
   "cell_type": "code",
   "execution_count": 111,
   "metadata": {},
   "outputs": [
    {
     "data": {
      "text/plain": [
       "SVC(degree=5, kernel='poly')"
      ]
     },
     "execution_count": 111,
     "metadata": {},
     "output_type": "execute_result"
    }
   ],
   "source": [
    "#degree 5 poly kernel (c = 1.0 for all)\n",
    "svc2 = svm.SVC(degree = 5, probability=False,  kernel=\"poly\") \n",
    "svc2.fit(X_train2,y_train2)"
   ]
  },
  {
   "cell_type": "code",
   "execution_count": 112,
   "metadata": {},
   "outputs": [
    {
     "name": "stdout",
     "output_type": "stream",
     "text": [
      "degree = 5\n",
      "Train Accuaracy = 0.917100\n",
      "Test Accuaracy = 0.918757\n"
     ]
    }
   ],
   "source": [
    "#test Accuracy\n",
    "print(\"degree = 5\")\n",
    "yhat_train = svc2.predict(X_train2)\n",
    "acc = np.mean(yhat_train == y_train2)\n",
    "print('Train Accuaracy = {0:f}'.format(acc))\n",
    "\n",
    "yhat_ts = svc2.predict(X_test)\n",
    "acc = np.mean(yhat_ts == y_test)\n",
    "print('Test Accuaracy = {0:f}'.format(acc))"
   ]
  },
  {
   "cell_type": "code",
   "execution_count": 113,
   "metadata": {},
   "outputs": [
    {
     "data": {
      "text/plain": [
       "SVC(degree=6, kernel='poly')"
      ]
     },
     "execution_count": 113,
     "metadata": {},
     "output_type": "execute_result"
    }
   ],
   "source": [
    "#degree 6 poly kernel (c = 1.0 for all)\n",
    "svc2 = svm.SVC(degree = 6, probability=False,  kernel=\"poly\") \n",
    "svc2.fit(X_train2,y_train2)"
   ]
  },
  {
   "cell_type": "code",
   "execution_count": 114,
   "metadata": {},
   "outputs": [
    {
     "name": "stdout",
     "output_type": "stream",
     "text": [
      "degree = 6\n",
      "Train Accuaracy = 0.918600\n",
      "Test Accuaracy = 0.919212\n"
     ]
    }
   ],
   "source": [
    "#test Accuracy\n",
    "print(\"degree = 6\")\n",
    "yhat_train = svc2.predict(X_train2)\n",
    "acc = np.mean(yhat_train == y_train2)\n",
    "print('Train Accuaracy = {0:f}'.format(acc))\n",
    "\n",
    "yhat_ts = svc2.predict(X_test)\n",
    "acc = np.mean(yhat_ts == y_test)\n",
    "print('Test Accuaracy = {0:f}'.format(acc))"
   ]
  },
  {
   "cell_type": "code",
   "execution_count": 115,
   "metadata": {},
   "outputs": [
    {
     "data": {
      "text/plain": [
       "SVC(degree=7, kernel='poly')"
      ]
     },
     "execution_count": 115,
     "metadata": {},
     "output_type": "execute_result"
    }
   ],
   "source": [
    "#degree 7 poly kernel (c = 1.0 for all)\n",
    "svc2 = svm.SVC(degree = 7, probability=False,  kernel=\"poly\") \n",
    "svc2.fit(X_train2,y_train2)"
   ]
  },
  {
   "cell_type": "code",
   "execution_count": 116,
   "metadata": {},
   "outputs": [
    {
     "name": "stdout",
     "output_type": "stream",
     "text": [
      "degree = 7\n",
      "Train Accuaracy = 0.919350\n",
      "Test Accuaracy = 0.921396\n"
     ]
    }
   ],
   "source": [
    "#test Accuracy\n",
    "print(\"degree = 7\")\n",
    "yhat_train = svc2.predict(X_train2)\n",
    "acc = np.mean(yhat_train == y_train2)\n",
    "print('Train Accuaracy = {0:f}'.format(acc))\n",
    "\n",
    "yhat_ts = svc2.predict(X_test)\n",
    "acc = np.mean(yhat_ts == y_test)\n",
    "print('Test Accuaracy = {0:f}'.format(acc))"
   ]
  },
  {
   "cell_type": "code",
   "execution_count": 118,
   "metadata": {},
   "outputs": [
    {
     "data": {
      "text/plain": [
       "SVC(degree=8, kernel='poly')"
      ]
     },
     "execution_count": 118,
     "metadata": {},
     "output_type": "execute_result"
    }
   ],
   "source": [
    "#degree 8 poly kernel (c = 1.0 for all)\n",
    "svc2 = svm.SVC(degree = 8, probability=False,  kernel=\"poly\") \n",
    "svc2.fit(X_train2,y_train2)"
   ]
  },
  {
   "cell_type": "code",
   "execution_count": 119,
   "metadata": {},
   "outputs": [
    {
     "name": "stdout",
     "output_type": "stream",
     "text": [
      "degree = 8\n",
      "Train Accuaracy = 0.920350\n",
      "Test Accuaracy = 0.921624\n"
     ]
    }
   ],
   "source": [
    "#test Accuracy\n",
    "print(\"degree = 8\")\n",
    "yhat_train = svc2.predict(X_train2)\n",
    "acc = np.mean(yhat_train == y_train2)\n",
    "print('Train Accuaracy = {0:f}'.format(acc))\n",
    "\n",
    "yhat_ts = svc2.predict(X_test)\n",
    "acc = np.mean(yhat_ts == y_test)\n",
    "print('Test Accuaracy = {0:f}'.format(acc))"
   ]
  },
  {
   "cell_type": "code",
   "execution_count": 120,
   "metadata": {},
   "outputs": [
    {
     "data": {
      "text/plain": [
       "SVC(degree=9, kernel='poly')"
      ]
     },
     "execution_count": 120,
     "metadata": {},
     "output_type": "execute_result"
    }
   ],
   "source": [
    "#degree 9 poly kernel (c = 1.0 for all)\n",
    "svc2 = svm.SVC(degree = 9, probability=False,  kernel=\"poly\") \n",
    "svc2.fit(X_train2,y_train2)"
   ]
  },
  {
   "cell_type": "code",
   "execution_count": 121,
   "metadata": {},
   "outputs": [
    {
     "name": "stdout",
     "output_type": "stream",
     "text": [
      "degree = 9\n",
      "Train Accuaracy = 0.921000\n",
      "Test Accuaracy = 0.922944\n"
     ]
    }
   ],
   "source": [
    "#test Accuracy\n",
    "print(\"degree = 9\")\n",
    "yhat_train = svc2.predict(X_train2)\n",
    "acc = np.mean(yhat_train == y_train2)\n",
    "print('Train Accuaracy = {0:f}'.format(acc))\n",
    "\n",
    "yhat_ts = svc2.predict(X_test)\n",
    "acc = np.mean(yhat_ts == y_test)\n",
    "print('Test Accuaracy = {0:f}'.format(acc))"
   ]
  },
  {
   "cell_type": "code",
   "execution_count": 122,
   "metadata": {},
   "outputs": [
    {
     "data": {
      "text/plain": [
       "SVC(degree=10, kernel='poly')"
      ]
     },
     "execution_count": 122,
     "metadata": {},
     "output_type": "execute_result"
    }
   ],
   "source": [
    "#degree 10 poly kernel (c = 1.0 for all)\n",
    "svc2 = svm.SVC(degree = 10, probability=False,  kernel=\"poly\") \n",
    "svc2.fit(X_train2,y_train2)"
   ]
  },
  {
   "cell_type": "code",
   "execution_count": 123,
   "metadata": {},
   "outputs": [
    {
     "name": "stdout",
     "output_type": "stream",
     "text": [
      "degree = 10\n",
      "Train Accuaracy = 0.922750\n",
      "Test Accuaracy = 0.925129\n"
     ]
    }
   ],
   "source": [
    "#test Accuracy\n",
    "print(\"degree = 10\")\n",
    "yhat_train = svc2.predict(X_train2)\n",
    "acc = np.mean(yhat_train == y_train2)\n",
    "print('Train Accuaracy = {0:f}'.format(acc))\n",
    "\n",
    "yhat_ts = svc2.predict(X_test)\n",
    "acc = np.mean(yhat_ts == y_test)\n",
    "print('Test Accuaracy = {0:f}'.format(acc))"
   ]
  },
  {
   "cell_type": "code",
   "execution_count": 126,
   "metadata": {},
   "outputs": [
    {
     "data": {
      "text/plain": [
       "SVC(C=10000.0)"
      ]
     },
     "execution_count": 126,
     "metadata": {},
     "output_type": "execute_result"
    }
   ],
   "source": [
    "# C = 10000.0 rbf \n",
    "svc3 = svm.SVC(C = 10000.0, probability=False,  kernel=\"rbf\")\n",
    "svc3.fit(X_train2,y_train2)"
   ]
  },
  {
   "cell_type": "code",
   "execution_count": 127,
   "metadata": {},
   "outputs": [
    {
     "name": "stdout",
     "output_type": "stream",
     "text": [
      "C = 10000\n",
      "Train Accuaracy = 0.941450\n",
      "Test Accuaracy = 0.940239\n"
     ]
    }
   ],
   "source": [
    "print(\"C = 10000\")\n",
    "yhat_train = svc3.predict(X_train2)\n",
    "acc = np.mean(yhat_train == y_train2)\n",
    "print('Train Accuaracy = {0:f}'.format(acc))\n",
    "\n",
    "yhat_ts = svc3.predict(X_test)\n",
    "acc = np.mean(yhat_ts == y_test)\n",
    "print('Test Accuaracy = {0:f}'.format(acc))"
   ]
  },
  {
   "cell_type": "code",
   "execution_count": 128,
   "metadata": {},
   "outputs": [
    {
     "data": {
      "text/plain": [
       "SVC(C=1000.0)"
      ]
     },
     "execution_count": 128,
     "metadata": {},
     "output_type": "execute_result"
    }
   ],
   "source": [
    "# C = 1000.0 rbf \n",
    "svc3 = svm.SVC(C = 1000.0, probability=False,  kernel=\"rbf\")\n",
    "svc3.fit(X_train2,y_train2)"
   ]
  },
  {
   "cell_type": "code",
   "execution_count": 129,
   "metadata": {},
   "outputs": [
    {
     "name": "stdout",
     "output_type": "stream",
     "text": [
      "C = 1000\n",
      "Train Accuaracy = 0.940950\n",
      "Test Accuaracy = 0.939966\n"
     ]
    }
   ],
   "source": [
    "print(\"C = 1000\")\n",
    "yhat_train = svc3.predict(X_train2)\n",
    "acc = np.mean(yhat_train == y_train2)\n",
    "print('Train Accuaracy = {0:f}'.format(acc))\n",
    "\n",
    "yhat_ts = svc3.predict(X_test)\n",
    "acc = np.mean(yhat_ts == y_test)\n",
    "print('Test Accuaracy = {0:f}'.format(acc))"
   ]
  },
  {
   "cell_type": "code",
   "execution_count": 136,
   "metadata": {},
   "outputs": [
    {
     "data": {
      "text/plain": [
       "SVC(C=100.0)"
      ]
     },
     "execution_count": 136,
     "metadata": {},
     "output_type": "execute_result"
    }
   ],
   "source": [
    "# C = 100.0 rbf \n",
    "svc3 = svm.SVC(C = 100.0, probability=False,  kernel=\"rbf\")\n",
    "svc3.fit(X_train2,y_train2)"
   ]
  },
  {
   "cell_type": "code",
   "execution_count": 137,
   "metadata": {},
   "outputs": [
    {
     "name": "stdout",
     "output_type": "stream",
     "text": [
      "C = 100\n",
      "Train Accuaracy = 0.936650\n",
      "Test Accuaracy = 0.935142\n"
     ]
    }
   ],
   "source": [
    "print(\"C = 100\")\n",
    "yhat_train = svc3.predict(X_train2)\n",
    "acc = np.mean(yhat_train == y_train2)\n",
    "print('Train Accuaracy = {0:f}'.format(acc))\n",
    "\n",
    "yhat_ts = svc3.predict(X_test)\n",
    "acc = np.mean(yhat_ts == y_test)\n",
    "print('Test Accuaracy = {0:f}'.format(acc))"
   ]
  },
  {
   "cell_type": "code",
   "execution_count": 138,
   "metadata": {},
   "outputs": [
    {
     "data": {
      "text/plain": [
       "SVC(C=10.0)"
      ]
     },
     "execution_count": 138,
     "metadata": {},
     "output_type": "execute_result"
    }
   ],
   "source": [
    "# C = 10.0 rbf \n",
    "svc3 = svm.SVC(C = 10.0, probability=False,  kernel=\"rbf\")\n",
    "svc3.fit(X_train2,y_train2)"
   ]
  },
  {
   "cell_type": "code",
   "execution_count": 139,
   "metadata": {},
   "outputs": [
    {
     "name": "stdout",
     "output_type": "stream",
     "text": [
      "C = 10\n",
      "Train Accuaracy = 0.928650\n",
      "Test Accuaracy = 0.927996\n"
     ]
    }
   ],
   "source": [
    "print(\"C = 10\")\n",
    "yhat_train = svc3.predict(X_train2)\n",
    "acc = np.mean(yhat_train == y_train2)\n",
    "print('Train Accuaracy = {0:f}'.format(acc))\n",
    "\n",
    "yhat_ts = svc3.predict(X_test)\n",
    "acc = np.mean(yhat_ts == y_test)\n",
    "print('Test Accuaracy = {0:f}'.format(acc))"
   ]
  },
  {
   "cell_type": "code",
   "execution_count": 140,
   "metadata": {},
   "outputs": [
    {
     "data": {
      "text/plain": [
       "SVC()"
      ]
     },
     "execution_count": 140,
     "metadata": {},
     "output_type": "execute_result"
    }
   ],
   "source": [
    "# C = 1.0 rbf \n",
    "svc3 = svm.SVC(C = 1.0, probability=False,  kernel=\"rbf\")\n",
    "svc3.fit(X_train2,y_train2)"
   ]
  },
  {
   "cell_type": "code",
   "execution_count": 141,
   "metadata": {},
   "outputs": [
    {
     "name": "stdout",
     "output_type": "stream",
     "text": [
      "C = 1\n",
      "Train Accuaracy = 0.900850\n",
      "Test Accuaracy = 0.900778\n"
     ]
    }
   ],
   "source": [
    "print(\"C = 1\")\n",
    "yhat_train = svc3.predict(X_train2)\n",
    "acc = np.mean(yhat_train == y_train2)\n",
    "print('Train Accuaracy = {0:f}'.format(acc))\n",
    "\n",
    "yhat_ts = svc3.predict(X_test)\n",
    "acc = np.mean(yhat_ts == y_test)\n",
    "print('Test Accuaracy = {0:f}'.format(acc))"
   ]
  },
  {
   "cell_type": "code",
   "execution_count": 142,
   "metadata": {},
   "outputs": [
    {
     "data": {
      "text/plain": [
       "SVC(C=0.1)"
      ]
     },
     "execution_count": 142,
     "metadata": {},
     "output_type": "execute_result"
    }
   ],
   "source": [
    "# C = 0.1 rbf \n",
    "svc3 = svm.SVC(C = 0.1, probability=False,  kernel=\"rbf\")\n",
    "svc3.fit(X_train2,y_train2)"
   ]
  },
  {
   "cell_type": "code",
   "execution_count": 143,
   "metadata": {},
   "outputs": [
    {
     "name": "stdout",
     "output_type": "stream",
     "text": [
      "C = 0.1\n",
      "Train Accuaracy = 0.830100\n",
      "Test Accuaracy = 0.831824\n"
     ]
    }
   ],
   "source": [
    "print(\"C = 0.1\")\n",
    "yhat_train = svc3.predict(X_train2)\n",
    "acc = np.mean(yhat_train == y_train2)\n",
    "print('Train Accuaracy = {0:f}'.format(acc))\n",
    "\n",
    "yhat_ts = svc3.predict(X_test)\n",
    "acc = np.mean(yhat_ts == y_test)\n",
    "print('Test Accuaracy = {0:f}'.format(acc))"
   ]
  },
  {
   "cell_type": "code",
   "execution_count": 144,
   "metadata": {},
   "outputs": [
    {
     "data": {
      "text/plain": [
       "SVC(C=0.01)"
      ]
     },
     "execution_count": 144,
     "metadata": {},
     "output_type": "execute_result"
    }
   ],
   "source": [
    "# C = 0.01 rbf \n",
    "svc3 = svm.SVC(C = 0.01, probability=False,  kernel=\"rbf\")\n",
    "svc3.fit(X_train2,y_train2)"
   ]
  },
  {
   "cell_type": "code",
   "execution_count": 145,
   "metadata": {},
   "outputs": [
    {
     "name": "stdout",
     "output_type": "stream",
     "text": [
      "C = 0.01\n",
      "Train Accuaracy = 0.592350\n",
      "Test Accuaracy = 0.593828\n"
     ]
    }
   ],
   "source": [
    "print(\"C = 0.01\")\n",
    "yhat_train = svc3.predict(X_train2)\n",
    "acc = np.mean(yhat_train == y_train2)\n",
    "print('Train Accuaracy = {0:f}'.format(acc))\n",
    "\n",
    "yhat_ts = svc3.predict(X_test)\n",
    "acc = np.mean(yhat_ts == y_test)\n",
    "print('Test Accuaracy = {0:f}'.format(acc))"
   ]
  },
  {
   "cell_type": "code",
   "execution_count": 146,
   "metadata": {},
   "outputs": [
    {
     "data": {
      "text/plain": [
       "SVC(C=0.001)"
      ]
     },
     "execution_count": 146,
     "metadata": {},
     "output_type": "execute_result"
    }
   ],
   "source": [
    "# C = 0.001 rbf \n",
    "svc3 = svm.SVC(C = 0.001, probability=False,  kernel=\"rbf\")\n",
    "svc3.fit(X_train2,y_train2)"
   ]
  },
  {
   "cell_type": "code",
   "execution_count": 147,
   "metadata": {},
   "outputs": [
    {
     "name": "stdout",
     "output_type": "stream",
     "text": [
      "C = 0.001\n",
      "Train Accuaracy = 0.500700\n",
      "Test Accuaracy = 0.503209\n"
     ]
    }
   ],
   "source": [
    "print(\"C = 0.001\")\n",
    "yhat_train = svc3.predict(X_train2)\n",
    "acc = np.mean(yhat_train == y_train2)\n",
    "print('Train Accuaracy = {0:f}'.format(acc))\n",
    "\n",
    "yhat_ts = svc3.predict(X_test)\n",
    "acc = np.mean(yhat_ts == y_test)\n",
    "print('Test Accuaracy = {0:f}'.format(acc))"
   ]
  },
  {
   "cell_type": "code",
   "execution_count": 152,
   "metadata": {},
   "outputs": [
    {
     "data": {
      "text/plain": [
       "SVC(C=0.0001)"
      ]
     },
     "execution_count": 152,
     "metadata": {},
     "output_type": "execute_result"
    }
   ],
   "source": [
    "# C = 0.0001 rbf \n",
    "svc3 = svm.SVC(C = 0.0001, probability=False,  kernel=\"rbf\")\n",
    "svc3.fit(X_train2,y_train2)"
   ]
  },
  {
   "cell_type": "code",
   "execution_count": 153,
   "metadata": {},
   "outputs": [
    {
     "name": "stdout",
     "output_type": "stream",
     "text": [
      "C = 0.0001\n",
      "Train Accuaracy = 0.500700\n",
      "Test Accuaracy = 0.503209\n"
     ]
    }
   ],
   "source": [
    "print(\"C = 0.0001\")\n",
    "yhat_train = svc3.predict(X_train2)\n",
    "acc = np.mean(yhat_train == y_train2)\n",
    "print('Train Accuaracy = {0:f}'.format(acc))\n",
    "\n",
    "yhat_ts = svc3.predict(X_test)\n",
    "acc = np.mean(yhat_ts == y_test)\n",
    "print('Test Accuaracy = {0:f}'.format(acc))"
   ]
  },
  {
   "cell_type": "code",
   "execution_count": 154,
   "metadata": {},
   "outputs": [
    {
     "data": {
      "text/plain": [
       "SVC(C=1e-05)"
      ]
     },
     "execution_count": 154,
     "metadata": {},
     "output_type": "execute_result"
    }
   ],
   "source": [
    "# C = 0.00001 rbf \n",
    "svc3 = svm.SVC(C = 0.00001, probability=False,  kernel=\"rbf\")\n",
    "svc3.fit(X_train2,y_train2)"
   ]
  },
  {
   "cell_type": "code",
   "execution_count": 155,
   "metadata": {},
   "outputs": [
    {
     "name": "stdout",
     "output_type": "stream",
     "text": [
      "C = 0.00001\n",
      "Train Accuaracy = 0.500700\n",
      "Test Accuaracy = 0.503209\n"
     ]
    }
   ],
   "source": [
    "print(\"C = 0.00001\")\n",
    "yhat_train = svc3.predict(X_train2)\n",
    "acc = np.mean(yhat_train == y_train2)\n",
    "print('Train Accuaracy = {0:f}'.format(acc))\n",
    "\n",
    "yhat_ts = svc3.predict(X_test)\n",
    "acc = np.mean(yhat_ts == y_test)\n",
    "print('Test Accuaracy = {0:f}'.format(acc))"
   ]
  },
  {
   "cell_type": "code",
   "execution_count": 250,
   "metadata": {},
   "outputs": [
    {
     "data": {
      "image/png": "[encoded data removed]",
      "text/plain": [
       "<Figure size 640x480 with 1 Axes>"
      ]
     },
     "metadata": {},
     "output_type": "display_data"
    }
   ],
   "source": [
    "x_1 = [0,1,2,3,4,5,6,7,8,9]\n",
    "y_1_train = [0.500700,0.500700,0.500700,0.592350,0.830100,0.900850,0.928650,0.936650,0.940950,0.941450]\n",
    "y_1_trans = [0.498667,0.498667,0.498667,0.512000,0.687333,0.869000,0.916000,0.930333,0.938333,0.942333]\n",
    "plt.plot(x_1,y_1_train, label=\"X\")\n",
    "plt.plot(x_1,y_1_trans, label=\"X^2\")\n",
    "ax = plt.gca()\n",
    "#hide x-axis\n",
    "ax.set_xticks([])\n",
    "plt.ylabel(\"Accuracy\")\n",
    "plt.xlabel(\"C values(from 0.00001 - 10000)\")\n",
    "plt.title(\"Rbf Kernel Function\")\n",
    "plt.legend(loc='lower right')\n",
    "plt.show()"
   ]
  },
  {
   "cell_type": "code",
   "execution_count": 278,
   "metadata": {},
   "outputs": [
    {
     "data": {
      "image/png": "[encoded data removed]",
      "text/plain": [
       "<Figure size 640x480 with 1 Axes>"
      ]
     },
     "metadata": {},
     "output_type": "display_data"
    }
   ],
   "source": [
    "x_2 = [0,1,2,3,4,5,6,7,8,9]\n",
    "y_2_train = [0.726450,0.858300,0.917500,0.926400,0.936700,0.940100,0.940350,0.940650,0.940600,0.939250]\n",
    "y_2_trans = [0.728667,0.839000,0.901333,0.944000,0.942333,0.940333,0.942667,0.941333,0.942667,0.940000]\n",
    "plt.plot(x_2,y_2_train,label = \"X\")\n",
    "plt.plot(x_2,y_2_trans, label = \"X^2\")\n",
    "ax = plt.gca()\n",
    "#hide x-axis\n",
    "ax.set_xticks([])\n",
    "plt.ylabel(\"Accuracy\")\n",
    "plt.xlabel(\"C values(from 0.00001 - 10000)\")\n",
    "plt.title(\"Linear Kernel Function\")\n",
    "plt.legend(loc='lower right')\n",
    "plt.show()"
   ]
  },
  {
   "cell_type": "code",
   "execution_count": 276,
   "metadata": {},
   "outputs": [
    {
     "data": {
      "image/png": "[encoded data removed]",
      "text/plain": [
       "<Figure size 640x480 with 1 Axes>"
      ]
     },
     "metadata": {},
     "output_type": "display_data"
    }
   ],
   "source": [
    "x_3 = [1,2,3,4,5,6,7,8,9,10]\n",
    "y_3_train = [0.875400,0.896250,0.909200,0.914550,0.917100,0.918600,0.919350,0.920350,0.921000,0.922750]\n",
    "y_3_trans = [0.854333,0.865333,0.871333,0.874667,0.876000,0.882333,0.886333,0.886667,0.888000,0.891667]\n",
    "plt.plot(x_3,y_3_train, label=\"X\")\n",
    "plt.plot(x_3,y_3_trans, label=\"X^2\")\n",
    "ax = plt.gca()\n",
    "plt.ylabel(\"Accuracy\")\n",
    "plt.xlabel(\"Degrees\")\n",
    "plt.title(\"Polynomial Kernel Function\")\n",
    "plt.legend(loc='lower right')\n",
    "plt.xticks(np.arange(1, 11, step=1))\n",
    "plt.show()"
   ]
  },
  {
   "cell_type": "code",
   "execution_count": 207,
   "metadata": {},
   "outputs": [
    {
     "name": "stdout",
     "output_type": "stream",
     "text": [
      "(21971, 78)\n"
     ]
    }
   ],
   "source": [
    "from sklearn.preprocessing import PolynomialFeatures\n",
    "poly = PolynomialFeatures(2)\n",
    "X_train2_s = poly.fit_transform(X_train2)\n",
    "X_test2 = poly.fit_transform(X_test)\n",
    "X_test3 = X_test2[0:3000,:]\n",
    "y_test3 = y_test[0:3000]\n",
    "print(X_test2.shape)"
   ]
  },
  {
   "cell_type": "code",
   "execution_count": 198,
   "metadata": {},
   "outputs": [],
   "source": [
    "X_train3 = X_train2_s[0:5000, :]\n",
    "y_train3 = y_train2[0:5000]"
   ]
  },
  {
   "cell_type": "code",
   "execution_count": 199,
   "metadata": {},
   "outputs": [
    {
     "data": {
      "text/plain": [
       "SVC(C=1e-05, kernel='linear')"
      ]
     },
     "execution_count": 199,
     "metadata": {},
     "output_type": "execute_result"
    }
   ],
   "source": [
    "# linear kernel svm C = 0.00001\n",
    "svc = svm.SVC(C = 0.00001, probability=False,  kernel=\"linear\")\n",
    "svc.fit(X_train3,y_train3)"
   ]
  },
  {
   "cell_type": "code",
   "execution_count": 209,
   "metadata": {},
   "outputs": [
    {
     "name": "stdout",
     "output_type": "stream",
     "text": [
      "C = 0.00001, X^2\n",
      "Train Accuaracy = 0.919800\n",
      "Test Accuaracy = 0.928667\n"
     ]
    }
   ],
   "source": [
    "print(\"C = 0.00001, X^2\")\n",
    "yhat_train = svc.predict(X_train3)\n",
    "acc = np.mean(yhat_train == y_train3)\n",
    "print('Train Accuaracy = {0:f}'.format(acc))\n",
    "\n",
    "yhat_ts = svc.predict(X_test3)\n",
    "acc = np.mean(yhat_ts == y_test3)\n",
    "print('Test Accuaracy = {0:f}'.format(acc))"
   ]
  },
  {
   "cell_type": "code",
   "execution_count": 210,
   "metadata": {},
   "outputs": [
    {
     "data": {
      "text/plain": [
       "SVC(C=0.0001, kernel='linear')"
      ]
     },
     "execution_count": 210,
     "metadata": {},
     "output_type": "execute_result"
    }
   ],
   "source": [
    "# linear kernel svm C = 0.0001\n",
    "svc = svm.SVC(C = 0.0001, probability=False,  kernel=\"linear\")\n",
    "svc.fit(X_train3,y_train3)"
   ]
  },
  {
   "cell_type": "code",
   "execution_count": 211,
   "metadata": {},
   "outputs": [
    {
     "name": "stdout",
     "output_type": "stream",
     "text": [
      "C = 0.0001, X^2\n",
      "Train Accuaracy = 0.933600\n",
      "Test Accuaracy = 0.939000\n"
     ]
    }
   ],
   "source": [
    "print(\"C = 0.0001, X^2\")\n",
    "yhat_train = svc.predict(X_train3)\n",
    "acc = np.mean(yhat_train == y_train3)\n",
    "print('Train Accuaracy = {0:f}'.format(acc))\n",
    "\n",
    "yhat_ts = svc.predict(X_test3)\n",
    "acc = np.mean(yhat_ts == y_test3)\n",
    "print('Test Accuaracy = {0:f}'.format(acc))"
   ]
  },
  {
   "cell_type": "code",
   "execution_count": 212,
   "metadata": {},
   "outputs": [
    {
     "data": {
      "text/plain": [
       "SVC(C=0.001, kernel='linear')"
      ]
     },
     "execution_count": 212,
     "metadata": {},
     "output_type": "execute_result"
    }
   ],
   "source": [
    "# linear kernel svm C = 0.001\n",
    "svc = svm.SVC(C = 0.001, probability=False,  kernel=\"linear\")\n",
    "svc.fit(X_train3,y_train3)"
   ]
  },
  {
   "cell_type": "code",
   "execution_count": 213,
   "metadata": {},
   "outputs": [
    {
     "name": "stdout",
     "output_type": "stream",
     "text": [
      "C = 0.001, X^2\n",
      "Train Accuaracy = 0.938000\n",
      "Test Accuaracy = 0.941333\n"
     ]
    }
   ],
   "source": [
    "print(\"C = 0.001, X^2\")\n",
    "yhat_train = svc.predict(X_train3)\n",
    "acc = np.mean(yhat_train == y_train3)\n",
    "print('Train Accuaracy = {0:f}'.format(acc))\n",
    "\n",
    "yhat_ts = svc.predict(X_test3)\n",
    "acc = np.mean(yhat_ts == y_test3)\n",
    "print('Test Accuaracy = {0:f}'.format(acc))"
   ]
  },
  {
   "cell_type": "code",
   "execution_count": 214,
   "metadata": {},
   "outputs": [
    {
     "data": {
      "text/plain": [
       "SVC(C=0.01, kernel='linear')"
      ]
     },
     "execution_count": 214,
     "metadata": {},
     "output_type": "execute_result"
    }
   ],
   "source": [
    "# linear kernel svm C = 0.01\n",
    "svc = svm.SVC(C = 0.01, probability=False,  kernel=\"linear\")\n",
    "svc.fit(X_train3,y_train3)"
   ]
  },
  {
   "cell_type": "code",
   "execution_count": 215,
   "metadata": {},
   "outputs": [
    {
     "name": "stdout",
     "output_type": "stream",
     "text": [
      "C = 0.01, X^2\n",
      "Train Accuaracy = 0.942600\n",
      "Test Accuaracy = 0.944000\n"
     ]
    }
   ],
   "source": [
    "print(\"C = 0.01, X^2\")\n",
    "yhat_train = svc.predict(X_train3)\n",
    "acc = np.mean(yhat_train == y_train3)\n",
    "print('Train Accuaracy = {0:f}'.format(acc))\n",
    "\n",
    "yhat_ts = svc.predict(X_test3)\n",
    "acc = np.mean(yhat_ts == y_test3)\n",
    "print('Test Accuaracy = {0:f}'.format(acc))"
   ]
  },
  {
   "cell_type": "code",
   "execution_count": 216,
   "metadata": {},
   "outputs": [
    {
     "data": {
      "text/plain": [
       "SVC(C=0.1, kernel='linear')"
      ]
     },
     "execution_count": 216,
     "metadata": {},
     "output_type": "execute_result"
    }
   ],
   "source": [
    "# linear kernel svm C = 0.1\n",
    "svc = svm.SVC(C = 0.1, probability=False,  kernel=\"linear\")\n",
    "svc.fit(X_train3,y_train3)"
   ]
  },
  {
   "cell_type": "code",
   "execution_count": 217,
   "metadata": {},
   "outputs": [
    {
     "name": "stdout",
     "output_type": "stream",
     "text": [
      "C = 0.1, X^2\n",
      "Train Accuaracy = 0.943800\n",
      "Test Accuaracy = 0.942333\n"
     ]
    }
   ],
   "source": [
    "print(\"C = 0.1, X^2\")\n",
    "yhat_train = svc.predict(X_train3)\n",
    "acc = np.mean(yhat_train == y_train3)\n",
    "print('Train Accuaracy = {0:f}'.format(acc))\n",
    "\n",
    "yhat_ts = svc.predict(X_test3)\n",
    "acc = np.mean(yhat_ts == y_test3)\n",
    "print('Test Accuaracy = {0:f}'.format(acc))"
   ]
  },
  {
   "cell_type": "code",
   "execution_count": 218,
   "metadata": {},
   "outputs": [
    {
     "data": {
      "text/plain": [
       "SVC(C=1, kernel='linear')"
      ]
     },
     "execution_count": 218,
     "metadata": {},
     "output_type": "execute_result"
    }
   ],
   "source": [
    "# linear kernel svm C = 1\n",
    "svc = svm.SVC(C = 1, probability=False,  kernel=\"linear\")\n",
    "svc.fit(X_train3,y_train3)"
   ]
  },
  {
   "cell_type": "code",
   "execution_count": 219,
   "metadata": {},
   "outputs": [
    {
     "name": "stdout",
     "output_type": "stream",
     "text": [
      "C = 1, X^2\n",
      "Train Accuaracy = 0.942400\n",
      "Test Accuaracy = 0.940333\n"
     ]
    }
   ],
   "source": [
    "print(\"C = 1, X^2\")\n",
    "yhat_train = svc.predict(X_train3)\n",
    "acc = np.mean(yhat_train == y_train3)\n",
    "print('Train Accuaracy = {0:f}'.format(acc))\n",
    "\n",
    "yhat_ts = svc.predict(X_test3)\n",
    "acc = np.mean(yhat_ts == y_test3)\n",
    "print('Test Accuaracy = {0:f}'.format(acc))"
   ]
  },
  {
   "cell_type": "code",
   "execution_count": 220,
   "metadata": {},
   "outputs": [
    {
     "data": {
      "text/plain": [
       "SVC(C=10, kernel='linear')"
      ]
     },
     "execution_count": 220,
     "metadata": {},
     "output_type": "execute_result"
    }
   ],
   "source": [
    "# linear kernel svm C = 10\n",
    "svc = svm.SVC(C = 10, probability=False,  kernel=\"linear\")\n",
    "svc.fit(X_train3,y_train3)"
   ]
  },
  {
   "cell_type": "code",
   "execution_count": 221,
   "metadata": {},
   "outputs": [
    {
     "name": "stdout",
     "output_type": "stream",
     "text": [
      "C = 10, X^2\n",
      "Train Accuaracy = 0.942400\n",
      "Test Accuaracy = 0.942667\n"
     ]
    }
   ],
   "source": [
    "print(\"C = 10, X^2\")\n",
    "yhat_train = svc.predict(X_train3)\n",
    "acc = np.mean(yhat_train == y_train3)\n",
    "print('Train Accuaracy = {0:f}'.format(acc))\n",
    "\n",
    "yhat_ts = svc.predict(X_test3)\n",
    "acc = np.mean(yhat_ts == y_test3)\n",
    "print('Test Accuaracy = {0:f}'.format(acc))"
   ]
  },
  {
   "cell_type": "code",
   "execution_count": 222,
   "metadata": {},
   "outputs": [
    {
     "data": {
      "text/plain": [
       "SVC(C=100, kernel='linear')"
      ]
     },
     "execution_count": 222,
     "metadata": {},
     "output_type": "execute_result"
    }
   ],
   "source": [
    "# linear kernel svm C = 100\n",
    "svc = svm.SVC(C = 100, probability=False,  kernel=\"linear\")\n",
    "svc.fit(X_train3,y_train3)"
   ]
  },
  {
   "cell_type": "code",
   "execution_count": 223,
   "metadata": {},
   "outputs": [
    {
     "name": "stdout",
     "output_type": "stream",
     "text": [
      "C = 100, X^2\n",
      "Train Accuaracy = 0.943400\n",
      "Test Accuaracy = 0.941333\n"
     ]
    }
   ],
   "source": [
    "print(\"C = 100, X^2\")\n",
    "yhat_train = svc.predict(X_train3)\n",
    "acc = np.mean(yhat_train == y_train3)\n",
    "print('Train Accuaracy = {0:f}'.format(acc))\n",
    "\n",
    "yhat_ts = svc.predict(X_test3)\n",
    "acc = np.mean(yhat_ts == y_test3)\n",
    "print('Test Accuaracy = {0:f}'.format(acc))"
   ]
  },
  {
   "cell_type": "code",
   "execution_count": 224,
   "metadata": {},
   "outputs": [
    {
     "data": {
      "text/plain": [
       "SVC(C=1000, kernel='linear')"
      ]
     },
     "execution_count": 224,
     "metadata": {},
     "output_type": "execute_result"
    }
   ],
   "source": [
    "# linear kernel svm C = 1000\n",
    "svc = svm.SVC(C = 1000, probability=False,  kernel=\"linear\")\n",
    "svc.fit(X_train3,y_train3)"
   ]
  },
  {
   "cell_type": "code",
   "execution_count": 225,
   "metadata": {},
   "outputs": [
    {
     "name": "stdout",
     "output_type": "stream",
     "text": [
      "C = 1000, X^2\n",
      "Train Accuaracy = 0.940000\n",
      "Test Accuaracy = 0.942667\n"
     ]
    }
   ],
   "source": [
    "print(\"C = 1000, X^2\")\n",
    "yhat_train = svc.predict(X_train3)\n",
    "acc = np.mean(yhat_train == y_train3)\n",
    "print('Train Accuaracy = {0:f}'.format(acc))\n",
    "\n",
    "yhat_ts = svc.predict(X_test3)\n",
    "acc = np.mean(yhat_ts == y_test3)\n",
    "print('Test Accuaracy = {0:f}'.format(acc))"
   ]
  },
  {
   "cell_type": "code",
   "execution_count": 226,
   "metadata": {},
   "outputs": [
    {
     "data": {
      "text/plain": [
       "SVC(C=10000, kernel='linear')"
      ]
     },
     "execution_count": 226,
     "metadata": {},
     "output_type": "execute_result"
    }
   ],
   "source": [
    "# linear kernel svm C = 10000\n",
    "svc = svm.SVC(C = 10000, probability=False,  kernel=\"linear\")\n",
    "svc.fit(X_train3,y_train3)"
   ]
  },
  {
   "cell_type": "code",
   "execution_count": 227,
   "metadata": {},
   "outputs": [
    {
     "name": "stdout",
     "output_type": "stream",
     "text": [
      "C = 10000, X^2\n",
      "Train Accuaracy = 0.939800\n",
      "Test Accuaracy = 0.940000\n"
     ]
    }
   ],
   "source": [
    "print(\"C = 10000, X^2\")\n",
    "yhat_train = svc.predict(X_train3)\n",
    "acc = np.mean(yhat_train == y_train3)\n",
    "print('Train Accuaracy = {0:f}'.format(acc))\n",
    "\n",
    "yhat_ts = svc.predict(X_test3)\n",
    "acc = np.mean(yhat_ts == y_test3)\n",
    "print('Test Accuaracy = {0:f}'.format(acc))"
   ]
  },
  {
   "cell_type": "code",
   "execution_count": 231,
   "metadata": {},
   "outputs": [
    {
     "data": {
      "text/plain": [
       "SVC(C=10000)"
      ]
     },
     "execution_count": 231,
     "metadata": {},
     "output_type": "execute_result"
    }
   ],
   "source": [
    "# rbf kernel svm C = 10000\n",
    "svc = svm.SVC(C = 10000, probability=False,  kernel=\"rbf\")\n",
    "svc.fit(X_train3,y_train3)"
   ]
  },
  {
   "cell_type": "code",
   "execution_count": 232,
   "metadata": {},
   "outputs": [
    {
     "name": "stdout",
     "output_type": "stream",
     "text": [
      "C = 10000, X^2\n",
      "Train Accuaracy = 0.943000\n",
      "Test Accuaracy = 0.942333\n"
     ]
    }
   ],
   "source": [
    "print(\"C = 10000, X^2\")\n",
    "yhat_train = svc.predict(X_train3)\n",
    "acc = np.mean(yhat_train == y_train3)\n",
    "print('Train Accuaracy = {0:f}'.format(acc))\n",
    "\n",
    "yhat_ts = svc.predict(X_test3)\n",
    "acc = np.mean(yhat_ts == y_test3)\n",
    "print('Test Accuaracy = {0:f}'.format(acc))"
   ]
  },
  {
   "cell_type": "code",
   "execution_count": 233,
   "metadata": {},
   "outputs": [
    {
     "data": {
      "text/plain": [
       "SVC(C=1000)"
      ]
     },
     "execution_count": 233,
     "metadata": {},
     "output_type": "execute_result"
    }
   ],
   "source": [
    "# rbf kernel svm C = 1000\n",
    "svc = svm.SVC(C = 1000, probability=False,  kernel=\"rbf\")\n",
    "svc.fit(X_train3,y_train3)"
   ]
  },
  {
   "cell_type": "code",
   "execution_count": 234,
   "metadata": {},
   "outputs": [
    {
     "name": "stdout",
     "output_type": "stream",
     "text": [
      "C = 1000, X^2\n",
      "Train Accuaracy = 0.935200\n",
      "Test Accuaracy = 0.938333\n"
     ]
    }
   ],
   "source": [
    "print(\"C = 1000, X^2\")\n",
    "yhat_train = svc.predict(X_train3)\n",
    "acc = np.mean(yhat_train == y_train3)\n",
    "print('Train Accuaracy = {0:f}'.format(acc))\n",
    "\n",
    "yhat_ts = svc.predict(X_test3)\n",
    "acc = np.mean(yhat_ts == y_test3)\n",
    "print('Test Accuaracy = {0:f}'.format(acc))"
   ]
  },
  {
   "cell_type": "code",
   "execution_count": 235,
   "metadata": {},
   "outputs": [
    {
     "data": {
      "text/plain": [
       "SVC(C=100)"
      ]
     },
     "execution_count": 235,
     "metadata": {},
     "output_type": "execute_result"
    }
   ],
   "source": [
    "# rbf kernel svm C = 100\n",
    "svc = svm.SVC(C = 100, probability=False,  kernel=\"rbf\")\n",
    "svc.fit(X_train3,y_train3)"
   ]
  },
  {
   "cell_type": "code",
   "execution_count": 236,
   "metadata": {},
   "outputs": [
    {
     "name": "stdout",
     "output_type": "stream",
     "text": [
      "C = 100, X^2\n",
      "Train Accuaracy = 0.931200\n",
      "Test Accuaracy = 0.930333\n"
     ]
    }
   ],
   "source": [
    "print(\"C = 100, X^2\")\n",
    "yhat_train = svc.predict(X_train3)\n",
    "acc = np.mean(yhat_train == y_train3)\n",
    "print('Train Accuaracy = {0:f}'.format(acc))\n",
    "\n",
    "yhat_ts = svc.predict(X_test3)\n",
    "acc = np.mean(yhat_ts == y_test3)\n",
    "print('Test Accuaracy = {0:f}'.format(acc))"
   ]
  },
  {
   "cell_type": "code",
   "execution_count": 237,
   "metadata": {},
   "outputs": [
    {
     "data": {
      "text/plain": [
       "SVC(C=10)"
      ]
     },
     "execution_count": 237,
     "metadata": {},
     "output_type": "execute_result"
    }
   ],
   "source": [
    "# rbf kernel svm C = 10\n",
    "svc = svm.SVC(C = 10, probability=False,  kernel=\"rbf\")\n",
    "svc.fit(X_train3,y_train3)"
   ]
  },
  {
   "cell_type": "code",
   "execution_count": 238,
   "metadata": {},
   "outputs": [
    {
     "name": "stdout",
     "output_type": "stream",
     "text": [
      "C = 10, X^2\n",
      "Train Accuaracy = 0.912800\n",
      "Test Accuaracy = 0.916000\n"
     ]
    }
   ],
   "source": [
    "print(\"C = 10, X^2\")\n",
    "yhat_train = svc.predict(X_train3)\n",
    "acc = np.mean(yhat_train == y_train3)\n",
    "print('Train Accuaracy = {0:f}'.format(acc))\n",
    "\n",
    "yhat_ts = svc.predict(X_test3)\n",
    "acc = np.mean(yhat_ts == y_test3)\n",
    "print('Test Accuaracy = {0:f}'.format(acc))"
   ]
  },
  {
   "cell_type": "code",
   "execution_count": 240,
   "metadata": {},
   "outputs": [
    {
     "data": {
      "text/plain": [
       "SVC(C=1)"
      ]
     },
     "execution_count": 240,
     "metadata": {},
     "output_type": "execute_result"
    }
   ],
   "source": [
    "# rbf kernel svm C = 1\n",
    "svc = svm.SVC(C = 1, probability=False,  kernel=\"rbf\")\n",
    "svc.fit(X_train3,y_train3)"
   ]
  },
  {
   "cell_type": "code",
   "execution_count": 241,
   "metadata": {},
   "outputs": [
    {
     "name": "stdout",
     "output_type": "stream",
     "text": [
      "C = 1, X^2\n",
      "Train Accuaracy = 0.866600\n",
      "Test Accuaracy = 0.869000\n"
     ]
    }
   ],
   "source": [
    "print(\"C = 1, X^2\")\n",
    "yhat_train = svc.predict(X_train3)\n",
    "acc = np.mean(yhat_train == y_train3)\n",
    "print('Train Accuaracy = {0:f}'.format(acc))\n",
    "\n",
    "yhat_ts = svc.predict(X_test3)\n",
    "acc = np.mean(yhat_ts == y_test3)\n",
    "print('Test Accuaracy = {0:f}'.format(acc))"
   ]
  },
  {
   "cell_type": "code",
   "execution_count": 242,
   "metadata": {},
   "outputs": [
    {
     "data": {
      "text/plain": [
       "SVC(C=0.1)"
      ]
     },
     "execution_count": 242,
     "metadata": {},
     "output_type": "execute_result"
    }
   ],
   "source": [
    "# rbf kernel svm C = 0.1\n",
    "svc = svm.SVC(C = 0.1, probability=False,  kernel=\"rbf\")\n",
    "svc.fit(X_train3,y_train3)"
   ]
  },
  {
   "cell_type": "code",
   "execution_count": 243,
   "metadata": {},
   "outputs": [
    {
     "name": "stdout",
     "output_type": "stream",
     "text": [
      "C = 0.1, X^2\n",
      "Train Accuaracy = 0.693800\n",
      "Test Accuaracy = 0.687333\n"
     ]
    }
   ],
   "source": [
    "print(\"C = 0.1, X^2\")\n",
    "yhat_train = svc.predict(X_train3)\n",
    "acc = np.mean(yhat_train == y_train3)\n",
    "print('Train Accuaracy = {0:f}'.format(acc))\n",
    "\n",
    "yhat_ts = svc.predict(X_test3)\n",
    "acc = np.mean(yhat_ts == y_test3)\n",
    "print('Test Accuaracy = {0:f}'.format(acc))"
   ]
  },
  {
   "cell_type": "code",
   "execution_count": 244,
   "metadata": {},
   "outputs": [
    {
     "data": {
      "text/plain": [
       "SVC(C=0.01)"
      ]
     },
     "execution_count": 244,
     "metadata": {},
     "output_type": "execute_result"
    }
   ],
   "source": [
    "# rbf kernel svm C = 0.01\n",
    "svc = svm.SVC(C = 0.01, probability=False,  kernel=\"rbf\")\n",
    "svc.fit(X_train3,y_train3)"
   ]
  },
  {
   "cell_type": "code",
   "execution_count": 245,
   "metadata": {},
   "outputs": [
    {
     "name": "stdout",
     "output_type": "stream",
     "text": [
      "C = 0.01, X^2\n",
      "Train Accuaracy = 0.530800\n",
      "Test Accuaracy = 0.512000\n"
     ]
    }
   ],
   "source": [
    "print(\"C = 0.01, X^2\")\n",
    "yhat_train = svc.predict(X_train3)\n",
    "acc = np.mean(yhat_train == y_train3)\n",
    "print('Train Accuaracy = {0:f}'.format(acc))\n",
    "\n",
    "yhat_ts = svc.predict(X_test3)\n",
    "acc = np.mean(yhat_ts == y_test3)\n",
    "print('Test Accuaracy = {0:f}'.format(acc))"
   ]
  },
  {
   "cell_type": "code",
   "execution_count": 246,
   "metadata": {},
   "outputs": [
    {
     "data": {
      "text/plain": [
       "SVC(C=0.001)"
      ]
     },
     "execution_count": 246,
     "metadata": {},
     "output_type": "execute_result"
    }
   ],
   "source": [
    "# rbf kernel svm C = 0.001\n",
    "svc = svm.SVC(C = 0.001, probability=False,  kernel=\"rbf\")\n",
    "svc.fit(X_train3,y_train3)"
   ]
  },
  {
   "cell_type": "code",
   "execution_count": 247,
   "metadata": {},
   "outputs": [
    {
     "name": "stdout",
     "output_type": "stream",
     "text": [
      "C = 0.001, X^2\n",
      "Train Accuaracy = 0.510800\n",
      "Test Accuaracy = 0.498667\n"
     ]
    }
   ],
   "source": [
    "print(\"C = 0.001, X^2\")\n",
    "yhat_train = svc.predict(X_train3)\n",
    "acc = np.mean(yhat_train == y_train3)\n",
    "print('Train Accuaracy = {0:f}'.format(acc))\n",
    "\n",
    "yhat_ts = svc.predict(X_test3)\n",
    "acc = np.mean(yhat_ts == y_test3)\n",
    "print('Test Accuaracy = {0:f}'.format(acc))"
   ]
  },
  {
   "cell_type": "code",
   "execution_count": 248,
   "metadata": {},
   "outputs": [
    {
     "data": {
      "text/plain": [
       "SVC(C=0.0001)"
      ]
     },
     "execution_count": 248,
     "metadata": {},
     "output_type": "execute_result"
    }
   ],
   "source": [
    "# rbf kernel svm C = 0.0001\n",
    "svc = svm.SVC(C = 0.0001, probability=False,  kernel=\"rbf\")\n",
    "svc.fit(X_train3,y_train3)"
   ]
  },
  {
   "cell_type": "code",
   "execution_count": 249,
   "metadata": {},
   "outputs": [
    {
     "name": "stdout",
     "output_type": "stream",
     "text": [
      "C = 0.0001, X^2\n",
      "Train Accuaracy = 0.510800\n",
      "Test Accuaracy = 0.498667\n"
     ]
    }
   ],
   "source": [
    "print(\"C = 0.0001, X^2\")\n",
    "yhat_train = svc.predict(X_train3)\n",
    "acc = np.mean(yhat_train == y_train3)\n",
    "print('Train Accuaracy = {0:f}'.format(acc))\n",
    "\n",
    "yhat_ts = svc.predict(X_test3)\n",
    "acc = np.mean(yhat_ts == y_test3)\n",
    "print('Test Accuaracy = {0:f}'.format(acc))"
   ]
  },
  {
   "cell_type": "code",
   "execution_count": 251,
   "metadata": {},
   "outputs": [
    {
     "data": {
      "text/plain": [
       "SVC(degree=1, kernel='poly')"
      ]
     },
     "execution_count": 251,
     "metadata": {},
     "output_type": "execute_result"
    }
   ],
   "source": [
    "#degree 1 poly kernel (c = 1.0 for all)\n",
    "svc2 = svm.SVC(degree = 1, probability=False,  kernel=\"poly\") \n",
    "svc2.fit(X_train3,y_train3)"
   ]
  },
  {
   "cell_type": "code",
   "execution_count": 253,
   "metadata": {},
   "outputs": [
    {
     "name": "stdout",
     "output_type": "stream",
     "text": [
      "degree = 1, X^2\n",
      "Train Accuaracy = 0.849000\n",
      "Test Accuaracy = 0.854333\n"
     ]
    }
   ],
   "source": [
    "print(\"degree = 1, X^2\")\n",
    "yhat_train = svc2.predict(X_train3)\n",
    "acc = np.mean(yhat_train == y_train3)\n",
    "print('Train Accuaracy = {0:f}'.format(acc))\n",
    "\n",
    "yhat_ts = svc2.predict(X_test3)\n",
    "acc = np.mean(yhat_ts == y_test3)\n",
    "print('Test Accuaracy = {0:f}'.format(acc))"
   ]
  },
  {
   "cell_type": "code",
   "execution_count": 254,
   "metadata": {},
   "outputs": [
    {
     "data": {
      "text/plain": [
       "SVC(degree=2, kernel='poly')"
      ]
     },
     "execution_count": 254,
     "metadata": {},
     "output_type": "execute_result"
    }
   ],
   "source": [
    "#degree 2 poly kernel (c = 1.0 for all)\n",
    "svc2 = svm.SVC(degree = 2, probability=False,  kernel=\"poly\") \n",
    "svc2.fit(X_train3,y_train3)"
   ]
  },
  {
   "cell_type": "code",
   "execution_count": 255,
   "metadata": {},
   "outputs": [
    {
     "name": "stdout",
     "output_type": "stream",
     "text": [
      "degree = 2, X^2\n",
      "Train Accuaracy = 0.861000\n",
      "Test Accuaracy = 0.865333\n"
     ]
    }
   ],
   "source": [
    "print(\"degree = 2, X^2\")\n",
    "yhat_train = svc2.predict(X_train3)\n",
    "acc = np.mean(yhat_train == y_train3)\n",
    "print('Train Accuaracy = {0:f}'.format(acc))\n",
    "\n",
    "yhat_ts = svc2.predict(X_test3)\n",
    "acc = np.mean(yhat_ts == y_test3)\n",
    "print('Test Accuaracy = {0:f}'.format(acc))"
   ]
  },
  {
   "cell_type": "code",
   "execution_count": 256,
   "metadata": {},
   "outputs": [
    {
     "data": {
      "text/plain": [
       "SVC(kernel='poly')"
      ]
     },
     "execution_count": 256,
     "metadata": {},
     "output_type": "execute_result"
    }
   ],
   "source": [
    "#degree 3 poly kernel (c = 1.0 for all)\n",
    "svc2 = svm.SVC(degree = 3, probability=False,  kernel=\"poly\") \n",
    "svc2.fit(X_train3,y_train3)"
   ]
  },
  {
   "cell_type": "code",
   "execution_count": 257,
   "metadata": {},
   "outputs": [
    {
     "name": "stdout",
     "output_type": "stream",
     "text": [
      "degree = 3, X^2\n",
      "Train Accuaracy = 0.865200\n",
      "Test Accuaracy = 0.871333\n"
     ]
    }
   ],
   "source": [
    "print(\"degree = 3, X^2\")\n",
    "yhat_train = svc2.predict(X_train3)\n",
    "acc = np.mean(yhat_train == y_train3)\n",
    "print('Train Accuaracy = {0:f}'.format(acc))\n",
    "\n",
    "yhat_ts = svc2.predict(X_test3)\n",
    "acc = np.mean(yhat_ts == y_test3)\n",
    "print('Test Accuaracy = {0:f}'.format(acc))"
   ]
  },
  {
   "cell_type": "code",
   "execution_count": 258,
   "metadata": {},
   "outputs": [
    {
     "data": {
      "text/plain": [
       "SVC(degree=4, kernel='poly')"
      ]
     },
     "execution_count": 258,
     "metadata": {},
     "output_type": "execute_result"
    }
   ],
   "source": [
    "#degree 4 poly kernel (c = 1.0 for all)\n",
    "svc2 = svm.SVC(degree = 4, probability=False,  kernel=\"poly\") \n",
    "svc2.fit(X_train3,y_train3)"
   ]
  },
  {
   "cell_type": "code",
   "execution_count": 259,
   "metadata": {},
   "outputs": [
    {
     "name": "stdout",
     "output_type": "stream",
     "text": [
      "degree = 4, X^2\n",
      "Train Accuaracy = 0.868200\n",
      "Test Accuaracy = 0.874667\n"
     ]
    }
   ],
   "source": [
    "print(\"degree = 4, X^2\")\n",
    "yhat_train = svc2.predict(X_train3)\n",
    "acc = np.mean(yhat_train == y_train3)\n",
    "print('Train Accuaracy = {0:f}'.format(acc))\n",
    "\n",
    "yhat_ts = svc2.predict(X_test3)\n",
    "acc = np.mean(yhat_ts == y_test3)\n",
    "print('Test Accuaracy = {0:f}'.format(acc))"
   ]
  },
  {
   "cell_type": "code",
   "execution_count": 260,
   "metadata": {},
   "outputs": [
    {
     "data": {
      "text/plain": [
       "SVC(degree=5, kernel='poly')"
      ]
     },
     "execution_count": 260,
     "metadata": {},
     "output_type": "execute_result"
    }
   ],
   "source": [
    "#degree 5 poly kernel (c = 1.0 for all)\n",
    "svc2 = svm.SVC(degree = 5, probability=False,  kernel=\"poly\") \n",
    "svc2.fit(X_train3,y_train3)"
   ]
  },
  {
   "cell_type": "code",
   "execution_count": 261,
   "metadata": {},
   "outputs": [
    {
     "name": "stdout",
     "output_type": "stream",
     "text": [
      "degree = 5, X^2\n",
      "Train Accuaracy = 0.874200\n",
      "Test Accuaracy = 0.876000\n"
     ]
    }
   ],
   "source": [
    "print(\"degree = 5, X^2\")\n",
    "yhat_train = svc2.predict(X_train3)\n",
    "acc = np.mean(yhat_train == y_train3)\n",
    "print('Train Accuaracy = {0:f}'.format(acc))\n",
    "\n",
    "yhat_ts = svc2.predict(X_test3)\n",
    "acc = np.mean(yhat_ts == y_test3)\n",
    "print('Test Accuaracy = {0:f}'.format(acc))"
   ]
  },
  {
   "cell_type": "code",
   "execution_count": 262,
   "metadata": {},
   "outputs": [
    {
     "data": {
      "text/plain": [
       "SVC(degree=6, kernel='poly')"
      ]
     },
     "execution_count": 262,
     "metadata": {},
     "output_type": "execute_result"
    }
   ],
   "source": [
    "#degree 6 poly kernel (c = 1.0 for all)\n",
    "svc2 = svm.SVC(degree = 6, probability=False,  kernel=\"poly\") \n",
    "svc2.fit(X_train3,y_train3)"
   ]
  },
  {
   "cell_type": "code",
   "execution_count": 263,
   "metadata": {},
   "outputs": [
    {
     "name": "stdout",
     "output_type": "stream",
     "text": [
      "degree = 6, X^2\n",
      "Train Accuaracy = 0.878400\n",
      "Test Accuaracy = 0.882333\n"
     ]
    }
   ],
   "source": [
    "print(\"degree = 6, X^2\")\n",
    "yhat_train = svc2.predict(X_train3)\n",
    "acc = np.mean(yhat_train == y_train3)\n",
    "print('Train Accuaracy = {0:f}'.format(acc))\n",
    "\n",
    "yhat_ts = svc2.predict(X_test3)\n",
    "acc = np.mean(yhat_ts == y_test3)\n",
    "print('Test Accuaracy = {0:f}'.format(acc))"
   ]
  },
  {
   "cell_type": "code",
   "execution_count": 266,
   "metadata": {},
   "outputs": [
    {
     "data": {
      "text/plain": [
       "SVC(degree=7, kernel='poly')"
      ]
     },
     "execution_count": 266,
     "metadata": {},
     "output_type": "execute_result"
    }
   ],
   "source": [
    "#degree 7 poly kernel (c = 1.0 for all)\n",
    "svc2 = svm.SVC(degree = 7, probability=False,  kernel=\"poly\") \n",
    "svc2.fit(X_train3,y_train3)"
   ]
  },
  {
   "cell_type": "code",
   "execution_count": 267,
   "metadata": {},
   "outputs": [
    {
     "name": "stdout",
     "output_type": "stream",
     "text": [
      "degree = 7, X^2\n",
      "Train Accuaracy = 0.882200\n",
      "Test Accuaracy = 0.886333\n"
     ]
    }
   ],
   "source": [
    "print(\"degree = 7, X^2\")\n",
    "yhat_train = svc2.predict(X_train3)\n",
    "acc = np.mean(yhat_train == y_train3)\n",
    "print('Train Accuaracy = {0:f}'.format(acc))\n",
    "\n",
    "yhat_ts = svc2.predict(X_test3)\n",
    "acc = np.mean(yhat_ts == y_test3)\n",
    "print('Test Accuaracy = {0:f}'.format(acc))"
   ]
  },
  {
   "cell_type": "code",
   "execution_count": 269,
   "metadata": {},
   "outputs": [
    {
     "data": {
      "text/plain": [
       "SVC(degree=8, kernel='poly')"
      ]
     },
     "execution_count": 269,
     "metadata": {},
     "output_type": "execute_result"
    }
   ],
   "source": [
    "#degree 8 poly kernel (c = 1.0 for all)\n",
    "svc2 = svm.SVC(degree = 8, probability=False,  kernel=\"poly\") \n",
    "svc2.fit(X_train3,y_train3)"
   ]
  },
  {
   "cell_type": "code",
   "execution_count": 270,
   "metadata": {},
   "outputs": [
    {
     "name": "stdout",
     "output_type": "stream",
     "text": [
      "degree = 8, X^2\n",
      "Train Accuaracy = 0.884600\n",
      "Test Accuaracy = 0.886667\n"
     ]
    }
   ],
   "source": [
    "print(\"degree = 8, X^2\")\n",
    "yhat_train = svc2.predict(X_train3)\n",
    "acc = np.mean(yhat_train == y_train3)\n",
    "print('Train Accuaracy = {0:f}'.format(acc))\n",
    "\n",
    "yhat_ts = svc2.predict(X_test3)\n",
    "acc = np.mean(yhat_ts == y_test3)\n",
    "print('Test Accuaracy = {0:f}'.format(acc))"
   ]
  },
  {
   "cell_type": "code",
   "execution_count": 271,
   "metadata": {},
   "outputs": [
    {
     "data": {
      "text/plain": [
       "SVC(degree=9, kernel='poly')"
      ]
     },
     "execution_count": 271,
     "metadata": {},
     "output_type": "execute_result"
    }
   ],
   "source": [
    "#degree 9 poly kernel (c = 1.0 for all)\n",
    "svc2 = svm.SVC(degree = 9, probability=False,  kernel=\"poly\") \n",
    "svc2.fit(X_train3,y_train3)"
   ]
  },
  {
   "cell_type": "code",
   "execution_count": 272,
   "metadata": {},
   "outputs": [
    {
     "name": "stdout",
     "output_type": "stream",
     "text": [
      "degree = 9, X^2\n",
      "Train Accuaracy = 0.885000\n",
      "Test Accuaracy = 0.885000\n"
     ]
    }
   ],
   "source": [
    "print(\"degree = 9, X^2\")\n",
    "yhat_train = svc2.predict(X_train3)\n",
    "acc = np.mean(yhat_train == y_train3)\n",
    "print('Train Accuaracy = {0:f}'.format(acc))\n",
    "\n",
    "yhat_ts = svc2.predict(X_test3)\n",
    "acc = np.mean(yhat_ts == y_test3)\n",
    "print('Test Accuaracy = {0:f}'.format(acc))"
   ]
  },
  {
   "cell_type": "code",
   "execution_count": 273,
   "metadata": {},
   "outputs": [
    {
     "data": {
      "text/plain": [
       "SVC(degree=10, kernel='poly')"
      ]
     },
     "execution_count": 273,
     "metadata": {},
     "output_type": "execute_result"
    }
   ],
   "source": [
    "#degree 10 poly kernel (c = 1.0 for all)\n",
    "svc2 = svm.SVC(degree = 10, probability=False,  kernel=\"poly\") \n",
    "svc2.fit(X_train3,y_train3)"
   ]
  },
  {
   "cell_type": "code",
   "execution_count": 274,
   "metadata": {},
   "outputs": [
    {
     "name": "stdout",
     "output_type": "stream",
     "text": [
      "degree = 10, X^2\n",
      "Train Accuaracy = 0.881600\n",
      "Test Accuaracy = 0.881667\n"
     ]
    }
   ],
   "source": [
    "print(\"degree = 10, X^2\")\n",
    "yhat_train = svc2.predict(X_train3)\n",
    "acc = np.mean(yhat_train == y_train3)\n",
    "print('Train Accuaracy = {0:f}'.format(acc))\n",
    "\n",
    "yhat_ts = svc2.predict(X_test3)\n",
    "acc = np.mean(yhat_ts == y_test3)\n",
    "print('Test Accuaracy = {0:f}'.format(acc))"
   ]
  },
  {
   "cell_type": "code",
   "execution_count": null,
   "metadata": {},
   "outputs": [],
   "source": []
  },
  {
   "cell_type": "code",
   "execution_count": 333,
   "metadata": {},
   "outputs": [],
   "source": [
    "from sklearn.linear_model import LogisticRegression\n",
    "X_train2 = X_train2[0:5000,:]\n",
    "y_train = y_train[0:5000]\n",
    "y_test = y_test[0:3000]\n",
    "X_test2 = X_test[0:3000,:]\n",
    "X_scale = preprocessing.StandardScaler().fit_transform(X_train2)\n",
    "X_scale_test = preprocessing.StandardScaler().fit_transform(X_test2)\n",
    "X_scale2 = preprocessing.StandardScaler().fit_transform(X_train3)\n",
    "X_scale_test2 = preprocessing.StandardScaler().fit_transform(X_test3)"
   ]
  },
  {
   "cell_type": "code",
   "execution_count": 338,
   "metadata": {},
   "outputs": [
    {
     "name": "stdout",
     "output_type": "stream",
     "text": [
      "L2 values, X\n",
      "C = 0.000010\n",
      "Accuracy on training data = 0.656000\n",
      "Accuracy on testing data = 0.639000\n",
      "C = 0.000100\n",
      "Accuracy on training data = 0.848000\n",
      "Accuracy on testing data = 0.837333\n",
      "C = 0.001000\n",
      "Accuracy on training data = 0.870400\n",
      "Accuracy on testing data = 0.864000\n",
      "C = 0.010000\n",
      "Accuracy on training data = 0.904600\n",
      "Accuracy on testing data = 0.900333\n",
      "C = 0.100000\n",
      "Accuracy on training data = 0.920000\n",
      "Accuracy on testing data = 0.916000\n",
      "C = 1.000000\n",
      "Accuracy on training data = 0.932400\n",
      "Accuracy on testing data = 0.928333\n",
      "C = 10.000000\n",
      "Accuracy on training data = 0.933800\n",
      "Accuracy on testing data = 0.931667\n",
      "C = 100.000000\n",
      "Accuracy on training data = 0.935000\n",
      "Accuracy on testing data = 0.931667\n",
      "C = 1000.000000\n",
      "Accuracy on training data = 0.935200\n",
      "Accuracy on testing data = 0.931667\n",
      "C = 10000.000000\n",
      "Accuracy on training data = 0.935200\n",
      "Accuracy on testing data = 0.931667\n"
     ]
    }
   ],
   "source": [
    "C_val = [0.00001,0.0001,0.001,0.01,0.1,1,10,100,1000,10000]\n",
    "print(\"L2 values, X\")\n",
    "for i in range(len(C_val)):\n",
    "    logreg = LogisticRegression(C=C_val[i], max_iter=10000,solver=\"saga\")\n",
    "    logreg.fit(X_scale, y_train)\n",
    "    print(\"C = %f\" %C_val[i])\n",
    "    y_hat_logreg = logreg.predict(X_scale)\n",
    "    acc_logreg = logreg.score(X_scale, y_train)\n",
    "    print(\"Accuracy on training data = %f\" % acc_logreg)\n",
    "\n",
    "    y_hat_logreg2 = logreg.predict(X_scale_test)\n",
    "    acc_logreg = logreg.score(X_scale_test, y_test)\n",
    "    print(\"Accuracy on testing data = %f\" % acc_logreg)"
   ]
  },
  {
   "cell_type": "code",
   "execution_count": 339,
   "metadata": {},
   "outputs": [
    {
     "name": "stdout",
     "output_type": "stream",
     "text": [
      "L1 values, X\n",
      "C = 0.000010\n",
      "Accuracy on training data = 0.510800\n",
      "Accuracy on testing data = 0.498667\n",
      "C = 0.000100\n",
      "Accuracy on training data = 0.510800\n",
      "Accuracy on testing data = 0.498667\n",
      "C = 0.001000\n",
      "Accuracy on training data = 0.852800\n",
      "Accuracy on testing data = 0.852667\n",
      "C = 0.010000\n",
      "Accuracy on training data = 0.898000\n",
      "Accuracy on testing data = 0.897000\n",
      "C = 0.100000\n",
      "Accuracy on training data = 0.934400\n",
      "Accuracy on testing data = 0.923000\n",
      "C = 1.000000\n",
      "Accuracy on training data = 0.934200\n",
      "Accuracy on testing data = 0.931000\n",
      "C = 10.000000\n",
      "Accuracy on training data = 0.935000\n",
      "Accuracy on testing data = 0.931667\n",
      "C = 100.000000\n",
      "Accuracy on training data = 0.935200\n",
      "Accuracy on testing data = 0.931667\n",
      "C = 1000.000000\n",
      "Accuracy on training data = 0.935200\n",
      "Accuracy on testing data = 0.931667\n",
      "C = 10000.000000\n",
      "Accuracy on training data = 0.935200\n",
      "Accuracy on testing data = 0.931667\n"
     ]
    }
   ],
   "source": [
    "C_val = [0.00001,0.0001,0.001,0.01,0.1,1,10,100,1000,10000]\n",
    "print(\"L1 values, X\")\n",
    "for i in range(len(C_val)):\n",
    "    logreg = LogisticRegression(C=C_val[i], max_iter=10000,solver=\"saga\",penalty = \"l1\")\n",
    "    logreg.fit(X_scale, y_train)\n",
    "    print(\"C = %f\" %C_val[i])\n",
    "    y_hat_logreg = logreg.predict(X_scale)\n",
    "    acc_logreg = logreg.score(X_scale, y_train)\n",
    "    print(\"Accuracy on training data = %f\" % acc_logreg)\n",
    "\n",
    "    y_hat_logreg2 = logreg.predict(X_scale_test)\n",
    "    acc_logreg = logreg.score(X_scale_test, y_test)\n",
    "    print(\"Accuracy on testing data = %f\" % acc_logreg)"
   ]
  },
  {
   "cell_type": "code",
   "execution_count": null,
   "metadata": {},
   "outputs": [],
   "source": []
  },
  {
   "cell_type": "code",
   "execution_count": null,
   "metadata": {},
   "outputs": [],
   "source": []
  },
  {
   "cell_type": "code",
   "execution_count": null,
   "metadata": {},
   "outputs": [],
   "source": []
  },
  {
   "cell_type": "code",
   "execution_count": null,
   "metadata": {},
   "outputs": [],
   "source": []
  },
  {
   "cell_type": "code",
   "execution_count": 334,
   "metadata": {},
   "outputs": [
    {
     "name": "stdout",
     "output_type": "stream",
     "text": [
      "L2 values, X^2\n",
      "C = 0.000010\n",
      "Accuracy on training data = 0.838400\n",
      "Accuracy on testing data = 0.833333\n",
      "C = 0.000100\n",
      "Accuracy on training data = 0.866200\n",
      "Accuracy on testing data = 0.861000\n",
      "C = 0.001000\n",
      "Accuracy on training data = 0.901600\n",
      "Accuracy on testing data = 0.894667\n",
      "C = 0.010000\n",
      "Accuracy on training data = 0.924000\n",
      "Accuracy on testing data = 0.916333\n",
      "C = 0.100000\n",
      "Accuracy on training data = 0.935000\n",
      "Accuracy on testing data = 0.930000\n",
      "C = 1.000000\n",
      "Accuracy on training data = 0.940200\n",
      "Accuracy on testing data = 0.928000\n",
      "C = 10.000000\n",
      "Accuracy on training data = 0.941600\n",
      "Accuracy on testing data = 0.927000\n",
      "C = 100.000000\n",
      "Accuracy on training data = 0.942200\n",
      "Accuracy on testing data = 0.926667\n",
      "C = 1000.000000\n",
      "Accuracy on training data = 0.942200\n",
      "Accuracy on testing data = 0.926667\n",
      "C = 10000.000000\n",
      "Accuracy on training data = 0.942200\n",
      "Accuracy on testing data = 0.926667\n"
     ]
    }
   ],
   "source": [
    "C_val = [0.00001,0.0001,0.001,0.01,0.1,1,10,100,1000,10000]\n",
    "print(\"L2 values, X^2\")\n",
    "for i in range(len(C_val)):\n",
    "    logreg = LogisticRegression(C=C_val[i], max_iter=10000,solver=\"saga\")\n",
    "    logreg.fit(X_scale2, y_train3)\n",
    "    print(\"C = %f\" %C_val[i])\n",
    "    y_hat_logreg = logreg.predict(X_scale2)\n",
    "    acc_logreg = logreg.score(X_scale2, y_train3)\n",
    "    print(\"Accuracy on training data = %f\" % acc_logreg)\n",
    "\n",
    "    y_hat_logreg2 = logreg.predict(X_scale_test2)\n",
    "    acc_logreg = logreg.score(X_scale_test2, y_test3)\n",
    "    print(\"Accuracy on testing data = %f\" % acc_logreg)"
   ]
  },
  {
   "cell_type": "code",
   "execution_count": 335,
   "metadata": {},
   "outputs": [
    {
     "name": "stdout",
     "output_type": "stream",
     "text": [
      "L1 values,X^2\n",
      "C = 0.000010\n",
      "Accuracy on training data = 0.510800\n",
      "Accuracy on testing data = 0.498667\n",
      "C = 0.000100\n",
      "Accuracy on training data = 0.510800\n",
      "Accuracy on testing data = 0.498667\n",
      "C = 0.001000\n",
      "Accuracy on training data = 0.852600\n",
      "Accuracy on testing data = 0.852000\n",
      "C = 0.010000\n",
      "Accuracy on training data = 0.911600\n",
      "Accuracy on testing data = 0.904000\n",
      "C = 0.100000\n",
      "Accuracy on training data = 0.934800\n",
      "Accuracy on testing data = 0.925333\n",
      "C = 1.000000\n",
      "Accuracy on training data = 0.941400\n",
      "Accuracy on testing data = 0.927000\n",
      "C = 10.000000\n",
      "Accuracy on training data = 0.941800\n",
      "Accuracy on testing data = 0.926333\n",
      "C = 100.000000\n",
      "Accuracy on training data = 0.942200\n",
      "Accuracy on testing data = 0.926667\n",
      "C = 1000.000000\n",
      "Accuracy on training data = 0.942200\n",
      "Accuracy on testing data = 0.926667\n",
      "C = 10000.000000\n",
      "Accuracy on training data = 0.942200\n",
      "Accuracy on testing data = 0.926667\n"
     ]
    }
   ],
   "source": [
    "print(\"L1 values,X^2\")\n",
    "for i in range(len(C_val)):\n",
    "    logreg = LogisticRegression(C=C_val[i], max_iter=10000, penalty = \"l1\",solver=\"saga\")\n",
    "    logreg.fit(X_scale2, y_train3)\n",
    "    print(\"C = %f\" %C_val[i])\n",
    "    y_hat_logreg = logreg.predict(X_scale2)\n",
    "    acc_logreg = logreg.score(X_scale2, y_train3)\n",
    "    print(\"Accuracy on training data = %f\" % acc_logreg)\n",
    "\n",
    "    y_hat_logreg2 = logreg.predict(X_scale_test2)\n",
    "    acc_logreg = logreg.score(X_scale_test2, y_test3)\n",
    "    print(\"Accuracy on testing data = %f\" % acc_logreg)"
   ]
  },
  {
   "cell_type": "code",
   "execution_count": 356,
   "metadata": {},
   "outputs": [
    {
     "name": "stdout",
     "output_type": "stream",
     "text": [
      "Accuracy on training data = 0.943150\n"
     ]
    }
   ],
   "source": [
    "from sklearn import metrics\n",
    "X_train_new = X_train[0:20000,:]\n",
    "poly = PolynomialFeatures(2)\n",
    "X_train2_s = poly.fit_transform(X_train_new)\n",
    "X_scale2 = preprocessing.StandardScaler().fit_transform(X_train2_s)\n",
    "logreg = LogisticRegression(C = 1, max_iter=10000,solver=\"saga\")\n",
    "logreg.fit(X_scale2, y_train2)\n",
    "y_hat_logreg = logreg.predict(X_scale2)\n",
    "acc_logreg = logreg.score(X_scale2, y_train2)\n",
    "print(\"Accuracy on training data = %f\" % acc_logreg)"
   ]
  },
  {
   "cell_type": "code",
   "execution_count": 359,
   "metadata": {},
   "outputs": [
    {
     "data": {
      "image/png": "[encoded data removed]",
      "text/plain": [
       "<Figure size 640x480 with 2 Axes>"
      ]
     },
     "metadata": {},
     "output_type": "display_data"
    }
   ],
   "source": [
    "\n",
    "confusion_matrix = metrics.confusion_matrix(y_train2, y_hat_logreg)\n",
    "cm_display = metrics.ConfusionMatrixDisplay(confusion_matrix = confusion_matrix, display_labels = [\"False\", \"True\"])\n",
    "cm_display.plot()\n",
    "plt.show()"
   ]
  },
  {
   "cell_type": "code",
   "execution_count": 362,
   "metadata": {},
   "outputs": [
    {
     "name": "stdout",
     "output_type": "stream",
     "text": [
      "Accuracy = 0.943150\n",
      "Precision = 0.941171\n",
      "Sensitivity/Recall = 0.945223\n",
      "Specificity = 0.941082\n",
      "F1 score = 0.943193\n"
     ]
    }
   ],
   "source": [
    "Accuracy = metrics.accuracy_score(y_train2, y_hat_logreg)\n",
    "print(\"Accuracy = %f\" % Accuracy)\n",
    "Precision = metrics.precision_score(y_train2, y_hat_logreg)\n",
    "print(\"Precision = %f\" % Precision)\n",
    "Sensitivity_recall = metrics.recall_score(y_train2, y_hat_logreg)\n",
    "print(\"Sensitivity/Recall = %f\" % Sensitivity_recall)\n",
    "Specificity = metrics.recall_score(y_train2, y_hat_logreg,pos_label=0)\n",
    "print(\"Specificity = %f\" % Specificity)\n",
    "F1_score = metrics.f1_score(y_train2, y_hat_logreg)\n",
    "print(\"F1 score = %f\" % F1_score)"
   ]
  },
  {
   "cell_type": "code",
   "execution_count": 381,
   "metadata": {},
   "outputs": [],
   "source": [
    "new_clean_classification = clean_regression.copy()"
   ]
  },
  {
   "cell_type": "code",
   "execution_count": 374,
   "metadata": {},
   "outputs": [
    {
     "name": "stdout",
     "output_type": "stream",
     "text": [
      "16186\n"
     ]
    }
   ],
   "source": [
    "print(new_clean_classification[\"total_sales_price\"][200000])"
   ]
  },
  {
   "cell_type": "code",
   "execution_count": 382,
   "metadata": {},
   "outputs": [
    {
     "name": "stderr",
     "output_type": "stream",
     "text": [
      "/var/folders/qh/_8d282g95dz3yjwwq937nb4h0000gn/T/ipykernel_34273/1814799757.py:3: SettingWithCopyWarning: \n",
      "A value is trying to be set on a copy of a slice from a DataFrame\n",
      "\n",
      "See the caveats in the documentation: https://pandas.pydata.org/pandas-docs/stable/user_guide/indexing.html#returning-a-view-versus-a-copy\n",
      "  new_clean_classification['total_sales_price'][i] = 0\n",
      "/var/folders/qh/_8d282g95dz3yjwwq937nb4h0000gn/T/ipykernel_34273/1814799757.py:5: SettingWithCopyWarning: \n",
      "A value is trying to be set on a copy of a slice from a DataFrame\n",
      "\n",
      "See the caveats in the documentation: https://pandas.pydata.org/pandas-docs/stable/user_guide/indexing.html#returning-a-view-versus-a-copy\n",
      "  new_clean_classification['total_sales_price'][i] = 1\n",
      "/var/folders/qh/_8d282g95dz3yjwwq937nb4h0000gn/T/ipykernel_34273/1814799757.py:7: SettingWithCopyWarning: \n",
      "A value is trying to be set on a copy of a slice from a DataFrame\n",
      "\n",
      "See the caveats in the documentation: https://pandas.pydata.org/pandas-docs/stable/user_guide/indexing.html#returning-a-view-versus-a-copy\n",
      "  new_clean_classification['total_sales_price'][i] = 2\n",
      "/var/folders/qh/_8d282g95dz3yjwwq937nb4h0000gn/T/ipykernel_34273/1814799757.py:9: SettingWithCopyWarning: \n",
      "A value is trying to be set on a copy of a slice from a DataFrame\n",
      "\n",
      "See the caveats in the documentation: https://pandas.pydata.org/pandas-docs/stable/user_guide/indexing.html#returning-a-view-versus-a-copy\n",
      "  new_clean_classification['total_sales_price'][i] = 3\n",
      "/var/folders/qh/_8d282g95dz3yjwwq937nb4h0000gn/T/ipykernel_34273/1814799757.py:11: SettingWithCopyWarning: \n",
      "A value is trying to be set on a copy of a slice from a DataFrame\n",
      "\n",
      "See the caveats in the documentation: https://pandas.pydata.org/pandas-docs/stable/user_guide/indexing.html#returning-a-view-versus-a-copy\n",
      "  new_clean_classification['total_sales_price'][i] = 4\n",
      "/var/folders/qh/_8d282g95dz3yjwwq937nb4h0000gn/T/ipykernel_34273/1814799757.py:13: SettingWithCopyWarning: \n",
      "A value is trying to be set on a copy of a slice from a DataFrame\n",
      "\n",
      "See the caveats in the documentation: https://pandas.pydata.org/pandas-docs/stable/user_guide/indexing.html#returning-a-view-versus-a-copy\n",
      "  new_clean_classification['total_sales_price'][i] = 5\n",
      "/var/folders/qh/_8d282g95dz3yjwwq937nb4h0000gn/T/ipykernel_34273/1814799757.py:15: SettingWithCopyWarning: \n",
      "A value is trying to be set on a copy of a slice from a DataFrame\n",
      "\n",
      "See the caveats in the documentation: https://pandas.pydata.org/pandas-docs/stable/user_guide/indexing.html#returning-a-view-versus-a-copy\n",
      "  new_clean_classification['total_sales_price'][i] = 6\n",
      "/var/folders/qh/_8d282g95dz3yjwwq937nb4h0000gn/T/ipykernel_34273/1814799757.py:17: SettingWithCopyWarning: \n",
      "A value is trying to be set on a copy of a slice from a DataFrame\n",
      "\n",
      "See the caveats in the documentation: https://pandas.pydata.org/pandas-docs/stable/user_guide/indexing.html#returning-a-view-versus-a-copy\n",
      "  new_clean_classification['total_sales_price'][i] = 7\n",
      "/var/folders/qh/_8d282g95dz3yjwwq937nb4h0000gn/T/ipykernel_34273/1814799757.py:19: SettingWithCopyWarning: \n",
      "A value is trying to be set on a copy of a slice from a DataFrame\n",
      "\n",
      "See the caveats in the documentation: https://pandas.pydata.org/pandas-docs/stable/user_guide/indexing.html#returning-a-view-versus-a-copy\n",
      "  new_clean_classification['total_sales_price'][i] = 8\n",
      "/var/folders/qh/_8d282g95dz3yjwwq937nb4h0000gn/T/ipykernel_34273/1814799757.py:21: SettingWithCopyWarning: \n",
      "A value is trying to be set on a copy of a slice from a DataFrame\n",
      "\n",
      "See the caveats in the documentation: https://pandas.pydata.org/pandas-docs/stable/user_guide/indexing.html#returning-a-view-versus-a-copy\n",
      "  new_clean_classification['total_sales_price'][i] = 9\n"
     ]
    }
   ],
   "source": [
    "for i in range(len(new_clean_classification)):\n",
    "  if new_clean_classification['total_sales_price'][i] < 731:\n",
    "    new_clean_classification['total_sales_price'][i] = 0\n",
    "  elif new_clean_classification['total_sales_price'][i] < 865:\n",
    "    new_clean_classification['total_sales_price'][i] = 1\n",
    "  elif new_clean_classification['total_sales_price'][i] < 1001:\n",
    "    new_clean_classification['total_sales_price'][i] = 2\n",
    "  elif new_clean_classification['total_sales_price'][i] < 1157:\n",
    "    new_clean_classification['total_sales_price'][i] = 3\n",
    "  elif new_clean_classification['total_sales_price'][i] < 2415:\n",
    "    new_clean_classification['total_sales_price'][i] = 4\n",
    "  elif new_clean_classification['total_sales_price'][i] < 3188:\n",
    "    new_clean_classification['total_sales_price'][i] = 5\n",
    "  elif new_clean_classification['total_sales_price'][i] < 4583:\n",
    "    new_clean_classification['total_sales_price'][i] = 6\n",
    "  elif new_clean_classification['total_sales_price'][i] < 8093:\n",
    "    new_clean_classification['total_sales_price'][i] = 7\n",
    "  elif new_clean_classification['total_sales_price'][i] < 16186:\n",
    "    new_clean_classification['total_sales_price'][i] = 8\n",
    "  else:\n",
    "    new_clean_classification['total_sales_price'][i] = 9\n",
    "    "
   ]
  },
  {
   "cell_type": "code",
   "execution_count": 383,
   "metadata": {},
   "outputs": [
    {
     "data": {
      "text/html": [
       "<div>\n",
       "<style scoped>\n",
       "    .dataframe tbody tr th:only-of-type {\n",
       "        vertical-align: middle;\n",
       "    }\n",
       "\n",
       "    .dataframe tbody tr th {\n",
       "        vertical-align: top;\n",
       "    }\n",
       "\n",
       "    .dataframe thead th {\n",
       "        text-align: right;\n",
       "    }\n",
       "</style>\n",
       "<table border=\"1\" class=\"dataframe\">\n",
       "  <thead>\n",
       "    <tr style=\"text-align: right;\">\n",
       "      <th></th>\n",
       "      <th>clarity</th>\n",
       "      <th>carat_weight</th>\n",
       "      <th>lab_GIA</th>\n",
       "      <th>lab_HRD</th>\n",
       "      <th>lab_IGI</th>\n",
       "      <th>symmetry</th>\n",
       "      <th>polish</th>\n",
       "      <th>depth_percent</th>\n",
       "      <th>table_percent</th>\n",
       "      <th>meas_length</th>\n",
       "      <th>meas_width</th>\n",
       "      <th>meas_depth</th>\n",
       "      <th>total_sales_price</th>\n",
       "    </tr>\n",
       "  </thead>\n",
       "  <tbody>\n",
       "    <tr>\n",
       "      <th>0</th>\n",
       "      <td>9</td>\n",
       "      <td>0.09</td>\n",
       "      <td>0</td>\n",
       "      <td>0</td>\n",
       "      <td>1</td>\n",
       "      <td>3</td>\n",
       "      <td>3</td>\n",
       "      <td>62.7</td>\n",
       "      <td>59.0</td>\n",
       "      <td>2.85</td>\n",
       "      <td>2.87</td>\n",
       "      <td>1.79</td>\n",
       "      <td>0</td>\n",
       "    </tr>\n",
       "    <tr>\n",
       "      <th>1</th>\n",
       "      <td>9</td>\n",
       "      <td>0.09</td>\n",
       "      <td>0</td>\n",
       "      <td>0</td>\n",
       "      <td>1</td>\n",
       "      <td>3</td>\n",
       "      <td>3</td>\n",
       "      <td>61.9</td>\n",
       "      <td>59.0</td>\n",
       "      <td>2.84</td>\n",
       "      <td>2.89</td>\n",
       "      <td>1.78</td>\n",
       "      <td>0</td>\n",
       "    </tr>\n",
       "    <tr>\n",
       "      <th>2</th>\n",
       "      <td>9</td>\n",
       "      <td>0.09</td>\n",
       "      <td>0</td>\n",
       "      <td>0</td>\n",
       "      <td>1</td>\n",
       "      <td>3</td>\n",
       "      <td>3</td>\n",
       "      <td>61.1</td>\n",
       "      <td>59.0</td>\n",
       "      <td>2.88</td>\n",
       "      <td>2.90</td>\n",
       "      <td>1.77</td>\n",
       "      <td>0</td>\n",
       "    </tr>\n",
       "    <tr>\n",
       "      <th>3</th>\n",
       "      <td>9</td>\n",
       "      <td>0.09</td>\n",
       "      <td>0</td>\n",
       "      <td>0</td>\n",
       "      <td>1</td>\n",
       "      <td>3</td>\n",
       "      <td>3</td>\n",
       "      <td>62.0</td>\n",
       "      <td>59.0</td>\n",
       "      <td>2.86</td>\n",
       "      <td>2.88</td>\n",
       "      <td>1.78</td>\n",
       "      <td>0</td>\n",
       "    </tr>\n",
       "    <tr>\n",
       "      <th>4</th>\n",
       "      <td>9</td>\n",
       "      <td>0.09</td>\n",
       "      <td>0</td>\n",
       "      <td>0</td>\n",
       "      <td>1</td>\n",
       "      <td>3</td>\n",
       "      <td>4</td>\n",
       "      <td>64.9</td>\n",
       "      <td>58.5</td>\n",
       "      <td>2.79</td>\n",
       "      <td>2.83</td>\n",
       "      <td>1.82</td>\n",
       "      <td>0</td>\n",
       "    </tr>\n",
       "    <tr>\n",
       "      <th>5</th>\n",
       "      <td>9</td>\n",
       "      <td>0.09</td>\n",
       "      <td>0</td>\n",
       "      <td>0</td>\n",
       "      <td>1</td>\n",
       "      <td>3</td>\n",
       "      <td>3</td>\n",
       "      <td>60.8</td>\n",
       "      <td>57.0</td>\n",
       "      <td>2.95</td>\n",
       "      <td>2.99</td>\n",
       "      <td>1.81</td>\n",
       "      <td>0</td>\n",
       "    </tr>\n",
       "    <tr>\n",
       "      <th>6</th>\n",
       "      <td>9</td>\n",
       "      <td>0.09</td>\n",
       "      <td>0</td>\n",
       "      <td>0</td>\n",
       "      <td>1</td>\n",
       "      <td>3</td>\n",
       "      <td>3</td>\n",
       "      <td>64.0</td>\n",
       "      <td>57.0</td>\n",
       "      <td>2.85</td>\n",
       "      <td>2.88</td>\n",
       "      <td>1.84</td>\n",
       "      <td>0</td>\n",
       "    </tr>\n",
       "    <tr>\n",
       "      <th>7</th>\n",
       "      <td>9</td>\n",
       "      <td>0.09</td>\n",
       "      <td>0</td>\n",
       "      <td>0</td>\n",
       "      <td>1</td>\n",
       "      <td>3</td>\n",
       "      <td>3</td>\n",
       "      <td>62.1</td>\n",
       "      <td>59.5</td>\n",
       "      <td>2.86</td>\n",
       "      <td>2.89</td>\n",
       "      <td>1.78</td>\n",
       "      <td>0</td>\n",
       "    </tr>\n",
       "    <tr>\n",
       "      <th>8</th>\n",
       "      <td>9</td>\n",
       "      <td>0.09</td>\n",
       "      <td>0</td>\n",
       "      <td>0</td>\n",
       "      <td>1</td>\n",
       "      <td>3</td>\n",
       "      <td>3</td>\n",
       "      <td>63.5</td>\n",
       "      <td>59.5</td>\n",
       "      <td>2.89</td>\n",
       "      <td>2.92</td>\n",
       "      <td>1.85</td>\n",
       "      <td>0</td>\n",
       "    </tr>\n",
       "    <tr>\n",
       "      <th>9</th>\n",
       "      <td>9</td>\n",
       "      <td>0.09</td>\n",
       "      <td>0</td>\n",
       "      <td>0</td>\n",
       "      <td>1</td>\n",
       "      <td>3</td>\n",
       "      <td>3</td>\n",
       "      <td>63.2</td>\n",
       "      <td>57.0</td>\n",
       "      <td>2.83</td>\n",
       "      <td>2.87</td>\n",
       "      <td>1.80</td>\n",
       "      <td>0</td>\n",
       "    </tr>\n",
       "  </tbody>\n",
       "</table>\n",
       "</div>"
      ],
      "text/plain": [
       "  clarity  carat_weight  lab_GIA  lab_HRD  lab_IGI symmetry polish  \\\n",
       "0       9          0.09        0        0        1        3      3   \n",
       "1       9          0.09        0        0        1        3      3   \n",
       "2       9          0.09        0        0        1        3      3   \n",
       "3       9          0.09        0        0        1        3      3   \n",
       "4       9          0.09        0        0        1        3      4   \n",
       "5       9          0.09        0        0        1        3      3   \n",
       "6       9          0.09        0        0        1        3      3   \n",
       "7       9          0.09        0        0        1        3      3   \n",
       "8       9          0.09        0        0        1        3      3   \n",
       "9       9          0.09        0        0        1        3      3   \n",
       "\n",
       "   depth_percent  table_percent  meas_length  meas_width  meas_depth  \\\n",
       "0           62.7           59.0         2.85        2.87        1.79   \n",
       "1           61.9           59.0         2.84        2.89        1.78   \n",
       "2           61.1           59.0         2.88        2.90        1.77   \n",
       "3           62.0           59.0         2.86        2.88        1.78   \n",
       "4           64.9           58.5         2.79        2.83        1.82   \n",
       "5           60.8           57.0         2.95        2.99        1.81   \n",
       "6           64.0           57.0         2.85        2.88        1.84   \n",
       "7           62.1           59.5         2.86        2.89        1.78   \n",
       "8           63.5           59.5         2.89        2.92        1.85   \n",
       "9           63.2           57.0         2.83        2.87        1.80   \n",
       "\n",
       "   total_sales_price  \n",
       "0                  0  \n",
       "1                  0  \n",
       "2                  0  \n",
       "3                  0  \n",
       "4                  0  \n",
       "5                  0  \n",
       "6                  0  \n",
       "7                  0  \n",
       "8                  0  \n",
       "9                  0  "
      ]
     },
     "execution_count": 383,
     "metadata": {},
     "output_type": "execute_result"
    }
   ],
   "source": [
    "new_clean_classification.head(10)"
   ]
  },
  {
   "cell_type": "code",
   "execution_count": 384,
   "metadata": {},
   "outputs": [],
   "source": [
    "\n",
    "X2 = new_clean_classification[[\"clarity\",\"carat_weight\", \"lab_GIA\",\"lab_HRD\",\"symmetry\",\"polish\",\"depth_percent\",\n",
    "                          \"table_percent\",\"meas_length\",\"meas_width\",\"meas_depth\"]].to_numpy()\n",
    "y2 = new_clean_classification[\"total_sales_price\"]\n",
    "#splitting up the data \n",
    "X_train, X_test, y_train, y_test = train_test_split(\n",
    "    X2, y2,   \n",
    "    test_size = 0.1, random_state=10, shuffle=True\n",
    ")"
   ]
  },
  {
   "cell_type": "code",
   "execution_count": 386,
   "metadata": {},
   "outputs": [
    {
     "name": "stdout",
     "output_type": "stream",
     "text": [
      "Accuracy on training data = 0.556950\n"
     ]
    }
   ],
   "source": [
    "X_train_new = X_train[0:20000,:]\n",
    "y_train_2 = y_train[0:20000]\n",
    "poly = PolynomialFeatures(2)\n",
    "X_train2_s = poly.fit_transform(X_train_new)\n",
    "X_scale2 = preprocessing.StandardScaler().fit_transform(X_train2_s)\n",
    "logreg = LogisticRegression(C = 1, max_iter=10000,solver=\"saga\")\n",
    "logreg.fit(X_scale2, y_train_2)\n",
    "y_hat_logreg = logreg.predict(X_scale2)\n",
    "acc_logreg = logreg.score(X_scale2, y_train_2)\n",
    "print(\"Accuracy on training data = %f\" % acc_logreg)"
   ]
  },
  {
   "cell_type": "code",
   "execution_count": 387,
   "metadata": {},
   "outputs": [
    {
     "ename": "ValueError",
     "evalue": "The number of FixedLocator locations (10), usually from a call to set_ticks, does not match the number of ticklabels (2).",
     "output_type": "error",
     "traceback": [
      "\u001b[0;31m---------------------------------------------------------------------------\u001b[0m",
      "\u001b[0;31mValueError\u001b[0m                                Traceback (most recent call last)",
      "\u001b[0;32m/var/folders/qh/_8d282g95dz3yjwwq937nb4h0000gn/T/ipykernel_34273/1342631511.py\u001b[0m in \u001b[0;36m<module>\u001b[0;34m\u001b[0m\n\u001b[1;32m      1\u001b[0m \u001b[0mconfusion_matrix\u001b[0m \u001b[0;34m=\u001b[0m \u001b[0mmetrics\u001b[0m\u001b[0;34m.\u001b[0m\u001b[0mconfusion_matrix\u001b[0m\u001b[0;34m(\u001b[0m\u001b[0my_train_2\u001b[0m\u001b[0;34m,\u001b[0m \u001b[0my_hat_logreg\u001b[0m\u001b[0;34m)\u001b[0m\u001b[0;34m\u001b[0m\u001b[0;34m\u001b[0m\u001b[0m\n\u001b[1;32m      2\u001b[0m \u001b[0mcm_display\u001b[0m \u001b[0;34m=\u001b[0m \u001b[0mmetrics\u001b[0m\u001b[0;34m.\u001b[0m\u001b[0mConfusionMatrixDisplay\u001b[0m\u001b[0;34m(\u001b[0m\u001b[0mconfusion_matrix\u001b[0m \u001b[0;34m=\u001b[0m \u001b[0mconfusion_matrix\u001b[0m\u001b[0;34m,\u001b[0m \u001b[0mdisplay_labels\u001b[0m \u001b[0;34m=\u001b[0m \u001b[0;34m[\u001b[0m\u001b[0;34m\"False\"\u001b[0m\u001b[0;34m,\u001b[0m \u001b[0;34m\"True\"\u001b[0m\u001b[0;34m]\u001b[0m\u001b[0;34m)\u001b[0m\u001b[0;34m\u001b[0m\u001b[0;34m\u001b[0m\u001b[0m\n\u001b[0;32m----> 3\u001b[0;31m \u001b[0mcm_display\u001b[0m\u001b[0;34m.\u001b[0m\u001b[0mplot\u001b[0m\u001b[0;34m(\u001b[0m\u001b[0;34m)\u001b[0m\u001b[0;34m\u001b[0m\u001b[0;34m\u001b[0m\u001b[0m\n\u001b[0m\u001b[1;32m      4\u001b[0m \u001b[0mplt\u001b[0m\u001b[0;34m.\u001b[0m\u001b[0mshow\u001b[0m\u001b[0;34m(\u001b[0m\u001b[0;34m)\u001b[0m\u001b[0;34m\u001b[0m\u001b[0;34m\u001b[0m\u001b[0m\n",
      "\u001b[0;32m~/opt/anaconda3/lib/python3.9/site-packages/sklearn/metrics/_plot/confusion_matrix.py\u001b[0m in \u001b[0;36mplot\u001b[0;34m(self, include_values, cmap, xticks_rotation, values_format, ax, colorbar)\u001b[0m\n\u001b[1;32m    161\u001b[0m         \u001b[0;32mif\u001b[0m \u001b[0mcolorbar\u001b[0m\u001b[0;34m:\u001b[0m\u001b[0;34m\u001b[0m\u001b[0;34m\u001b[0m\u001b[0m\n\u001b[1;32m    162\u001b[0m             \u001b[0mfig\u001b[0m\u001b[0;34m.\u001b[0m\u001b[0mcolorbar\u001b[0m\u001b[0;34m(\u001b[0m\u001b[0mself\u001b[0m\u001b[0;34m.\u001b[0m\u001b[0mim_\u001b[0m\u001b[0;34m,\u001b[0m \u001b[0max\u001b[0m\u001b[0;34m=\u001b[0m\u001b[0max\u001b[0m\u001b[0;34m)\u001b[0m\u001b[0;34m\u001b[0m\u001b[0;34m\u001b[0m\u001b[0m\n\u001b[0;32m--> 163\u001b[0;31m         ax.set(\n\u001b[0m\u001b[1;32m    164\u001b[0m             \u001b[0mxticks\u001b[0m\u001b[0;34m=\u001b[0m\u001b[0mnp\u001b[0m\u001b[0;34m.\u001b[0m\u001b[0marange\u001b[0m\u001b[0;34m(\u001b[0m\u001b[0mn_classes\u001b[0m\u001b[0;34m)\u001b[0m\u001b[0;34m,\u001b[0m\u001b[0;34m\u001b[0m\u001b[0;34m\u001b[0m\u001b[0m\n\u001b[1;32m    165\u001b[0m             \u001b[0myticks\u001b[0m\u001b[0;34m=\u001b[0m\u001b[0mnp\u001b[0m\u001b[0;34m.\u001b[0m\u001b[0marange\u001b[0m\u001b[0;34m(\u001b[0m\u001b[0mn_classes\u001b[0m\u001b[0;34m)\u001b[0m\u001b[0;34m,\u001b[0m\u001b[0;34m\u001b[0m\u001b[0;34m\u001b[0m\u001b[0m\n",
      "\u001b[0;32m~/opt/anaconda3/lib/python3.9/site-packages/matplotlib/artist.py\u001b[0m in \u001b[0;36m<lambda>\u001b[0;34m(self, **kwargs)\u001b[0m\n\u001b[1;32m    114\u001b[0m             \u001b[0;32mreturn\u001b[0m\u001b[0;34m\u001b[0m\u001b[0;34m\u001b[0m\u001b[0m\n\u001b[1;32m    115\u001b[0m \u001b[0;34m\u001b[0m\u001b[0m\n\u001b[0;32m--> 116\u001b[0;31m         \u001b[0mcls\u001b[0m\u001b[0;34m.\u001b[0m\u001b[0mset\u001b[0m \u001b[0;34m=\u001b[0m \u001b[0;32mlambda\u001b[0m \u001b[0mself\u001b[0m\u001b[0;34m,\u001b[0m \u001b[0;34m**\u001b[0m\u001b[0mkwargs\u001b[0m\u001b[0;34m:\u001b[0m \u001b[0mArtist\u001b[0m\u001b[0;34m.\u001b[0m\u001b[0mset\u001b[0m\u001b[0;34m(\u001b[0m\u001b[0mself\u001b[0m\u001b[0;34m,\u001b[0m \u001b[0;34m**\u001b[0m\u001b[0mkwargs\u001b[0m\u001b[0;34m)\u001b[0m\u001b[0;34m\u001b[0m\u001b[0;34m\u001b[0m\u001b[0m\n\u001b[0m\u001b[1;32m    117\u001b[0m         \u001b[0mcls\u001b[0m\u001b[0;34m.\u001b[0m\u001b[0mset\u001b[0m\u001b[0;34m.\u001b[0m\u001b[0m__name__\u001b[0m \u001b[0;34m=\u001b[0m \u001b[0;34m\"set\"\u001b[0m\u001b[0;34m\u001b[0m\u001b[0;34m\u001b[0m\u001b[0m\n\u001b[1;32m    118\u001b[0m         \u001b[0mcls\u001b[0m\u001b[0;34m.\u001b[0m\u001b[0mset\u001b[0m\u001b[0;34m.\u001b[0m\u001b[0m__qualname__\u001b[0m \u001b[0;34m=\u001b[0m \u001b[0;34mf\"{cls.__qualname__}.set\"\u001b[0m\u001b[0;34m\u001b[0m\u001b[0;34m\u001b[0m\u001b[0m\n",
      "\u001b[0;32m~/opt/anaconda3/lib/python3.9/site-packages/matplotlib/artist.py\u001b[0m in \u001b[0;36mset\u001b[0;34m(self, **kwargs)\u001b[0m\n\u001b[1;32m   1162\u001b[0m         \u001b[0;31m# module.\u001b[0m\u001b[0;34m\u001b[0m\u001b[0;34m\u001b[0m\u001b[0m\n\u001b[1;32m   1163\u001b[0m         \u001b[0mkwargs\u001b[0m \u001b[0;34m=\u001b[0m \u001b[0mcbook\u001b[0m\u001b[0;34m.\u001b[0m\u001b[0mnormalize_kwargs\u001b[0m\u001b[0;34m(\u001b[0m\u001b[0mkwargs\u001b[0m\u001b[0;34m,\u001b[0m \u001b[0mself\u001b[0m\u001b[0;34m)\u001b[0m\u001b[0;34m\u001b[0m\u001b[0;34m\u001b[0m\u001b[0m\n\u001b[0;32m-> 1164\u001b[0;31m         \u001b[0;32mreturn\u001b[0m \u001b[0mself\u001b[0m\u001b[0;34m.\u001b[0m\u001b[0mupdate\u001b[0m\u001b[0;34m(\u001b[0m\u001b[0mkwargs\u001b[0m\u001b[0;34m)\u001b[0m\u001b[0;34m\u001b[0m\u001b[0;34m\u001b[0m\u001b[0m\n\u001b[0m\u001b[1;32m   1165\u001b[0m \u001b[0;34m\u001b[0m\u001b[0m\n\u001b[1;32m   1166\u001b[0m     \u001b[0;34m@\u001b[0m\u001b[0mcontextlib\u001b[0m\u001b[0;34m.\u001b[0m\u001b[0mcontextmanager\u001b[0m\u001b[0;34m\u001b[0m\u001b[0;34m\u001b[0m\u001b[0m\n",
      "\u001b[0;32m~/opt/anaconda3/lib/python3.9/site-packages/matplotlib/artist.py\u001b[0m in \u001b[0;36mupdate\u001b[0;34m(self, props)\u001b[0m\n\u001b[1;32m   1064\u001b[0m                         raise AttributeError(f\"{type(self).__name__!r} object \"\n\u001b[1;32m   1065\u001b[0m                                              f\"has no property {k!r}\")\n\u001b[0;32m-> 1066\u001b[0;31m                     \u001b[0mret\u001b[0m\u001b[0;34m.\u001b[0m\u001b[0mappend\u001b[0m\u001b[0;34m(\u001b[0m\u001b[0mfunc\u001b[0m\u001b[0;34m(\u001b[0m\u001b[0mv\u001b[0m\u001b[0;34m)\u001b[0m\u001b[0;34m)\u001b[0m\u001b[0;34m\u001b[0m\u001b[0;34m\u001b[0m\u001b[0m\n\u001b[0m\u001b[1;32m   1067\u001b[0m         \u001b[0;32mif\u001b[0m \u001b[0mret\u001b[0m\u001b[0;34m:\u001b[0m\u001b[0;34m\u001b[0m\u001b[0;34m\u001b[0m\u001b[0m\n\u001b[1;32m   1068\u001b[0m             \u001b[0mself\u001b[0m\u001b[0;34m.\u001b[0m\u001b[0mpchanged\u001b[0m\u001b[0;34m(\u001b[0m\u001b[0;34m)\u001b[0m\u001b[0;34m\u001b[0m\u001b[0;34m\u001b[0m\u001b[0m\n",
      "\u001b[0;32m~/opt/anaconda3/lib/python3.9/site-packages/matplotlib/axes/_base.py\u001b[0m in \u001b[0;36mwrapper\u001b[0;34m(self, *args, **kwargs)\u001b[0m\n\u001b[1;32m     73\u001b[0m \u001b[0;34m\u001b[0m\u001b[0m\n\u001b[1;32m     74\u001b[0m         \u001b[0;32mdef\u001b[0m \u001b[0mwrapper\u001b[0m\u001b[0;34m(\u001b[0m\u001b[0mself\u001b[0m\u001b[0;34m,\u001b[0m \u001b[0;34m*\u001b[0m\u001b[0margs\u001b[0m\u001b[0;34m,\u001b[0m \u001b[0;34m**\u001b[0m\u001b[0mkwargs\u001b[0m\u001b[0;34m)\u001b[0m\u001b[0;34m:\u001b[0m\u001b[0;34m\u001b[0m\u001b[0;34m\u001b[0m\u001b[0m\n\u001b[0;32m---> 75\u001b[0;31m             \u001b[0;32mreturn\u001b[0m \u001b[0mget_method\u001b[0m\u001b[0;34m(\u001b[0m\u001b[0mself\u001b[0m\u001b[0;34m)\u001b[0m\u001b[0;34m(\u001b[0m\u001b[0;34m*\u001b[0m\u001b[0margs\u001b[0m\u001b[0;34m,\u001b[0m \u001b[0;34m**\u001b[0m\u001b[0mkwargs\u001b[0m\u001b[0;34m)\u001b[0m\u001b[0;34m\u001b[0m\u001b[0;34m\u001b[0m\u001b[0m\n\u001b[0m\u001b[1;32m     76\u001b[0m \u001b[0;34m\u001b[0m\u001b[0m\n\u001b[1;32m     77\u001b[0m         \u001b[0mwrapper\u001b[0m\u001b[0;34m.\u001b[0m\u001b[0m__module__\u001b[0m \u001b[0;34m=\u001b[0m \u001b[0mowner\u001b[0m\u001b[0;34m.\u001b[0m\u001b[0m__module__\u001b[0m\u001b[0;34m\u001b[0m\u001b[0;34m\u001b[0m\u001b[0m\n",
      "\u001b[0;32m~/opt/anaconda3/lib/python3.9/site-packages/matplotlib/axis.py\u001b[0m in \u001b[0;36m_set_ticklabels\u001b[0;34m(self, labels, fontdict, minor, **kwargs)\u001b[0m\n\u001b[1;32m   1796\u001b[0m         \u001b[0;32mif\u001b[0m \u001b[0mfontdict\u001b[0m \u001b[0;32mis\u001b[0m \u001b[0;32mnot\u001b[0m \u001b[0;32mNone\u001b[0m\u001b[0;34m:\u001b[0m\u001b[0;34m\u001b[0m\u001b[0;34m\u001b[0m\u001b[0m\n\u001b[1;32m   1797\u001b[0m             \u001b[0mkwargs\u001b[0m\u001b[0;34m.\u001b[0m\u001b[0mupdate\u001b[0m\u001b[0;34m(\u001b[0m\u001b[0mfontdict\u001b[0m\u001b[0;34m)\u001b[0m\u001b[0;34m\u001b[0m\u001b[0;34m\u001b[0m\u001b[0m\n\u001b[0;32m-> 1798\u001b[0;31m         \u001b[0;32mreturn\u001b[0m \u001b[0mself\u001b[0m\u001b[0;34m.\u001b[0m\u001b[0mset_ticklabels\u001b[0m\u001b[0;34m(\u001b[0m\u001b[0mlabels\u001b[0m\u001b[0;34m,\u001b[0m \u001b[0mminor\u001b[0m\u001b[0;34m=\u001b[0m\u001b[0mminor\u001b[0m\u001b[0;34m,\u001b[0m \u001b[0;34m**\u001b[0m\u001b[0mkwargs\u001b[0m\u001b[0;34m)\u001b[0m\u001b[0;34m\u001b[0m\u001b[0;34m\u001b[0m\u001b[0m\n\u001b[0m\u001b[1;32m   1799\u001b[0m \u001b[0;34m\u001b[0m\u001b[0m\n\u001b[1;32m   1800\u001b[0m     \u001b[0;32mdef\u001b[0m \u001b[0m_set_tick_locations\u001b[0m\u001b[0;34m(\u001b[0m\u001b[0mself\u001b[0m\u001b[0;34m,\u001b[0m \u001b[0mticks\u001b[0m\u001b[0;34m,\u001b[0m \u001b[0;34m*\u001b[0m\u001b[0;34m,\u001b[0m \u001b[0mminor\u001b[0m\u001b[0;34m=\u001b[0m\u001b[0;32mFalse\u001b[0m\u001b[0;34m)\u001b[0m\u001b[0;34m:\u001b[0m\u001b[0;34m\u001b[0m\u001b[0;34m\u001b[0m\u001b[0m\n",
      "\u001b[0;32m~/opt/anaconda3/lib/python3.9/site-packages/matplotlib/axis.py\u001b[0m in \u001b[0;36mset_ticklabels\u001b[0;34m(self, ticklabels, minor, **kwargs)\u001b[0m\n\u001b[1;32m   1718\u001b[0m             \u001b[0;31m# remove all tick labels, so only error for > 0 ticklabels\u001b[0m\u001b[0;34m\u001b[0m\u001b[0;34m\u001b[0m\u001b[0m\n\u001b[1;32m   1719\u001b[0m             \u001b[0;32mif\u001b[0m \u001b[0mlen\u001b[0m\u001b[0;34m(\u001b[0m\u001b[0mlocator\u001b[0m\u001b[0;34m.\u001b[0m\u001b[0mlocs\u001b[0m\u001b[0;34m)\u001b[0m \u001b[0;34m!=\u001b[0m \u001b[0mlen\u001b[0m\u001b[0;34m(\u001b[0m\u001b[0mticklabels\u001b[0m\u001b[0;34m)\u001b[0m \u001b[0;32mand\u001b[0m \u001b[0mlen\u001b[0m\u001b[0;34m(\u001b[0m\u001b[0mticklabels\u001b[0m\u001b[0;34m)\u001b[0m \u001b[0;34m!=\u001b[0m \u001b[0;36m0\u001b[0m\u001b[0;34m:\u001b[0m\u001b[0;34m\u001b[0m\u001b[0;34m\u001b[0m\u001b[0m\n\u001b[0;32m-> 1720\u001b[0;31m                 raise ValueError(\n\u001b[0m\u001b[1;32m   1721\u001b[0m                     \u001b[0;34m\"The number of FixedLocator locations\"\u001b[0m\u001b[0;34m\u001b[0m\u001b[0;34m\u001b[0m\u001b[0m\n\u001b[1;32m   1722\u001b[0m                     \u001b[0;34mf\" ({len(locator.locs)}), usually from a call to\"\u001b[0m\u001b[0;34m\u001b[0m\u001b[0;34m\u001b[0m\u001b[0m\n",
      "\u001b[0;31mValueError\u001b[0m: The number of FixedLocator locations (10), usually from a call to set_ticks, does not match the number of ticklabels (2)."
     ]
    },
    {
     "data": {
      "image/png": "[encoded data removed]",
      "text/plain": [
       "<Figure size 640x480 with 2 Axes>"
      ]
     },
     "metadata": {},
     "output_type": "display_data"
    }
   ],
   "source": [
    "confusion_matrix = metrics.confusion_matrix(y_train_2, y_hat_logreg)\n",
    "cm_display = metrics.ConfusionMatrixDisplay(confusion_matrix = confusion_matrix, display_labels = [\"False\", \"True\"])\n",
    "cm_display.plot()\n",
    "plt.show()"
   ]
  },
  {
   "cell_type": "code",
   "execution_count": null,
   "metadata": {},
   "outputs": [],
   "source": []
  }
 ],
 "metadata": {
  "colab": {
   "provenance": []
  },
  "kernelspec": {
   "display_name": "Python 3 (ipykernel)",
   "language": "python",
   "name": "python3"
  },
  "language_info": {
   "codemirror_mode": {
    "name": "ipython",
    "version": 3
   },
   "file_extension": ".py",
   "mimetype": "text/x-python",
   "name": "python",
   "nbconvert_exporter": "python",
   "pygments_lexer": "ipython3",
   "version": "3.9.13"
  }
 },
 "nbformat": 4,
 "nbformat_minor": 1
}
